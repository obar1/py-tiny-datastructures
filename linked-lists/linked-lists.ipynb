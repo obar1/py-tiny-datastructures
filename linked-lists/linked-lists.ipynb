{
 "cells": [
  {
   "cell_type": "markdown",
   "id": "f999a301",
   "metadata": {},
   "source": [
    "# linked list\n"
   ]
  },
  {
   "cell_type": "markdown",
   "id": "f295ad07",
   "metadata": {},
   "source": [
    "![title](image.png)\n"
   ]
  },
  {
   "cell_type": "code",
   "execution_count": null,
   "id": "a826383d",
   "metadata": {},
   "outputs": [],
   "source": [
    "%run ../node/node.ipynb"
   ]
  },
  {
   "cell_type": "code",
   "execution_count": null,
   "id": "0e6c620f",
   "metadata": {},
   "outputs": [],
   "source": [
    "class LinkedList:\n",
    "    def __init__(self, value):\n",
    "        new_node = Node(value)\n",
    "        self.head = new_node\n",
    "        self.tail = new_node\n",
    "        self.length = 1    \n",
    "    def print_list(self):\n",
    "        temp = self.head\n",
    "        while temp is not None:\n",
    "            yield temp.value\n",
    "            temp = temp.next\n",
    "\n",
    "    def __repr__(self):\n",
    "        return f\"ll:{next(self.print_list())}\""
   ]
  },
  {
   "cell_type": "code",
   "execution_count": 8,
   "id": "02a2cc07",
   "metadata": {},
   "outputs": [],
   "source": [
    "def test_0():\n",
    "    ll = LinkedList(0)\n",
    "    assert ll.length==1"
   ]
  },
  {
   "cell_type": "code",
   "execution_count": 7,
   "id": "e024853f",
   "metadata": {},
   "outputs": [],
   "source": [
    "assert 1==1"
   ]
  },
  {
   "cell_type": "code",
   "execution_count": null,
   "id": "2849c6b0",
   "metadata": {},
   "outputs": [],
   "source": []
  }
 ],
 "metadata": {
  "kernelspec": {
   "display_name": ".venv",
   "language": "python",
   "name": "python3"
  },
  "language_info": {
   "codemirror_mode": {
    "name": "ipython",
    "version": 3
   },
   "file_extension": ".py",
   "mimetype": "text/x-python",
   "name": "python",
   "nbconvert_exporter": "python",
   "pygments_lexer": "ipython3",
   "version": "3.10.12"
  }
 },
 "nbformat": 4,
 "nbformat_minor": 5
}
