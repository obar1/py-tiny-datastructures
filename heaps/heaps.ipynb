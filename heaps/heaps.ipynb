{
 "cells": [
  {
   "cell_type": "markdown",
   "id": "f999a301",
   "metadata": {},
   "source": [
    "# Heaps\n",
    "\n",
    "> MaxHeap"
   ]
  },
  {
   "cell_type": "code",
   "execution_count": 7,
   "id": "ea152f13",
   "metadata": {},
   "outputs": [],
   "source": [
    "import ipytest\n",
    "\n",
    "ipytest.autoconfig(raise_on_error=True)  # For CI environments"
   ]
  },
  {
   "cell_type": "markdown",
   "id": "ba0b2eb7",
   "metadata": {},
   "source": [
    "![title](image.png)\n"
   ]
  },
  {
   "cell_type": "code",
   "execution_count": 8,
   "id": "a826383d",
   "metadata": {},
   "outputs": [],
   "source": [
    "class MaxHeap:\n",
    "    @property\n",
    "    def id(self):\n",
    "        return \"max heap\"\n",
    "\n",
    "    def __init__(self):\n",
    "        self.heap = []\n",
    "\n",
    "    def print(self):\n",
    "        for i, val in enumerate(self.heap):\n",
    "            yield (i, \": \", val)\n",
    "\n",
    "    def __repr__(self):\n",
    "        return f\"mh:{list(self.print())}\"\n",
    "\n",
    "    def _left_child(self, index):\n",
    "        return 2 * index + 1\n",
    "\n",
    "    def _right_child(self, index):\n",
    "        return 2 * index + 2\n",
    "\n",
    "    def _parent(self, index):\n",
    "        return (index - 1) // 2\n",
    "\n",
    "    def _swap(self, index1, index2):\n",
    "        self.heap[index1], self.heap[index2] = self.heap[index2], self.heap[index1]\n",
    "\n",
    "    def insert(self, value):\n",
    "        self.heap.append(value)\n",
    "        current = len(self.heap) - 1\n",
    "        while current > 0 and self.heap[current] > self.heap[self._parent(current)]:\n",
    "            self._swap(current, self._parent(current))\n",
    "            current = self._parent(current)\n",
    "\n",
    "    def _sink_down(self, index):\n",
    "        max_index = index\n",
    "        while True:\n",
    "            left_index = self._left_child(index)\n",
    "            right_index = self._right_child(index)\n",
    "\n",
    "            if (\n",
    "                left_index < len(self.heap)\n",
    "                and self.heap[left_index] > self.heap[max_index]\n",
    "            ):\n",
    "                max_index = left_index\n",
    "\n",
    "            if (\n",
    "                right_index < len(self.heap)\n",
    "                and self.heap[right_index] > self.heap[max_index]\n",
    "            ):\n",
    "                max_index = right_index\n",
    "\n",
    "            if max_index != index:\n",
    "                self._swap(index, max_index)\n",
    "                index = max_index\n",
    "            else:\n",
    "                return\n",
    "\n",
    "    def remove(self):\n",
    "        if len(self.heap) == 0:\n",
    "            return None\n",
    "\n",
    "        if len(self.heap) == 1:\n",
    "            return self.heap.pop()\n",
    "\n",
    "        max_value = self.heap[0]\n",
    "        self.heap[0] = self.heap.pop()\n",
    "        self._sink_down(0)\n",
    "\n",
    "        return max_value"
   ]
  },
  {
   "cell_type": "code",
   "execution_count": 9,
   "id": "52afbf00",
   "metadata": {},
   "outputs": [],
   "source": [
    "import pytest\n",
    "\n",
    "\n",
    "@pytest.fixture\n",
    "def get_mh():\n",
    "    return MaxHeap()"
   ]
  },
  {
   "cell_type": "code",
   "execution_count": 10,
   "id": "1559cc81",
   "metadata": {},
   "outputs": [
    {
     "name": "stdout",
     "output_type": "stream",
     "text": [
      "\u001b[32m.\u001b[0m\u001b[32m                                                                                            [100%]\u001b[0m\n",
      "\u001b[32m\u001b[32m\u001b[1m1 passed\u001b[0m\u001b[32m in 0.01s\u001b[0m\u001b[0m\n"
     ]
    }
   ],
   "source": [
    "%%ipytest\n",
    "\n",
    "def test(get_mh):\n",
    "    assert str(get_mh) == \"mh:[]\""
   ]
  },
  {
   "cell_type": "code",
   "execution_count": 11,
   "id": "5f38f705",
   "metadata": {},
   "outputs": [
    {
     "name": "stdout",
     "output_type": "stream",
     "text": [
      "\u001b[1m======================================= test session starts ========================================\u001b[0m\n",
      "platform linux -- Python 3.10.12, pytest-7.2.1, pluggy-1.5.0 -- /home/xsazcd/git/obar1/py-tiny-datastructures.git/.venv/bin/python\n",
      "cachedir: .pytest_cache\n",
      "rootdir: /home/xsazcd/git/obar1/py-tiny-datastructures.git/heaps\n",
      "plugins: cov-4.0.0, pytest_notebook-0.10.0, nbval-0.10.0, anyio-4.8.0\n",
      "\u001b[1mcollecting ... \u001b[0mcollected 1 item\n",
      "\n",
      "t_3996990c662b41b9a2deda99910c799a.py::test \u001b[32mPASSED\u001b[0m\u001b[32m                                           [100%]\u001b[0m\n",
      "\n",
      "\u001b[32m======================================== \u001b[32m\u001b[1m1 passed\u001b[0m\u001b[32m in 0.01s\u001b[0m\u001b[32m =========================================\u001b[0m\n"
     ]
    }
   ],
   "source": [
    "%%ipytest -vv\n",
    "\n",
    "def test(get_mh):\n",
    "    get_mh.insert(99)\n",
    "    get_mh.insert(72)\n",
    "    get_mh.insert(61)\n",
    "    get_mh.insert(58)\n",
    "    assert str(get_mh) == \"mh:[(0, ': ', 99), (1, ': ', 72), (2, ': ', 61), (3, ': ', 58)]\"\n",
    "    get_mh.insert(100)\n",
    "    assert str(get_mh)  ==\"mh:[(0, ': ', 100), (1, ': ', 99), (2, ': ', 61), (3, ': ', 58), (4, ': ', 72)]\"\n",
    "    get_mh.insert(75)\n",
    "    assert str(get_mh)  ==\"mh:[(0, ': ', 100), (1, ': ', 99), (2, ': ', 75), (3, ': ', 58), (4, ': ', 72), (5, ': ', 61)]\""
   ]
  },
  {
   "cell_type": "code",
   "execution_count": 12,
   "id": "df32d321",
   "metadata": {},
   "outputs": [
    {
     "name": "stdout",
     "output_type": "stream",
     "text": [
      "\u001b[1m======================================= test session starts ========================================\u001b[0m\n",
      "platform linux -- Python 3.10.12, pytest-7.2.1, pluggy-1.5.0 -- /home/xsazcd/git/obar1/py-tiny-datastructures.git/.venv/bin/python\n",
      "cachedir: .pytest_cache\n",
      "rootdir: /home/xsazcd/git/obar1/py-tiny-datastructures.git/heaps\n",
      "plugins: cov-4.0.0, pytest_notebook-0.10.0, nbval-0.10.0, anyio-4.8.0\n",
      "\u001b[1mcollecting ... \u001b[0mcollected 1 item\n",
      "\n",
      "t_3996990c662b41b9a2deda99910c799a.py::test \u001b[32mPASSED\u001b[0m\u001b[32m                                           [100%]\u001b[0m\n",
      "\n",
      "\u001b[32m======================================== \u001b[32m\u001b[1m1 passed\u001b[0m\u001b[32m in 0.01s\u001b[0m\u001b[32m =========================================\u001b[0m\n"
     ]
    }
   ],
   "source": [
    "%%ipytest -vv\n",
    "\n",
    "def test(get_mh):\n",
    "    for i in [ 95 ,  75 ,  80 ,  55 ,  60 ,  50 ,  65]:\n",
    "        get_mh.insert(i)\n",
    "    get_mh.remove()\n",
    "    assert str(get_mh)  ==\"mh:[(0, ': ', 80), (1, ': ', 75), (2, ': ', 65), (3, ': ', 55), (4, ': ', 60), (5, ': ', 50)]\"\n",
    "    get_mh.remove()\n",
    "    assert str(get_mh)  ==\"mh:[(0, ': ', 75), (1, ': ', 60), (2, ': ', 65), (3, ': ', 55), (4, ': ', 50)]\"\n"
   ]
  },
  {
   "cell_type": "code",
   "execution_count": null,
   "id": "18166aae",
   "metadata": {},
   "outputs": [],
   "source": []
  }
 ],
 "metadata": {
  "kernelspec": {
   "display_name": ".venv",
   "language": "python",
   "name": "python3"
  },
  "language_info": {
   "codemirror_mode": {
    "name": "ipython",
    "version": 3
   },
   "file_extension": ".py",
   "mimetype": "text/x-python",
   "name": "python",
   "nbconvert_exporter": "python",
   "pygments_lexer": "ipython3",
   "version": "3.10.12"
  }
 },
 "nbformat": 4,
 "nbformat_minor": 5
}
