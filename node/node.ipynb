{
 "cells": [
  {
   "cell_type": "markdown",
   "id": "f999a301",
   "metadata": {},
   "source": [
    "# node\n"
   ]
  },
  {
   "cell_type": "code",
   "execution_count": null,
   "id": "ea152f13",
   "metadata": {},
   "outputs": [],
   "source": [
    "import ipytest\n",
    "ipytest.autoconfig(raise_on_error=True)  # For CI environments"
   ]
  },
  {
   "cell_type": "code",
   "execution_count": null,
   "id": "a826383d",
   "metadata": {},
   "outputs": [],
   "source": [
    "class Node:\n",
    "    def __init__(self, value):\n",
    "        self.value = value\n",
    "        self.next = None\n",
    "\n",
    "    def __repr__(self):\n",
    "        return f\"node:{self.value}\""
   ]
  },
  {
   "cell_type": "code",
   "execution_count": null,
   "id": "1559cc81",
   "metadata": {},
   "outputs": [],
   "source": [
    "%%ipytest\n",
    "import pytest \n",
    "@pytest.fixture\n",
    "def get_node():\n",
    "    return Node(0)\n",
    "\n",
    "def test_node(get_node):\n",
    "    assert get_node.value==0\n",
    "    assert get_node.next == None \n",
    "    assert str(get_node) == \"node:0\""
   ]
  }
 ],
 "metadata": {
  "kernelspec": {
   "display_name": ".venv",
   "language": "python",
   "name": "python3"
  },
  "language_info": {
   "codemirror_mode": {
    "name": "ipython",
    "version": 3
   },
   "file_extension": ".py",
   "mimetype": "text/x-python",
   "name": "python",
   "nbconvert_exporter": "python",
   "pygments_lexer": "ipython3",
   "version": "3.10.12"
  }
 },
 "nbformat": 4,
 "nbformat_minor": 5
}
