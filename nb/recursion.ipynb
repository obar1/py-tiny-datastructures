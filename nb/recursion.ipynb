{
 "cells": [
  {
   "cell_type": "markdown",
   "id": "f999a301",
   "metadata": {},
   "source": [
    "# Recursion\n"
   ]
  },
  {
   "cell_type": "code",
   "execution_count": 114,
   "id": "ea152f13",
   "metadata": {},
   "outputs": [],
   "source": [
    "import ipytest\n",
    "\n",
    "ipytest.autoconfig(raise_on_error=True)  # For CI environments"
   ]
  },
  {
   "cell_type": "markdown",
   "id": "ba0b2eb7",
   "metadata": {},
   "source": [
    "![title](image.png)\n"
   ]
  },
  {
   "cell_type": "code",
   "execution_count": 115,
   "id": "a826383d",
   "metadata": {},
   "outputs": [],
   "source": [
    "class Recursion:\n",
    "    @classmethod\n",
    "    def fact(cls, n):\n",
    "        if n <= 1:\n",
    "            return 1\n",
    "        return n * cls.fact(n - 1)\n",
    "\n",
    "    @classmethod\n",
    "    def fact_fail(cls, n):\n",
    "        if n > 1:\n",
    "            return 1\n",
    "        return n * cls.fact_fail(n - 1)"
   ]
  },
  {
   "cell_type": "code",
   "execution_count": 116,
   "id": "52afbf00",
   "metadata": {},
   "outputs": [],
   "source": [
    "import pytest\n",
    "\n",
    "\n",
    "@pytest.fixture\n",
    "def get_r():\n",
    "    return Recursion"
   ]
  },
  {
   "cell_type": "code",
   "execution_count": 117,
   "id": "1559cc81",
   "metadata": {},
   "outputs": [
    {
     "name": "stdout",
     "output_type": "stream",
     "text": [
      "\u001b[32m.\u001b[0m\u001b[32m                                                                                            [100%]\u001b[0m\n",
      "\u001b[32m\u001b[32m\u001b[1m1 passed\u001b[0m\u001b[32m in 0.01s\u001b[0m\u001b[0m\n",
      "\u001b[32m                                                                                            [100%]\u001b[0m\n",
      "\u001b[32m\u001b[32m\u001b[1m1 passed\u001b[0m\u001b[32m in 0.01s\u001b[0m\u001b[0m\n"
     ]
    }
   ],
   "source": [
    "%%ipytest\n",
    "\n",
    "def test(get_r):\n",
    "    assert get_r.fact(1) ==1\n",
    "    assert get_r.fact(10) ==3628800 \n"
   ]
  },
  {
   "cell_type": "code",
   "execution_count": 118,
   "id": "5ee2061f",
   "metadata": {},
   "outputs": [
    {
     "name": "stdout",
     "output_type": "stream",
     "text": [
      "\u001b[32m.\u001b[0m\u001b[32m                                                                                            [100%]\u001b[0m"
     ]
    },
    {
     "name": "stdout",
     "output_type": "stream",
     "text": [
      "\n",
      "\u001b[32m\u001b[32m\u001b[1m1 passed\u001b[0m\u001b[32m in 0.01s\u001b[0m\u001b[0m\n"
     ]
    }
   ],
   "source": [
    "%%ipytest\n",
    "\n",
    "def test(get_r):\n",
    "  with pytest.raises(RecursionError):\n",
    "    assert get_r.fact_fail(1) ==1\n",
    " "
   ]
  }
 ],
 "metadata": {
  "kernelspec": {
   "display_name": ".venv",
   "language": "python",
   "name": "python3"
  },
  "language_info": {
   "codemirror_mode": {
    "name": "ipython",
    "version": 3
   },
   "file_extension": ".py",
   "mimetype": "text/x-python",
   "name": "python",
   "nbconvert_exporter": "python",
   "pygments_lexer": "ipython3",
   "version": "3.10.12"
  }
 },
 "nbformat": 4,
 "nbformat_minor": 5
}
