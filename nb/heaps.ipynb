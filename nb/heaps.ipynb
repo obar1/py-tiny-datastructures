{
 "cells": [
  {
   "cell_type": "markdown",
   "id": "f999a301",
   "metadata": {},
   "source": [
    "# Heaps\n",
    "\n",
    "> MaxHeap"
   ]
  },
  {
   "cell_type": "code",
   "execution_count": 7,
   "id": "ea152f13",
   "metadata": {},
   "outputs": [],
   "source": [
    "import sys\n",
    "sys.path.append('../src')"
   ]
  },
  {
   "cell_type": "markdown",
   "id": "ba0b2eb7",
   "metadata": {},
   "source": [
    "![title](image-h0.png)\n"
   ]
  },
  {
   "cell_type": "code",
   "execution_count": 8,
   "id": "78a4f5e0",
   "metadata": {},
   "outputs": [],
   "source": [
    "from heaps import MaxHeap"
   ]
  },
  {
   "cell_type": "code",
   "execution_count": 9,
   "id": "18166aae",
   "metadata": {},
   "outputs": [
    {
     "name": "stdout",
     "output_type": "stream",
     "text": [
      "mh:[]\n"
     ]
    }
   ],
   "source": [
    "print(MaxHeap())"
   ]
  }
 ],
 "metadata": {
  "kernelspec": {
   "display_name": "venv",
   "language": "python",
   "name": "python3"
  },
  "language_info": {
   "codemirror_mode": {
    "name": "ipython",
    "version": 3
   },
   "file_extension": ".py",
   "mimetype": "text/x-python",
   "name": "python",
   "nbconvert_exporter": "python",
   "pygments_lexer": "ipython3",
   "version": "3.10.12"
  }
 },
 "nbformat": 4,
 "nbformat_minor": 5
}
