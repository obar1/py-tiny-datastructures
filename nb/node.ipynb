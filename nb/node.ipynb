{
 "cells": [
  {
   "cell_type": "markdown",
   "id": "f999a301",
   "metadata": {},
   "source": [
    "# node\n"
   ]
  },
  {
   "cell_type": "code",
   "execution_count": 1,
   "id": "94b773a8",
   "metadata": {},
   "outputs": [],
   "source": [
    "import sys\n",
    "sys.path.append('../src')"
   ]
  },
  {
   "cell_type": "code",
   "execution_count": 2,
   "id": "a826383d",
   "metadata": {},
   "outputs": [],
   "source": [
    "from  node import Node"
   ]
  },
  {
   "cell_type": "code",
   "execution_count": 3,
   "id": "52afbf00",
   "metadata": {},
   "outputs": [
    {
     "name": "stdout",
     "output_type": "stream",
     "text": [
      "node:0\n"
     ]
    }
   ],
   "source": [
    "print(Node(0))"
   ]
  },
  {
   "cell_type": "markdown",
   "id": "4718de4f",
   "metadata": {},
   "source": [
    "![title](image-n0.png)\n"
   ]
  }
 ],
 "metadata": {
  "kernelspec": {
   "display_name": "venv",
   "language": "python",
   "name": "python3"
  },
  "language_info": {
   "codemirror_mode": {
    "name": "ipython",
    "version": 3
   },
   "file_extension": ".py",
   "mimetype": "text/x-python",
   "name": "python",
   "nbconvert_exporter": "python",
   "pygments_lexer": "ipython3",
   "version": "3.10.12"
  }
 },
 "nbformat": 4,
 "nbformat_minor": 5
}
