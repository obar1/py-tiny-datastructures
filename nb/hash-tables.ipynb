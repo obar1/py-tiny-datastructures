{
 "cells": [
  {
   "cell_type": "markdown",
   "id": "f999a301",
   "metadata": {},
   "source": [
    "# Hash Tables\n"
   ]
  },
  {
   "cell_type": "code",
   "execution_count": 5,
   "id": "ea152f13",
   "metadata": {},
   "outputs": [],
   "source": [
    "import sys\n",
    "sys.path.append('../src')"
   ]
  },
  {
   "cell_type": "markdown",
   "id": "ba0b2eb7",
   "metadata": {},
   "source": [
    "![title](image-ht0.png)\n"
   ]
  },
  {
   "cell_type": "code",
   "execution_count": null,
   "id": "e4925597",
   "metadata": {},
   "outputs": [
    {
     "ename": "ImportError",
     "evalue": "cannot import name 'HashTable' from 'hash_tables' (/home/xsazcd/git/obar1/py-tiny-datastructures.git/nb/../src/hash_tables.py)",
     "output_type": "error",
     "traceback": [
      "\u001b[0;31m---------------------------------------------------------------------------\u001b[0m",
      "\u001b[0;31mImportError\u001b[0m                               Traceback (most recent call last)",
      "Cell \u001b[0;32mIn[6], line 1\u001b[0m\n\u001b[0;32m----> 1\u001b[0m \u001b[38;5;28;01mfrom\u001b[39;00m \u001b[38;5;21;01mhash_tables\u001b[39;00m \u001b[38;5;28;01mimport\u001b[39;00m HashTable\n",
      "\u001b[0;31mImportError\u001b[0m: cannot import name 'HashTable' from 'hash_tables' (/home/xsazcd/git/obar1/py-tiny-datastructures.git/nb/../src/hash_tables.py)"
     ]
    }
   ],
   "source": [
    "from hash_tables import HashTable"
   ]
  }
 ],
 "metadata": {
  "kernelspec": {
   "display_name": "Python 3",
   "language": "python",
   "name": "python3"
  },
  "language_info": {
   "codemirror_mode": {
    "name": "ipython",
    "version": 3
   },
   "file_extension": ".py",
   "mimetype": "text/x-python",
   "name": "python",
   "nbconvert_exporter": "python",
   "pygments_lexer": "ipython3",
   "version": "3.10.12"
  }
 },
 "nbformat": 4,
 "nbformat_minor": 5
}
