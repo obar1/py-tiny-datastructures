{
 "cells": [
  {
   "cell_type": "markdown",
   "id": "f999a301",
   "metadata": {},
   "source": [
    "# Hash Tables\n",
    "![title](assets/image-ht0.png)\n"
   ]
  },
  {
   "cell_type": "code",
   "execution_count": null,
   "id": "ea152f13",
   "metadata": {},
   "outputs": [],
   "source": [
    "import sys, os\n",
    "\n",
    "sys.path.append(os.path.abspath(\"..\"))"
   ]
  },
  {
   "cell_type": "code",
   "execution_count": 1,
   "id": "e4925597",
   "metadata": {},
   "outputs": [
    {
     "ename": "ModuleNotFoundError",
     "evalue": "No module named 'src'",
     "output_type": "error",
     "traceback": [
      "\u001b[0;31m---------------------------------------------------------------------------\u001b[0m",
      "\u001b[0;31mModuleNotFoundError\u001b[0m                       Traceback (most recent call last)",
      "Cell \u001b[0;32mIn[1], line 1\u001b[0m\n\u001b[0;32m----> 1\u001b[0m \u001b[38;5;28;01mfrom\u001b[39;00m\u001b[38;5;250m \u001b[39m\u001b[38;5;21;01msrc\u001b[39;00m\u001b[38;5;21;01m.\u001b[39;00m\u001b[38;5;21;01mhash_tables\u001b[39;00m\u001b[38;5;250m \u001b[39m\u001b[38;5;28;01mimport\u001b[39;00m HashTable\n\u001b[1;32m      3\u001b[0m HashTable()\u001b[38;5;241m.\u001b[39mds_func\n",
      "\u001b[0;31mModuleNotFoundError\u001b[0m: No module named 'src'"
     ]
    }
   ],
   "source": [
    "from src.hash_tables import HashTable\n",
    "\n",
    "HashTable().ds_func"
   ]
  },
  {
   "cell_type": "markdown",
   "id": "ccc1e502",
   "metadata": {},
   "source": [
    "## Leet Code style\n"
   ]
  },
  {
   "cell_type": "code",
   "execution_count": null,
   "id": "126ae256",
   "metadata": {},
   "outputs": [],
   "source": [
    "import ipytest\n",
    "\n",
    "ipytest.autoconfig(raise_on_error=True)  # For CI environments"
   ]
  },
  {
   "cell_type": "code",
   "execution_count": null,
   "id": "1a398b52",
   "metadata": {},
   "outputs": [
    {
     "name": "stdout",
     "output_type": "stream",
     "text": [
      "\u001b[32m.\u001b[0m\u001b[32m                                                                                            [100%]\u001b[0m\n",
      "\u001b[32m\u001b[32m\u001b[1m1 passed\u001b[0m\u001b[32m in 0.07s\u001b[0m\u001b[0m\n"
     ]
    }
   ],
   "source": [
    "%%ipytest\n",
    "\n",
    "def test():\n",
    "    \"\"\"\n",
    "\n",
    "HT: Find Duplicates ( ** Interview Question)\n",
    "\n",
    "find_duplicates()\n",
    "\n",
    "Problem: Given an array of integers nums, find all the duplicates in the array using a hash table (dictionary).\n",
    "\n",
    "\n",
    "    \"\"\"\n",
    "    def find_duplicates(l):\n",
    "        entries ={}\n",
    "        c = []\n",
    "        for item in l:\n",
    "            if entries.get(item):\n",
    "                c.append(item)\n",
    "            entries[item]= True\n",
    "        return list(set(c)   )\n",
    "\n",
    "    assert find_duplicates([1, 2, 3, 4, 5])  == []\n",
    "    assert find_duplicates([1, 1, 2, 2, 3])  == [1,2]\n",
    "    assert find_duplicates([1, 1, 1, 1, 1]) ==[1]\n",
    "    print ( find_duplicates([1, 2, 3, 3, 3, 4, 4, 5]) )\n",
    "    print ( find_duplicates([1, 1, 2, 2, 2, 3, 3, 3, 3]) )\n",
    "    print ( find_duplicates([1, 1, 1, 2, 2, 2, 3, 3, 3, 3]) )\n",
    "    print ( find_duplicates([]) )"
   ]
  },
  {
   "cell_type": "code",
   "execution_count": null,
   "id": "48ef770b",
   "metadata": {},
   "outputs": [
    {
     "name": "stdout",
     "output_type": "stream",
     "text": [
      "\u001b[32m.\u001b[0m\u001b[32m                                                                                            [100%]\u001b[0m\n",
      "\u001b[32m\u001b[32m\u001b[1m1 passed\u001b[0m\u001b[32m in 0.02s\u001b[0m\u001b[0m\n"
     ]
    }
   ],
   "source": [
    "%%ipytest\n",
    "\n",
    "def test():\n",
    "    \"\"\"\n",
    "\n",
    "HT: First Non-Repeating Character ( ** Interview Question)\n",
    "\n",
    "You have been given a string of lowercase letters.\n",
    "\n",
    "Write a function called first_non_repeating_char(string) that finds the first non-repeating character in the given string using a hash table (dictionary). If there is no non-repeating character in the string, the function should return None.\n",
    "\n",
    "    \"\"\"\n",
    "    def first_non_repeating_char(txt):\n",
    "        d= {}\n",
    "        for c in txt:\n",
    "            if d.get(c) is None:\n",
    "                d[c]=0\n",
    "            else:\n",
    "                d[c]+=1\n",
    "        for k,v in d.items():\n",
    "            if v==0:\n",
    "                return k\n",
    "        return None\n",
    "\n",
    "\n",
    "\n",
    "    assert first_non_repeating_char('leetcode') == 'l'\n",
    "    assert first_non_repeating_char('hello')  == 'h'\n",
    "    assert first_non_repeating_char('aabbcc') is None"
   ]
  },
  {
   "cell_type": "code",
   "execution_count": null,
   "id": "36278847",
   "metadata": {},
   "outputs": [
    {
     "name": "stdout",
     "output_type": "stream",
     "text": [
      "\u001b[32m.\u001b[0m\u001b[32m                                                                                            [100%]\u001b[0m\n",
      "\u001b[32m\u001b[32m\u001b[1m1 passed\u001b[0m\u001b[32m in 0.02s\u001b[0m\u001b[0m\n"
     ]
    }
   ],
   "source": [
    "%%ipytest\n",
    "\n",
    "def test():\n",
    "    \"\"\"\n",
    "\n",
    "HT: Group Anagrams ( ** Interview Question)\n",
    "\n",
    "You have been given an array of strings, where each string may contain only lowercase English letters. You need to write a function group_anagrams(strings) that groups the anagrams in the array together using a hash table (dictionary). The function should return a list of lists, where each inner list contains a group of anagrams.\n",
    "\n",
    "    \"\"\"\n",
    "    def group_anagrams(l):\n",
    "        d  = {}\n",
    "        for item in l:\n",
    "            sorted_item =\"\".join(sorted(item)) \n",
    "            if d.get(sorted_item) is None:\n",
    "                d[sorted_item]=[]\n",
    "            d[sorted_item].append(item)\n",
    "        \n",
    "        return [*d.values()]\n",
    "\n",
    "\n",
    "\n",
    "\n",
    "    print(\"1st set:\")\n",
    "    assert group_anagrams([\"eat\", \"tea\", \"tan\", \"ate\", \"nat\", \"bat\"])  == [['eat', 'tea', 'ate'], ['tan', 'nat'], ['bat']]\n",
    "\n",
    "    print(\"\\n2nd set:\")\n",
    "    assert group_anagrams([\"abc\", \"cba\", \"bac\", \"foo\", \"bar\"])  == [['abc', 'cba', 'bac'], ['foo'], ['bar']]\n",
    "\n",
    "    print(\"\\n3rd set:\")\n",
    "    assert group_anagrams([\"listen\", \"silent\", \"triangle\", \"integral\", \"garden\", \"ranged\"])  == [['listen', 'silent'], ['triangle', 'integral'], ['garden', 'ranged']]"
   ]
  },
  {
   "cell_type": "code",
   "execution_count": null,
   "id": "80c72368",
   "metadata": {},
   "outputs": [
    {
     "name": "stdout",
     "output_type": "stream",
     "text": [
      "\u001b[32m.\u001b[0m\u001b[32m                                                                                            [100%]\u001b[0m\n",
      "\u001b[32m\u001b[32m\u001b[1m1 passed\u001b[0m\u001b[32m in 0.01s\u001b[0m\u001b[0m\n"
     ]
    }
   ],
   "source": [
    "%%ipytest\n",
    "\n",
    "def test():\n",
    "    \"\"\"\n",
    "HT: Two Sum ( ** Interview Question)\n",
    "\n",
    "two_sum()\n",
    "\n",
    "Problem:\n",
    "Given an array of integers nums and a target integer target, find the indices of two numbers in the array that add up to the target.\n",
    "\n",
    "\n",
    "    \"\"\"\n",
    "    def two_sum(nums, target):\n",
    "        num_map = {}\n",
    "        for k,v in enumerate(nums):\n",
    "            num_map[v]=k\n",
    "        print(num_map)\n",
    "        for k,v in enumerate(nums):\n",
    "            complement_to_target = target - v\n",
    "            if num_map.get(complement_to_target):\n",
    "                return [k, num_map[complement_to_target]]\n",
    "        return []\n",
    "\n",
    "    assert  two_sum([5, 1, 7, 2, 9, 3], 10) == [1,4]\n",
    "    assert two_sum([4, 2, 11, 7, 6, 3], 9) == [1, 3]\n",
    "    print(two_sum([10, 15, 5, 2, 8, 1, 7], 12))\n",
    "    print(two_sum([1, 3, 5, 7, 9], 10))\n",
    "    print(two_sum([1, 2, 3, 4, 5], 10))\n",
    "    print(two_sum([1, 2, 3, 4, 5], 7))\n",
    "    print(two_sum([1, 2, 3, 4, 5], 3))\n",
    "    print(two_sum([], 0))\n"
   ]
  },
  {
   "cell_type": "code",
   "execution_count": null,
   "id": "4225b599",
   "metadata": {},
   "outputs": [
    {
     "name": "stdout",
     "output_type": "stream",
     "text": [
      "\u001b[32m.\u001b[0m\u001b[32m                                                                                            [100%]\u001b[0m\n",
      "\u001b[32m\u001b[32m\u001b[1m1 passed\u001b[0m\u001b[32m in 0.02s\u001b[0m\u001b[0m\n"
     ]
    }
   ],
   "source": [
    "%%ipytest\n",
    "\n",
    "def test():\n",
    "\n",
    "    def subarray_sum(nums, target):\n",
    "        sum_map = {0: -1}\n",
    "        current_sum = 0\n",
    "        for i, num in enumerate(nums):\n",
    "            current_sum += num\n",
    "            if (current_sum - target) in sum_map:\n",
    "                return [sum_map[current_sum - target] + 1, i]\n",
    "            sum_map[current_sum] = i\n",
    "        return []\n",
    "\n",
    "    nums = [1, 2, 3, 4, 5]\n",
    "    target = 9\n",
    "    assert subarray_sum(nums, target) == [1, 3]\n",
    "    print(subarray_sum(nums, target))  # should print [1, 3]\n"
   ]
  },
  {
   "cell_type": "code",
   "execution_count": null,
   "id": "ee0f3e11",
   "metadata": {},
   "outputs": [
    {
     "data": {
      "text/plain": [
       "'\\n    EXPECTED OUTPUT:\\n    ----------------\\n    [1, 2, 3, 4, 5, 6, 7, 8, 9]\\n\\n    (Order may be different as sets are unordered)\\n\\n'"
      ]
     },
     "execution_count": 9,
     "metadata": {},
     "output_type": "execute_result"
    },
    {
     "name": "stdout",
     "output_type": "stream",
     "text": [
      "\u001b[32m.\u001b[0m\u001b[32m                                                                                            [100%]\u001b[0m\n",
      "\u001b[32m\u001b[32m\u001b[1m1 passed\u001b[0m\u001b[32m in 0.02s\u001b[0m\u001b[0m\n"
     ]
    }
   ],
   "source": [
    "%%ipytest\n",
    "\n",
    "def test():\n",
    "    \"\"\"\n",
    " \n",
    "Set: Remove Duplicates ( ** Interview Question)\n",
    "\n",
    "You have been given a list my_list with some duplicate values. Your task is to write a Python program that removes all the duplicates from the list using a set and then prints the updated list.\n",
    "\n",
    "You need to implement a function remove_duplicates(my_list) that takes in the input list my_list as a parameter and returns a new list with no duplicates.\n",
    "\n",
    "Your function should not modify the original list, instead, it should create a new list with unique values and return it.\n",
    "\n",
    "    \"\"\"\n",
    "\n",
    "def remove_duplicates(my_list):\n",
    "    return list(set(my_list))\n",
    "\n",
    "\n",
    "\n",
    "my_list = [1, 2, 3, 4, 1, 2, 5, 6, 7, 3, 4, 8, 9, 5]\n",
    "new_list = remove_duplicates(my_list)\n",
    "assert new_list == ([1, 2, 3, 4, 5, 6, 7, 8, 9])\n",
    "\n",
    "\n",
    "\n",
    "\"\"\"\n",
    "    EXPECTED OUTPUT:\n",
    "    ----------------\n",
    "    [1, 2, 3, 4, 5, 6, 7, 8, 9]\n",
    "\n",
    "    (Order may be different as sets are unordered)\n",
    "\n",
    "\"\"\""
   ]
  },
  {
   "cell_type": "code",
   "execution_count": null,
   "id": "027072b7",
   "metadata": {},
   "outputs": [
    {
     "name": "stdout",
     "output_type": "stream",
     "text": [
      "Incorrect argument. Use on/1, off/0, or nothing for a toggle.\n"
     ]
    },
    {
     "name": "stderr",
     "output_type": "stream",
     "text": [
      "UsageError: Line magic function `%%ipytest` not found.\n"
     ]
    }
   ],
   "source": [
    "\n",
    "%%ipytest\n",
    "\n",
    "def test():\n",
    "    \"\"\"\n",
    " Set: Has Unique Chars ( ** Interview Question)\n",
    "\n",
    "Write a function called has_unique_chars that takes a string as input and returns True if all the characters in the string are unique, and False otherwise. \n",
    "\n",
    "\n",
    "    \"\"\"\n",
    "\n",
    "    def has_unique_chars(a_string):\n",
    "        return list(set(a_string)) ==list(a_string)\n",
    "\n",
    "\n",
    "\n",
    "\n",
    "    print(has_unique_chars('abcdefg')) # should return True\n",
    "    print(has_unique_chars('hello')) # should return False\n",
    "\n",
    "\n",
    "\n",
    "\n",
    "    \"\"\"\n",
    "        EXPECTED OUTPUT:\n",
    "        ----------------\n",
    "        True\n",
    "        False\n",
    "        True\n",
    "        True\n",
    "        False\n",
    "\n",
    "\"\"\""
   ]
  },
  {
   "cell_type": "code",
   "execution_count": null,
   "id": "49804e61-3169-47a1-a8fc-2a358543120a",
   "metadata": {},
   "outputs": [],
   "source": []
  },
  {
   "cell_type": "code",
   "execution_count": null,
   "id": "3394a33f-82c4-48fc-9557-7aa24d43f6c9",
   "metadata": {},
   "outputs": [],
   "source": []
  }
 ],
 "metadata": {
  "kernelspec": {
   "display_name": "Python 3",
   "language": "python",
   "name": "python3"
  },
  "language_info": {
   "codemirror_mode": {
    "name": "ipython",
    "version": 3
   },
   "file_extension": ".py",
   "mimetype": "text/x-python",
   "name": "python",
   "nbconvert_exporter": "python",
   "pygments_lexer": "ipython3",
   "version": "3.10.12"
  }
 },
 "nbformat": 4,
 "nbformat_minor": 5
}
