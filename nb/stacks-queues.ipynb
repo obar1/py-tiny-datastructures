{
 "cells": [
  {
   "cell_type": "markdown",
   "id": "f999a301",
   "metadata": {},
   "source": [
    "# Stack & Queues\n"
   ]
  },
  {
   "cell_type": "markdown",
   "id": "f295ad07",
   "metadata": {},
   "source": [
    "![title](assets/image-sq0.png)\n",
    "![title](assets/image-sq1.png)\n"
   ]
  },
  {
   "cell_type": "code",
   "execution_count": 73,
   "id": "74cec805",
   "metadata": {},
   "outputs": [],
   "source": [
    "import sys, os\n",
    "\n",
    "\n",
    "sys.path.append(os.path.abspath(\"..\"))"
   ]
  },
  {
   "cell_type": "code",
   "execution_count": 74,
   "id": "a826383d",
   "metadata": {},
   "outputs": [
    {
     "data": {
      "text/plain": [
       "{'get_id', 'pop', 'push'}"
      ]
     },
     "execution_count": 74,
     "metadata": {},
     "output_type": "execute_result"
    }
   ],
   "source": [
    "from src.stacks_queues import Stack\n",
    "\n",
    "\n",
    "Stack(0).ds_func"
   ]
  },
  {
   "cell_type": "code",
   "execution_count": 75,
   "id": "6c141089",
   "metadata": {},
   "outputs": [
    {
     "data": {
      "text/plain": [
       "{'get_id', 'is_empty', 'peek', 'pop', 'push', 'size'}"
      ]
     },
     "execution_count": 75,
     "metadata": {},
     "output_type": "execute_result"
    }
   ],
   "source": [
    "from src.stacks_queues import StackL\n",
    "\n",
    "\n",
    "StackL().ds_func"
   ]
  },
  {
   "cell_type": "code",
   "execution_count": 76,
   "id": "b1448b85",
   "metadata": {},
   "outputs": [
    {
     "data": {
      "text/plain": [
       "{'dequeue', 'enqueue', 'get_id', 'print_list'}"
      ]
     },
     "execution_count": 76,
     "metadata": {},
     "output_type": "execute_result"
    }
   ],
   "source": [
    "from src.stacks_queues import Queue\n",
    "\n",
    "\n",
    "Queue(0).ds_func"
   ]
  },
  {
   "cell_type": "markdown",
   "id": "9b15de63",
   "metadata": {},
   "source": [
    "## Leet Code style \n"
   ]
  },
  {
   "cell_type": "code",
   "execution_count": 77,
   "id": "5b4feea6",
   "metadata": {},
   "outputs": [],
   "source": [
    "import ipytest\n",
    "\n",
    "\n",
    "ipytest.autoconfig(raise_on_error=True)  # For CI environments"
   ]
  },
  {
   "cell_type": "code",
   "execution_count": 78,
   "id": "f0ff549c",
   "metadata": {},
   "outputs": [
    {
     "name": "stdout",
     "output_type": "stream",
     "text": [
      "\u001b[32m.\u001b[0m\u001b[32m                                                                                            [100%]\u001b[0m\n",
      "\u001b[32m\u001b[32m\u001b[1m1 passed\u001b[0m\u001b[32m in 0.02s\u001b[0m\u001b[0m\n",
      "\u001b[32m                                                                                            [100%]\u001b[0m\n",
      "\u001b[32m\u001b[32m\u001b[1m1 passed\u001b[0m\u001b[32m in 0.02s\u001b[0m\u001b[0m\n"
     ]
    }
   ],
   "source": [
    "%%ipytest\n",
    "\n",
    "\n",
    "def test():\n",
    "    \"\"\"\n",
    "# Stack: Push for Stack That Uses List ( ** Interview Question)\n",
    "\n",
    "\n",
    "Add a method to push a value onto the Stack implementation that we began in the last Coding Exercise.\n",
    "\n",
    "\n",
    "\n",
    "\n",
    "    \"\"\"\n",
    " \n",
    "\n",
    "\n",
    "    my_stack = StackL()\n",
    "    my_stack.push(1)\n",
    "    my_stack.push(2)\n",
    "    my_stack.push(3)\n",
    "\n",
    "\n",
    "    assert str(my_stack) ==\"s:[3, 2, 1]\""
   ]
  },
  {
   "cell_type": "code",
   "execution_count": 79,
   "id": "a6f7a8c4",
   "metadata": {},
   "outputs": [
    {
     "name": "stdout",
     "output_type": "stream",
     "text": [
      "\u001b[32m.\u001b[0m\u001b[32m                                                                                            [100%]\u001b[0m\n",
      "\u001b[32m\u001b[32m\u001b[1m1 passed\u001b[0m\u001b[32m in 0.02s\u001b[0m\u001b[0m\n",
      "\u001b[32m                                                                                            [100%]\u001b[0m\n",
      "\u001b[32m\u001b[32m\u001b[1m1 passed\u001b[0m\u001b[32m in 0.02s\u001b[0m\u001b[0m\n"
     ]
    }
   ],
   "source": [
    "%%ipytest\n",
    "\n",
    "\n",
    "def test():\n",
    "    \"\"\"\n",
    "\n",
    "\n",
    "#  Stack: Pop for Stack That Uses List ( ** Interview Question)\n",
    "Stack: Pop for Stack That Uses List ( ** Interview Question)\n",
    "\n",
    "\n",
    "Add a method to pop a value from the Stack implementation that we began in the last two Coding Exercises.\n",
    "\n",
    "\n",
    "    \"\"\"\n",
    "  \n",
    "\n",
    "    my_stack = StackL()\n",
    "    my_stack.push(1)\n",
    "    my_stack.push(2)\n",
    "    my_stack.push(3)\n",
    "    assert str(my_stack) ==\"s:[3, 2, 1]\"    \n",
    "\n",
    "    print(\"\\nPopped node:\")\n",
    "    print(my_stack.pop())\n",
    "\n",
    "\n",
    "    print(\"\\nStack after pop():\")\n",
    "    assert str(my_stack) ==\"s:[2, 1]\"        "
   ]
  },
  {
   "cell_type": "code",
   "execution_count": 80,
   "id": "853a8048",
   "metadata": {},
   "outputs": [
    {
     "name": "stdout",
     "output_type": "stream",
     "text": [
      "\u001b[32m.\u001b[0m\u001b[32m                                                                                            [100%]\u001b[0m\n",
      "\u001b[32m\u001b[32m\u001b[1m1 passed\u001b[0m\u001b[32m in 0.02s\u001b[0m\u001b[0m\n",
      "\u001b[32m                                                                                            [100%]\u001b[0m\n",
      "\u001b[32m\u001b[32m\u001b[1m1 passed\u001b[0m\u001b[32m in 0.02s\u001b[0m\u001b[0m\n"
     ]
    }
   ],
   "source": [
    "%%ipytest\n",
    "def test():\n",
    "    \"\"\"\n",
    "#  Stack: Parentheses Balanced ( ** Interview Question)\n",
    " \n",
    "Check to see if a string of parentheses is balanced or not.\n",
    "By \"balanced,\" we mean that for every open parenthesis, there is a matching closing parenthesis in the correct order. For example, the string \"((()))\" has three pairs of balanced parentheses, so it is a balanced string. On the other hand, the string \"(()))\" has an imbalance, as the last two parentheses do not match, so it is not balanced.  Also, the string \")(\" is not balanced because the close parenthesis needs to follow the open parenthesis.\n",
    "    \"\"\"\n",
    "\n",
    "def is_balanced_parentheses(s):\n",
    "    stack = StackL()\n",
    "    bracket_pairs = {\n",
    "        '(': ')'\n",
    "    }\n",
    "    try:\n",
    "        for c in s:\n",
    "            if c in bracket_pairs.keys():\n",
    "                stack.push(c)\n",
    "            else:\n",
    "                if c != bracket_pairs[stack.pop()]:\n",
    "                    return False\n",
    "        assert stack.size()==0\n",
    "    except:\n",
    "        return False\n",
    "    return True\n",
    "    assert is_balanced_parentheses('((()))') == True\n",
    "    assert is_balanced_parentheses('()') == True\n",
    "    assert is_balanced_parentheses('(()())') == True\n",
    "    assert is_balanced_parentheses('(()') == False\n",
    "    assert is_balanced_parentheses('())') == False\n",
    "    assert is_balanced_parentheses(')(') == False\n",
    "    assert is_balanced_parentheses('') == True\n",
    "    assert is_balanced_parentheses('()()()()') == True\n",
    "    assert is_balanced_parentheses('(())(())') == True\n",
    "    assert is_balanced_parentheses('(()()())') == True\n",
    "    assert is_balanced_parentheses('((())') == False\n"
   ]
  },
  {
   "cell_type": "code",
   "execution_count": 81,
   "id": "2d4a567c",
   "metadata": {},
   "outputs": [
    {
     "name": "stdout",
     "output_type": "stream",
     "text": [
      "\u001b[32m.\u001b[0m\u001b[32m                                                                                            [100%]\u001b[0m\n",
      "\u001b[32m\u001b[32m\u001b[1m1 passed\u001b[0m\u001b[32m in 0.02s\u001b[0m\u001b[0m\n",
      "\u001b[32m                                                                                            [100%]\u001b[0m\n",
      "\u001b[32m\u001b[32m\u001b[1m1 passed\u001b[0m\u001b[32m in 0.02s\u001b[0m\u001b[0m\n"
     ]
    }
   ],
   "source": [
    "%%ipytest\n",
    "\n",
    "def test():\n",
    "    \"\"\"\n",
    "\n",
    "Stack: Reverse String ( ** Interview Question)\n",
    "\n",
    "The reverse_string function takes a single parameter string, which is the string you want to reverse. \n",
    "\"\"\" \n",
    "\n",
    "    def reverse_string(txt):\n",
    "        s = StackL()\n",
    "        for c in txt:\n",
    "            s.push(c)\n",
    "        return \"\".join([s.pop() for _ in txt ])\n",
    "    \n",
    "    my_string = 'hello'\n",
    "    assert reverse_string(my_string)  == \"olleh\"\n",
    "\n",
    "    my_string = ''\n",
    "    assert reverse_string(my_string)  == \"\"\n",
    "\n",
    "\n"
   ]
  },
  {
   "cell_type": "code",
   "execution_count": 82,
   "id": "2eac830d",
   "metadata": {},
   "outputs": [
    {
     "name": "stdout",
     "output_type": "stream",
     "text": [
      "\u001b[32m.\u001b[0m\u001b[32m                                                                                            [100%]\u001b[0m\n",
      "\u001b[32m\u001b[32m\u001b[1m1 passed\u001b[0m\u001b[32m in 0.02s\u001b[0m\u001b[0m\n",
      "\u001b[32m                                                                                            [100%]\u001b[0m\n",
      "\u001b[32m\u001b[32m\u001b[1m1 passed\u001b[0m\u001b[32m in 0.02s\u001b[0m\u001b[0m\n"
     ]
    }
   ],
   "source": [
    "%%ipytest\n",
    "\n",
    "def test():\n",
    "    \"\"\"\n",
    "\n",
    "Stack: Sort String ( ** Interview Question)\n",
    "\n",
    "Sort with stack\n",
    "\"\"\"\n",
    "\n",
    "\n",
    "    def sort_string(input_str):\n",
    "        stack1 = StackL()\n",
    "        stack2 = StackL()\n",
    "        \n",
    "        for char in input_str:\n",
    "            stack1.push(char)\n",
    "        \n",
    "        while not stack1.is_empty():\n",
    "            temp = stack1.pop()\n",
    "            # Move elements from stack2 back to stack1 until we find correct position\n",
    "            while not stack2.is_empty() and stack2.peek() > temp:\n",
    "                stack1.push(stack2.pop())\n",
    "                \n",
    "            stack2.push(temp)\n",
    "        \n",
    "        sorted_str = \"\"\n",
    "        while not stack2.is_empty():\n",
    "            sorted_str = stack2.pop() + sorted_str  # Add to beginning instead of end\n",
    "        \n",
    "        return \"\".join(sorted_str)\n",
    "\n",
    "    # Test cases\n",
    "    test_strings = [\"dcba\", \"hello\", \"python\", \"zyxwvu\"]\n",
    "    for test_str in test_strings:\n",
    "        assert \"\".join(sorted(test_str)) == sort_string(test_str)"
   ]
  }
 ],
 "metadata": {
  "kernelspec": {
   "display_name": "venv",
   "language": "python",
   "name": "python3"
  },
  "language_info": {
   "codemirror_mode": {
    "name": "ipython",
    "version": 3
   },
   "file_extension": ".py",
   "mimetype": "text/x-python",
   "name": "python",
   "nbconvert_exporter": "python",
   "pygments_lexer": "ipython3",
   "version": "3.10.12"
  }
 },
 "nbformat": 4,
 "nbformat_minor": 5
}
