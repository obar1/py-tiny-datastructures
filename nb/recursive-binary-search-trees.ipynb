{
 "cells": [
  {
   "cell_type": "markdown",
   "id": "f999a301",
   "metadata": {},
   "source": [
    "# Recursive Binary Search Trees"
   ]
  },
  {
   "cell_type": "code",
   "execution_count": 3,
   "id": "ea152f13",
   "metadata": {},
   "outputs": [],
   "source": [
    "import sys\n",
    "sys.path.append('../src')"
   ]
  },
  {
   "cell_type": "code",
   "execution_count": null,
   "id": "4e46d2ec",
   "metadata": {},
   "outputs": [],
   "source": [
    "from recursive_binary_search_trees import LinkedList"
   ]
  },
  {
   "cell_type": "markdown",
   "id": "ba0b2eb7",
   "metadata": {},
   "source": [
    "![title](image.png)\n"
   ]
  },
  {
   "cell_type": "code",
   "execution_count": 2,
   "id": "2ae6ed62",
   "metadata": {},
   "outputs": [
    {
     "ename": "Exception",
     "evalue": "File `'../node/node_lr.ipynb'` not found.",
     "output_type": "error",
     "traceback": [
      "\u001b[0;31m---------------------------------------------------------------------------\u001b[0m",
      "\u001b[0;31mOSError\u001b[0m                                   Traceback (most recent call last)",
      "File \u001b[0;32m~/git/obar1/py-tiny-datastructures.git/venv/lib/python3.10/site-packages/IPython/core/magics/execution.py:720\u001b[0m, in \u001b[0;36mExecutionMagics.run\u001b[0;34m(self, parameter_s, runner, file_finder)\u001b[0m\n\u001b[1;32m    719\u001b[0m     fpath \u001b[38;5;241m=\u001b[39m arg_lst[\u001b[38;5;241m0\u001b[39m]\n\u001b[0;32m--> 720\u001b[0m     filename \u001b[38;5;241m=\u001b[39m \u001b[43mfile_finder\u001b[49m\u001b[43m(\u001b[49m\u001b[43mfpath\u001b[49m\u001b[43m)\u001b[49m\n\u001b[1;32m    721\u001b[0m \u001b[38;5;28;01mexcept\u001b[39;00m \u001b[38;5;167;01mIndexError\u001b[39;00m \u001b[38;5;28;01mas\u001b[39;00m e:\n",
      "File \u001b[0;32m~/git/obar1/py-tiny-datastructures.git/venv/lib/python3.10/site-packages/IPython/utils/path.py:91\u001b[0m, in \u001b[0;36mget_py_filename\u001b[0;34m(name)\u001b[0m\n\u001b[1;32m     90\u001b[0m         \u001b[38;5;28;01mreturn\u001b[39;00m py_name\n\u001b[0;32m---> 91\u001b[0m \u001b[38;5;28;01mraise\u001b[39;00m \u001b[38;5;167;01mIOError\u001b[39;00m(\u001b[38;5;124m\"\u001b[39m\u001b[38;5;124mFile `\u001b[39m\u001b[38;5;132;01m%r\u001b[39;00m\u001b[38;5;124m` not found.\u001b[39m\u001b[38;5;124m\"\u001b[39m \u001b[38;5;241m%\u001b[39m name)\n",
      "\u001b[0;31mOSError\u001b[0m: File `'../node/node_lr.ipynb'` not found.",
      "\nThe above exception was the direct cause of the following exception:\n",
      "\u001b[0;31mException\u001b[0m                                 Traceback (most recent call last)",
      "Cell \u001b[0;32mIn[2], line 1\u001b[0m\n\u001b[0;32m----> 1\u001b[0m \u001b[43mget_ipython\u001b[49m\u001b[43m(\u001b[49m\u001b[43m)\u001b[49m\u001b[38;5;241;43m.\u001b[39;49m\u001b[43mrun_line_magic\u001b[49m\u001b[43m(\u001b[49m\u001b[38;5;124;43m'\u001b[39;49m\u001b[38;5;124;43mrun\u001b[39;49m\u001b[38;5;124;43m'\u001b[39;49m\u001b[43m,\u001b[49m\u001b[43m \u001b[49m\u001b[38;5;124;43m'\u001b[39;49m\u001b[38;5;124;43m../node/node_lr.ipynb import Node\u001b[39;49m\u001b[38;5;124;43m'\u001b[39;49m\u001b[43m)\u001b[49m\n",
      "File \u001b[0;32m~/git/obar1/py-tiny-datastructures.git/venv/lib/python3.10/site-packages/IPython/core/interactiveshell.py:2482\u001b[0m, in \u001b[0;36mInteractiveShell.run_line_magic\u001b[0;34m(self, magic_name, line, _stack_depth)\u001b[0m\n\u001b[1;32m   2480\u001b[0m     kwargs[\u001b[38;5;124m'\u001b[39m\u001b[38;5;124mlocal_ns\u001b[39m\u001b[38;5;124m'\u001b[39m] \u001b[38;5;241m=\u001b[39m \u001b[38;5;28mself\u001b[39m\u001b[38;5;241m.\u001b[39mget_local_scope(stack_depth)\n\u001b[1;32m   2481\u001b[0m \u001b[38;5;28;01mwith\u001b[39;00m \u001b[38;5;28mself\u001b[39m\u001b[38;5;241m.\u001b[39mbuiltin_trap:\n\u001b[0;32m-> 2482\u001b[0m     result \u001b[38;5;241m=\u001b[39m \u001b[43mfn\u001b[49m\u001b[43m(\u001b[49m\u001b[38;5;241;43m*\u001b[39;49m\u001b[43margs\u001b[49m\u001b[43m,\u001b[49m\u001b[43m \u001b[49m\u001b[38;5;241;43m*\u001b[39;49m\u001b[38;5;241;43m*\u001b[39;49m\u001b[43mkwargs\u001b[49m\u001b[43m)\u001b[49m\n\u001b[1;32m   2484\u001b[0m \u001b[38;5;66;03m# The code below prevents the output from being displayed\u001b[39;00m\n\u001b[1;32m   2485\u001b[0m \u001b[38;5;66;03m# when using magics with decorator @output_can_be_silenced\u001b[39;00m\n\u001b[1;32m   2486\u001b[0m \u001b[38;5;66;03m# when the last Python token in the expression is a ';'.\u001b[39;00m\n\u001b[1;32m   2487\u001b[0m \u001b[38;5;28;01mif\u001b[39;00m \u001b[38;5;28mgetattr\u001b[39m(fn, magic\u001b[38;5;241m.\u001b[39mMAGIC_OUTPUT_CAN_BE_SILENCED, \u001b[38;5;28;01mFalse\u001b[39;00m):\n",
      "File \u001b[0;32m~/git/obar1/py-tiny-datastructures.git/venv/lib/python3.10/site-packages/IPython/core/magics/execution.py:731\u001b[0m, in \u001b[0;36mExecutionMagics.run\u001b[0;34m(self, parameter_s, runner, file_finder)\u001b[0m\n\u001b[1;32m    729\u001b[0m     \u001b[38;5;28;01mif\u001b[39;00m os\u001b[38;5;241m.\u001b[39mname \u001b[38;5;241m==\u001b[39m \u001b[38;5;124m'\u001b[39m\u001b[38;5;124mnt\u001b[39m\u001b[38;5;124m'\u001b[39m \u001b[38;5;129;01mand\u001b[39;00m re\u001b[38;5;241m.\u001b[39mmatch(\u001b[38;5;124mr\u001b[39m\u001b[38;5;124m\"\u001b[39m\u001b[38;5;124m^\u001b[39m\u001b[38;5;124m'\u001b[39m\u001b[38;5;124m.*\u001b[39m\u001b[38;5;124m'\u001b[39m\u001b[38;5;124m$\u001b[39m\u001b[38;5;124m\"\u001b[39m,fpath):\n\u001b[1;32m    730\u001b[0m         warn(\u001b[38;5;124m'\u001b[39m\u001b[38;5;124mFor Windows, use double quotes to wrap a filename: \u001b[39m\u001b[38;5;132;01m%r\u001b[39;00m\u001b[38;5;124mun \u001b[39m\u001b[38;5;124m\"\u001b[39m\u001b[38;5;124mmypath\u001b[39m\u001b[38;5;130;01m\\\\\u001b[39;00m\u001b[38;5;124mmyfile.py\u001b[39m\u001b[38;5;124m\"\u001b[39m\u001b[38;5;124m'\u001b[39m)\n\u001b[0;32m--> 731\u001b[0m     \u001b[38;5;28;01mraise\u001b[39;00m \u001b[38;5;167;01mException\u001b[39;00m(msg) \u001b[38;5;28;01mfrom\u001b[39;00m\u001b[38;5;250m \u001b[39m\u001b[38;5;21;01me\u001b[39;00m\n\u001b[1;32m    732\u001b[0m \u001b[38;5;28;01mexcept\u001b[39;00m \u001b[38;5;167;01mTypeError\u001b[39;00m:\n\u001b[1;32m    733\u001b[0m     \u001b[38;5;28;01mif\u001b[39;00m fpath \u001b[38;5;129;01min\u001b[39;00m sys\u001b[38;5;241m.\u001b[39mmeta_path:\n",
      "\u001b[0;31mException\u001b[0m: File `'../node/node_lr.ipynb'` not found."
     ]
    }
   ],
   "source": [
    "%run ../node/node_lr.ipynb import Node"
   ]
  },
  {
   "cell_type": "code",
   "execution_count": null,
   "id": "a826383d",
   "metadata": {},
   "outputs": [],
   "source": [
    "class BinarySearchTree:\n",
    "\n",
    "    @property\n",
    "    def id(self):\n",
    "        return \"binary search tree\"\n",
    "\n",
    "    def __init__(self):\n",
    "        self.root = None\n",
    "\n",
    "    def __r_insert(self, current_node, value):\n",
    "        if current_node == None:\n",
    "            return Node(value)\n",
    "        if value < current_node.value:\n",
    "            current_node.left = self.__r_insert(current_node.left, value)\n",
    "        if value > current_node.value:\n",
    "            current_node.right = self.__r_insert(current_node.right, value)\n",
    "        return current_node\n",
    "\n",
    "    def insert(self, value):\n",
    "        if self.root == None:\n",
    "            self.root = Node(value)\n",
    "        self.__r_insert(self.root, value)\n",
    "\n",
    "    def contains(self, value):\n",
    "        temp = self.root\n",
    "        while temp is not None:\n",
    "            if value < temp.value:\n",
    "                temp = temp.left\n",
    "            elif value > temp.value:\n",
    "                temp = temp.right\n",
    "            else:\n",
    "                return True\n",
    "        return False\n",
    "\n",
    "    def __r_contains(self, current_node, value):\n",
    "        if current_node == None:\n",
    "            return False\n",
    "        if value == current_node.value:\n",
    "            return True\n",
    "        if value < current_node.value:\n",
    "            return self.__r_contains(current_node.left, value)\n",
    "        if value > current_node.value:\n",
    "            return self.__r_contains(current_node.right, value)\n",
    "\n",
    "    def r_contains(self, value):\n",
    "        return self.__r_contains(self.root, value)\n",
    "\n",
    "    def _find_min(self, node):\n",
    "        current = node\n",
    "        while current.left is not None:\n",
    "            current = current.left\n",
    "        return current.value\n",
    "\n",
    "    def _delete_recursive(self, node, value):\n",
    "        # Base case: Empty tree\n",
    "        if node is None:\n",
    "            return None\n",
    "\n",
    "        # Find the node to delete\n",
    "        if value < node.value:\n",
    "            node.left = self._delete_recursive(node.left, value)\n",
    "        elif value > node.value:\n",
    "            node.right = self._delete_recursive(node.right, value)\n",
    "        else:\n",
    "            # Handle different cases of node deletion\n",
    "            # Case 1: No children\n",
    "            if node.left is None and node.right is None:\n",
    "                return None\n",
    "\n",
    "            # Case 2: One child (right child exists)\n",
    "            if node.left is None:\n",
    "                return node.right\n",
    "\n",
    "            # Case 2: One child (left child exists)\n",
    "            if node.right is None:\n",
    "                return node.left\n",
    "\n",
    "            # Case 3: Two children\n",
    "            min_value = self._find_min(node.right)\n",
    "            node.value = min_value\n",
    "            node.right = self._delete_recursive(node.right, min_value)\n",
    "\n",
    "        return node\n",
    "\n",
    "    def delete_node(self, value):\n",
    "        self.root = self._delete_recursive(self.root, value)"
   ]
  },
  {
   "cell_type": "code",
   "execution_count": null,
   "id": "52afbf00",
   "metadata": {},
   "outputs": [],
   "source": [
    "import pytest\n",
    "\n",
    "\n",
    "@pytest.fixture\n",
    "def get_r_bst():\n",
    "    return BinarySearchTree()"
   ]
  },
  {
   "cell_type": "code",
   "execution_count": null,
   "id": "1559cc81",
   "metadata": {},
   "outputs": [
    {
     "name": "stdout",
     "output_type": "stream",
     "text": [
      "\u001b[32m.\u001b[0m\u001b[32m                                                                                            [100%]\u001b[0m\n",
      "\u001b[32m\u001b[32m\u001b[1m1 passed\u001b[0m\u001b[32m in 0.01s\u001b[0m\u001b[0m\n",
      "\u001b[32m                                                                                            [100%]\u001b[0m\n",
      "\u001b[32m\u001b[32m\u001b[1m1 passed\u001b[0m\u001b[32m in 0.01s\u001b[0m\u001b[0m\n"
     ]
    }
   ],
   "source": [
    "%%ipytest\n",
    "\n",
    "def test(get_r_bst):\n",
    "    get_r_bst.insert(47)\n",
    "    get_r_bst.insert(21)\n",
    "    get_r_bst.insert(76)\n",
    "    get_r_bst.insert(18)\n",
    "    get_r_bst.insert(27)\n",
    "    get_r_bst.insert(52)\n",
    "    get_r_bst.insert(82)\n",
    "\n",
    "    assert get_r_bst.r_contains(27)\n",
    "    assert get_r_bst.r_contains(17) == False\n",
    "\n"
   ]
  },
  {
   "cell_type": "code",
   "execution_count": null,
   "id": "47a99113",
   "metadata": {},
   "outputs": [
    {
     "name": "stdout",
     "output_type": "stream",
     "text": [
      "\u001b[32m.\u001b[0m\u001b[32m                                                                                            [100%]\u001b[0m\n",
      "\u001b[32m\u001b[32m\u001b[1m1 passed\u001b[0m\u001b[32m in 0.00s\u001b[0m\u001b[0m\n",
      "\u001b[32m                                                                                            [100%]\u001b[0m\n",
      "\u001b[32m\u001b[32m\u001b[1m1 passed\u001b[0m\u001b[32m in 0.00s\u001b[0m\u001b[0m\n"
     ]
    }
   ],
   "source": [
    "%%ipytest\n",
    "\n",
    "def test(get_r_bst):\n",
    "    get_r_bst.insert(2)\n",
    "    get_r_bst.insert(1)\n",
    "    get_r_bst.insert(3)\n",
    "\n",
    "    assert(str(get_r_bst.root)) == \"node:2\"\n",
    "    assert(str(get_r_bst.root.left)) == \"node:1\"\n",
    "    assert(str(get_r_bst.root.right)) == \"node:3\""
   ]
  },
  {
   "cell_type": "code",
   "execution_count": null,
   "id": "27e7ec52",
   "metadata": {},
   "outputs": [
    {
     "name": "stdout",
     "output_type": "stream",
     "text": [
      "\u001b[32m.\u001b[0m\u001b[32m                                                                                            [100%]\u001b[0m\n",
      "\u001b[32m\u001b[32m\u001b[1m1 passed\u001b[0m\u001b[32m in 0.01s\u001b[0m\u001b[0m\n",
      "\u001b[32m                                                                                            [100%]\u001b[0m\n",
      "\u001b[32m\u001b[32m\u001b[1m1 passed\u001b[0m\u001b[32m in 0.01s\u001b[0m\u001b[0m\n"
     ]
    }
   ],
   "source": [
    "%%ipytest\n",
    "\n",
    "def test(get_r_bst):\n",
    "    get_r_bst.insert(2)\n",
    "    get_r_bst.insert(1)\n",
    "    get_r_bst.insert(3)\n",
    "    get_r_bst.delete_node(2)\n",
    "\n",
    "    assert(str(get_r_bst.root)) == \"node:3\"\n",
    "    assert(str(get_r_bst.root.left)) == \"node:1\"\n",
    "    assert(str(get_r_bst.root.right)) == \"None\"\n",
    "\n",
    "\n",
    "    get_r_bst.delete_node(3)\n",
    "\n",
    "    assert(str(get_r_bst.root)) == \"node:1\"\n",
    "    assert(str(get_r_bst.root.left)) == \"None\"\n",
    "    assert(str(get_r_bst.root.right)) == \"None\""
   ]
  }
 ],
 "metadata": {
  "kernelspec": {
   "display_name": "venv",
   "language": "python",
   "name": "python3"
  },
  "language_info": {
   "codemirror_mode": {
    "name": "ipython",
    "version": 3
   },
   "file_extension": ".py",
   "mimetype": "text/x-python",
   "name": "python",
   "nbconvert_exporter": "python",
   "pygments_lexer": "ipython3",
   "version": "3.10.12"
  }
 },
 "nbformat": 4,
 "nbformat_minor": 5
}
