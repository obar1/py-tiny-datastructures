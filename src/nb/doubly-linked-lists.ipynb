{
 "cells": [
  {
   "cell_type": "markdown",
   "id": "73401b57",
   "metadata": {},
   "source": [
    "# double linked lists\n",
    "![title](assets/image-dll0.png)"
   ]
  },
  {
   "cell_type": "code",
   "execution_count": null,
   "id": "b4087d3f",
   "metadata": {},
   "outputs": [],
   "source": [
    "import sys, os\n",
    "\n",
    "\n",
    "sys.path.append(os.path.abspath(\"..\"))"
   ]
  },
  {
   "cell_type": "code",
   "execution_count": null,
   "id": "55032eb5",
   "metadata": {},
   "outputs": [],
   "source": [
    "from src.doubly_linked_lists import DoublyLinkedList\n",
    "\n",
    "\n",
    "DoublyLinkedList(0).ds_func"
   ]
  }
 ],
 "metadata": {
  "kernelspec": {
   "display_name": "venv",
   "language": "python",
   "name": "python3"
  },
  "language_info": {
   "codemirror_mode": {
    "name": "ipython",
    "version": 3
   },
   "file_extension": ".py",
   "mimetype": "text/x-python",
   "name": "python",
   "nbconvert_exporter": "python",
   "pygments_lexer": "ipython3",
   "version": "3.10.10"
  }
 },
 "nbformat": 4,
 "nbformat_minor": 5
}
