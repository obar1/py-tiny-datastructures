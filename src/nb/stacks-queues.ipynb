{
 "cells": [
  {
   "cell_type": "markdown",
   "id": "f999a301",
   "metadata": {},
   "source": [
    "# Stack & Queues\n"
   ]
  },
  {
   "cell_type": "markdown",
   "id": "f295ad07",
   "metadata": {},
   "source": [
    "![title](assets/image-sq0.png)\n",
    "![title](assets/image-sq1.png)\n"
   ]
  },
  {
   "cell_type": "code",
   "execution_count": 73,
   "id": "74cec805",
   "metadata": {},
   "outputs": [],
   "source": [
    "import sys, os\n",
    "\n",
    "\n",
    "sys.path.append(os.path.abspath(\"..\"))"
   ]
  },
  {
   "cell_type": "code",
   "execution_count": 74,
   "id": "a826383d",
   "metadata": {},
   "outputs": [
    {
     "data": {
      "text/plain": [
       "{'get_id', 'pop', 'push'}"
      ]
     },
     "execution_count": 74,
     "metadata": {},
     "output_type": "execute_result"
    }
   ],
   "source": [
    "from src.stacks_queues import Stack\n",
    "\n",
    "\n",
    "Stack(0).ds_func"
   ]
  },
  {
   "cell_type": "code",
   "execution_count": 75,
   "id": "6c141089",
   "metadata": {},
   "outputs": [
    {
     "data": {
      "text/plain": [
       "{'get_id', 'is_empty', 'peek', 'pop', 'push', 'size'}"
      ]
     },
     "execution_count": 75,
     "metadata": {},
     "output_type": "execute_result"
    }
   ],
   "source": [
    "from src.stacks_queues import StackL\n",
    "\n",
    "\n",
    "StackL().ds_func"
   ]
  },
  {
   "cell_type": "code",
   "execution_count": 76,
   "id": "b1448b85",
   "metadata": {},
   "outputs": [
    {
     "data": {
      "text/plain": [
       "{'dequeue', 'enqueue', 'get_id', 'print_list'}"
      ]
     },
     "execution_count": 76,
     "metadata": {},
     "output_type": "execute_result"
    }
   ],
   "source": [
    "from src.stacks_queues import Queue\n",
    "\n",
    "\n",
    "Queue(0).ds_func"
   ]
  }
 ],
 "metadata": {
  "kernelspec": {
   "display_name": "venv",
   "language": "python",
   "name": "python3"
  },
  "language_info": {
   "codemirror_mode": {
    "name": "ipython",
    "version": 3
   },
   "file_extension": ".py",
   "mimetype": "text/x-python",
   "name": "python",
   "nbconvert_exporter": "python",
   "pygments_lexer": "ipython3",
   "version": "3.10.12"
  }
 },
 "nbformat": 4,
 "nbformat_minor": 5
}
