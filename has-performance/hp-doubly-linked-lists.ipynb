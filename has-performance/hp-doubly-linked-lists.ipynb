{
 "cells": [
  {
   "cell_type": "markdown",
   "id": "d48bea62",
   "metadata": {},
   "source": [
    "# Has Performance Doubly Linked Lists"
   ]
  },
  {
   "cell_type": "code",
   "execution_count": 11,
   "id": "bd04019d",
   "metadata": {},
   "outputs": [],
   "source": [
    "import ipytest\n",
    "\n",
    "ipytest.autoconfig(raise_on_error=True)  # For CI environments"
   ]
  },
  {
   "cell_type": "code",
   "execution_count": 12,
   "id": "d22e1764",
   "metadata": {},
   "outputs": [
    {
     "name": "stdout",
     "output_type": "stream",
     "text": [
      "\u001b[32m.\u001b[0m\u001b[32m                                                                                            [100%]\u001b[0m\u001b[32m                                                                                            [100%]\u001b[0m\n",
      "\u001b[32m\u001b[32m\u001b[1m1 passed\u001b[0m\u001b[32m in 0.02s\u001b[0m\u001b[0m\n",
      "\u001b[32m.\u001b[0m\u001b[32m                                                                                            [100%]\u001b[0m\n",
      "\u001b[32m\u001b[32m\u001b[1m1 passed\u001b[0m\u001b[32m in 0.02s\u001b[0m\u001b[0m\n",
      "\u001b[32m.\u001b[0m\u001b[32m                                                                                            [100%]\u001b[0m\n",
      "\u001b[32m\u001b[32m\u001b[1m1 passed\u001b[0m\u001b[32m in 0.02s\u001b[0m\u001b[0m\n",
      "\u001b[32m.\u001b[0m\u001b[32m                                                                                            [100%]\u001b[0m\n",
      "\u001b[32m\u001b[32m\u001b[1m1 passed\u001b[0m\u001b[32m in 0.02s\u001b[0m\u001b[0m\n",
      "\u001b[32m.\u001b[0m\u001b[32m                                                                                            [100%]\u001b[0m\n",
      "\u001b[32m\u001b[32m\u001b[1m1 passed\u001b[0m\u001b[32m in 0.02s\u001b[0m\u001b[0m\n",
      "\u001b[32m.\u001b[0m\u001b[32m                                                                                            [100%]\u001b[0m\n",
      "\u001b[32m\u001b[32m\u001b[1m1 passed\u001b[0m\u001b[32m in 0.03s\u001b[0m\u001b[0m\n",
      "\u001b[32m.\u001b[0m\u001b[32m                                                                                            [100%]\u001b[0m\n",
      "\u001b[32m\u001b[32m\u001b[1m1 passed\u001b[0m\u001b[32m in 0.04s\u001b[0m\u001b[0m\n",
      "\u001b[32m.\u001b[0m\u001b[32m                                                                                            [100%]\u001b[0m\n",
      "\u001b[32m\u001b[32m\u001b[1m1 passed\u001b[0m\u001b[32m in 0.02s\u001b[0m\u001b[0m\n",
      "\u001b[1m======================================= test session starts ========================================\u001b[0m\n",
      "platform linux -- Python 3.10.12, pytest-7.2.1, pluggy-1.5.0 -- /home/xsazcd/git/obar1/py-tiny-datastructures.git/.venv/bin/python\n",
      "cachedir: .pytest_cache\n",
      "rootdir: /home/xsazcd/git/obar1/py-tiny-datastructures.git/has-performance\n",
      "plugins: cov-4.0.0, pytest_notebook-0.10.0, nbval-0.10.0, anyio-4.8.0\n",
      "\u001b[1mcollecting ... \u001b[0mcollected 1 item\n",
      "\n",
      "t_d88338f8a4c0436da73d6cb5a381462f.py::test [(1, datetime.datetime(2025, 3, 14, 18, 15, 44, 846000), 'abc'), (2, datetime.datetime(2025, 3, 14, 18, 15, 44, 848000), 'efg')]\n",
      "\u001b[32mPASSED\u001b[0m\n",
      "\n",
      "\u001b[32m======================================== \u001b[32m\u001b[1m1 passed\u001b[0m\u001b[32m in 0.04s\u001b[0m\u001b[32m =========================================\u001b[0m\n"
     ]
    }
   ],
   "source": [
    "%run ../doubly-linked-lists/doubly-linked-lists.ipynb import DoublyLinkedList\n",
    "%run .//has-performance.ipynb import HasPerformance"
   ]
  },
  {
   "cell_type": "code",
   "execution_count": 13,
   "id": "816f35ad",
   "metadata": {},
   "outputs": [],
   "source": [
    "class HPDoublyLinkedList:\n",
    "    def __init__(self):\n",
    "        self.has_performance: HasPerformance = HasPerformance()\n",
    "        self.doubly_linked_list: DoublyLinkedList = DoublyLinkedList(None)\n",
    "\n",
    "    def perf_insert(self, n):\n",
    "        self.doubly_linked_list.append(n)\n",
    "        txt = f\"added {n}\"\n",
    "        self.has_performance.save(txt)"
   ]
  },
  {
   "cell_type": "code",
   "execution_count": 14,
   "id": "1830d515",
   "metadata": {},
   "outputs": [],
   "source": [
    "import pytest\n",
    "\n",
    "\n",
    "@pytest.fixture\n",
    "def get_hp_dll():\n",
    "    return HPDoublyLinkedList()"
   ]
  }
 ],
 "metadata": {
  "kernelspec": {
   "display_name": ".venv",
   "language": "python",
   "name": "python3"
  },
  "language_info": {
   "codemirror_mode": {
    "name": "ipython",
    "version": 3
   },
   "file_extension": ".py",
   "mimetype": "text/x-python",
   "name": "python",
   "nbconvert_exporter": "python",
   "pygments_lexer": "ipython3",
   "version": "3.10.12"
  }
 },
 "nbformat": 4,
 "nbformat_minor": 5
}
