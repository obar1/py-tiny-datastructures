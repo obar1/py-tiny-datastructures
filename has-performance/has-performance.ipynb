{
 "cells": [
  {
   "cell_type": "markdown",
   "id": "f999a301",
   "metadata": {},
   "source": [
    "# has performance"
   ]
  },
  {
   "cell_type": "code",
   "execution_count": 84,
   "id": "ea152f13",
   "metadata": {},
   "outputs": [],
   "source": [
    "import ipytest\n",
    "\n",
    "ipytest.autoconfig(raise_on_error=True)  # For CI environments"
   ]
  },
  {
   "cell_type": "code",
   "execution_count": 85,
   "id": "a826383d",
   "metadata": {},
   "outputs": [],
   "source": [
    "import duckdb\n",
    "\n",
    "\n",
    "class HasPerformance:\n",
    "    def __init__(self):\n",
    "        self.con = duckdb.connect(\":memory:\")\n",
    "        self.con.sql(\n",
    "            \"\"\"\n",
    "            CREATE SEQUENCE id_sequence START 1;\n",
    "            CREATE TABLE tbl (id INTEGER DEFAULT nextval('id_sequence'), created_at TIMESTAMP DEFAULT CURRENT_TIMESTAMP, s VARCHAR);\n",
    "            \"\"\"\n",
    "        )\n",
    "\n",
    "    def save(self, txt: str):\n",
    "        \"\"\"save some txt\n",
    "\n",
    "        Args:\n",
    "            txt (str): any txt\n",
    "        \"\"\"\n",
    "        self.con.sql(f\"INSERT INTO tbl (s) VALUES ('{txt}');\")"
   ]
  },
  {
   "cell_type": "code",
   "execution_count": 86,
   "id": "52afbf00",
   "metadata": {},
   "outputs": [],
   "source": [
    "import pytest\n",
    "\n",
    "\n",
    "@pytest.fixture(scope=\"session\", autouse=True)\n",
    "def get_hp():\n",
    "    return HasPerformance()"
   ]
  },
  {
   "cell_type": "code",
   "execution_count": 92,
   "id": "1559cc81",
   "metadata": {},
   "outputs": [
    {
     "name": "stdout",
     "output_type": "stream",
     "text": [
      "\u001b[1m======================================= test session starts ========================================\u001b[0m\n",
      "platform linux -- Python 3.10.12, pytest-7.2.1, pluggy-1.5.0 -- /home/xsazcd/git/obar1/py-tiny-datastructures.git/.venv/bin/python\n",
      "cachedir: .pytest_cache\n",
      "rootdir: /home/xsazcd/git/obar1/py-tiny-datastructures.git/has-performance\n",
      "plugins: cov-4.0.0, pytest_notebook-0.10.0, nbval-0.10.0, anyio-4.8.0\n",
      "\u001b[1mcollecting ... \u001b[0mcollected 1 item\n",
      "\n",
      "t_97bf78ae14a243e2aa476ddf606d42ed.py::test collected 1 item\n",
      "\n",
      "t_97bf78ae14a243e2aa476ddf606d42ed.py::test [(1, datetime.datetime(2025, 3, 14, 17, 36, 49, 452000), 'abc'), (2, datetime.datetime(2025, 3, 14, 17, 36, 49, 453000), 'efg')]\n",
      "\u001b[32mPASSED\u001b[0m\n",
      "\n",
      "\u001b[32m======================================== \u001b[32m\u001b[1m1 passed\u001b[0m\u001b[32m in 0.03s\u001b[0m\u001b[32m =========================================\u001b[0m\n"
     ]
    }
   ],
   "source": [
    "%%ipytest -vv -s\n",
    "\n",
    "def test(get_hp):\n",
    "    get_hp.save('abc')\n",
    "    get_hp.save('efg')\n",
    "\n",
    "    res = \"\".join(str(get_hp.con.sql(\"SELECT id, s FROM tbl\").fetchall()))\n",
    "\n",
    "    assert res == \"[(1, 'abc'), (2, 'efg')]\"\n",
    "    print(\"\".join(str(get_hp.con.sql(\"SELECT * FROM tbl\").fetchall())))\n"
   ]
  }
 ],
 "metadata": {
  "kernelspec": {
   "display_name": ".venv",
   "language": "python",
   "name": "python3"
  },
  "language_info": {
   "codemirror_mode": {
    "name": "ipython",
    "version": 3
   },
   "file_extension": ".py",
   "mimetype": "text/x-python",
   "name": "python",
   "nbconvert_exporter": "python",
   "pygments_lexer": "ipython3",
   "version": "3.10.12"
  }
 },
 "nbformat": 4,
 "nbformat_minor": 5
}
