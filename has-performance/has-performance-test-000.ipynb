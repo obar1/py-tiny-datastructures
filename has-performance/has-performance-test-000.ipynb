{
 "cells": [
  {
   "cell_type": "markdown",
   "id": "4444ded0",
   "metadata": {},
   "source": [
    "# Performance Test 000"
   ]
  },
  {
   "cell_type": "code",
   "execution_count": 141,
   "id": "8c84a302",
   "metadata": {},
   "outputs": [],
   "source": [
    "import ipytest\n",
    "\n",
    "ipytest.autoconfig(raise_on_error=True)  # For CI environments"
   ]
  },
  {
   "cell_type": "code",
   "execution_count": 142,
   "id": "d433210a",
   "metadata": {},
   "outputs": [
    {
     "name": "stdout",
     "output_type": "stream",
     "text": [
      "\u001b[32m.\u001b[0m\u001b[32m                                                                                            [100%]\u001b[0m\u001b[32m                                                                                            [100%]\u001b[0m\n",
      "\u001b[32m\u001b[32m\u001b[1m1 passed\u001b[0m\u001b[32m in 0.03s\u001b[0m\u001b[0m\n",
      "\u001b[1m======================================= test session starts ========================================\u001b[0m\n",
      "platform linux -- Python 3.10.12, pytest-7.2.1, pluggy-1.5.0 -- /home/xsazcd/git/obar1/py-tiny-datastructures.git/.venv/bin/python\n",
      "cachedir: .pytest_cache\n",
      "rootdir: /home/xsazcd/git/obar1/py-tiny-datastructures.git/has-performance\n",
      "plugins: cov-4.0.0, pytest_notebook-0.10.0, nbval-0.10.0, anyio-4.8.0\n",
      "\u001b[1mcollecting ... \u001b[0mcollected 1 item\n",
      "\n",
      "t_95019491d3b64f68a51d7a55997c8e05.py::test \u001b[32mPASSED\u001b[0m\u001b[32m                                           [100%]\u001b[0m\n",
      "\n",
      "\u001b[32m======================================== \u001b[32m\u001b[1m1 passed\u001b[0m\u001b[32m in 0.05s\u001b[0m\u001b[32m =========================================\u001b[0m\n",
      "\u001b[1m======================================= test session starts ========================================\u001b[0m\n",
      "platform linux -- Python 3.10.12, pytest-7.2.1, pluggy-1.5.0 -- /home/xsazcd/git/obar1/py-tiny-datastructures.git/.venv/bin/python\n",
      "cachedir: .pytest_cache\n",
      "rootdir: /home/xsazcd/git/obar1/py-tiny-datastructures.git/has-performance\n",
      "plugins: cov-4.0.0, pytest_notebook-0.10.0, nbval-0.10.0, anyio-4.8.0\n",
      "\u001b[1mcollecting ... \u001b[0mcollected 1 item\n",
      "\n",
      "t_95019491d3b64f68a51d7a55997c8e05.py::test \u001b[32mPASSED\u001b[0m\u001b[32m                                           [100%]\u001b[0m\n",
      "\n",
      "\u001b[32m======================================== \u001b[32m\u001b[1m1 passed\u001b[0m\u001b[32m in 0.03s\u001b[0m\u001b[32m =========================================\u001b[0m\n",
      "\u001b[32m.\u001b[0m\u001b[32m                                                                                            [100%]\u001b[0m\n",
      "\u001b[32m\u001b[32m\u001b[1m1 passed\u001b[0m\u001b[32m in 0.03s\u001b[0m\u001b[0m\n",
      "\u001b[32m.\u001b[0m\u001b[32m                                                                                            [100%]\u001b[0m\n",
      "\u001b[32m\u001b[32m\u001b[1m1 passed\u001b[0m\u001b[32m in 0.03s\u001b[0m\u001b[0m\n",
      "\u001b[32m.\u001b[0m\u001b[32m                                                                                            [100%]\u001b[0m\n",
      "\u001b[32m\u001b[32m\u001b[1m1 passed\u001b[0m\u001b[32m in 0.03s\u001b[0m\u001b[0m\n",
      "\u001b[32m.\u001b[0m\u001b[32m                                                                                            [100%]\u001b[0m\n",
      "\u001b[32m\u001b[32m\u001b[1m1 passed\u001b[0m\u001b[32m in 0.03s\u001b[0m\u001b[0m\n",
      "\u001b[32m.\u001b[0m\u001b[32m                                                                                            [100%]\u001b[0m\n",
      "\u001b[32m\u001b[32m\u001b[1m1 passed\u001b[0m\u001b[32m in 0.02s\u001b[0m\u001b[0m\n",
      "\u001b[32m.\u001b[0m\u001b[32m                                                                                            [100%]\u001b[0m\n",
      "\u001b[32m\u001b[32m\u001b[1m1 passed\u001b[0m\u001b[32m in 0.02s\u001b[0m\u001b[0m\n",
      "\u001b[32m.\u001b[0m\u001b[32m                                                                                            [100%]\u001b[0m\n",
      "\u001b[32m\u001b[32m\u001b[1m1 passed\u001b[0m\u001b[32m in 0.02s\u001b[0m\u001b[0m\n",
      "\u001b[32m.\u001b[0m\u001b[32m                                                                                            [100%]\u001b[0m\n",
      "\u001b[32m\u001b[32m\u001b[1m1 passed\u001b[0m\u001b[32m in 0.02s\u001b[0m\u001b[0m\n",
      "\u001b[1m======================================= test session starts ========================================\u001b[0m\n",
      "platform linux -- Python 3.10.12, pytest-7.2.1, pluggy-1.5.0 -- /home/xsazcd/git/obar1/py-tiny-datastructures.git/.venv/bin/python\n",
      "cachedir: .pytest_cache\n",
      "rootdir: /home/xsazcd/git/obar1/py-tiny-datastructures.git/has-performance\n",
      "plugins: cov-4.0.0, pytest_notebook-0.10.0, nbval-0.10.0, anyio-4.8.0\n",
      "\u001b[1mcollecting ... \u001b[0mcollected 1 item\n",
      "\n",
      "t_95019491d3b64f68a51d7a55997c8e05.py::test [(1, datetime.datetime(2025, 3, 14, 21, 42, 20, 269000), 'abc'), (2, datetime.datetime(2025, 3, 14, 21, 42, 20, 270000), 'efg')]\n",
      "\u001b[32mPASSED\u001b[0m\n",
      "\n",
      "\u001b[32m======================================== \u001b[32m\u001b[1m1 passed\u001b[0m\u001b[32m in 0.04s\u001b[0m\u001b[32m =========================================\u001b[0m\n"
     ]
    }
   ],
   "source": [
    "%run ../heaps/heaps.ipynb import MaxHeap\n",
    "%run ../doubly-linked-lists/doubly-linked-lists.ipynb import DoublyLinkedList\n",
    "%run ./has-performance.ipynb import HasPerformance"
   ]
  },
  {
   "cell_type": "code",
   "execution_count": 143,
   "id": "9dca840c",
   "metadata": {},
   "outputs": [],
   "source": [
    "import pytest\n",
    "\n",
    "\n",
    "@pytest.fixture(scope=\"session\", autouse=True)\n",
    "def get_hp():\n",
    "    return HasPerformance()\n",
    "\n",
    "\n",
    "@pytest.fixture(scope=\"session\", autouse=True)\n",
    "def get_mh():\n",
    "    return MaxHeap()\n",
    "\n",
    "\n",
    "@pytest.fixture(scope=\"session\", autouse=True)\n",
    "def get_dll():\n",
    "    return DoublyLinkedList(None)"
   ]
  },
  {
   "cell_type": "code",
   "execution_count": 144,
   "id": "3b27d157",
   "metadata": {},
   "outputs": [],
   "source": [
    "n_iterations = 100000"
   ]
  },
  {
   "cell_type": "code",
   "execution_count": 145,
   "id": "b27d8ce2",
   "metadata": {},
   "outputs": [
    {
     "name": "stdout",
     "output_type": "stream",
     "text": [
      "\u001b[1m======================================= test session starts ========================================\u001b[0m\n",
      "platform linux -- Python 3.10.12, pytest-7.2.1, pluggy-1.5.0\n",
      "rootdir: /home/xsazcd/git/obar1/py-tiny-datastructures.git/has-performance\n",
      "plugins: cov-4.0.0, pytest_notebook-0.10.0, nbval-0.10.0, anyio-4.8.0\n",
      "collected 1 item\n",
      "\n",
      "t_95019491d3b64f68a51d7a55997c8e05.py \u001b[32m.\u001b[0m\n",
      "\n",
      "\u001b[32m=================================== \u001b[32m\u001b[1m1 passed\u001b[0m\u001b[32m in 82.97s (0:01:22)\u001b[0m\u001b[32m ===================================\u001b[0m\n"
     ]
    }
   ],
   "source": [
    "%%ipytest -s -v\n",
    "\n",
    "# @pytest.mark.skip(reason=\"for long execution\")\n",
    "def test_get_dll(get_hp, get_dll):\n",
    "    for i in range(n_iterations):\n",
    "        get_dll.append(i)\n",
    "        get_hp.save(f\"added {i}\")\n",
    "\n",
    "\n",
    "\n",
    "    "
   ]
  },
  {
   "cell_type": "code",
   "execution_count": 146,
   "id": "4125ac6d",
   "metadata": {},
   "outputs": [
    {
     "name": "stdout",
     "output_type": "stream",
     "text": [
      "\u001b[1m======================================= test session starts ========================================\u001b[0m\n",
      "platform linux -- Python 3.10.12, pytest-7.2.1, pluggy-1.5.0\n",
      "rootdir: /home/xsazcd/git/obar1/py-tiny-datastructures.git/has-performance\n",
      "plugins: cov-4.0.0, pytest_notebook-0.10.0, nbval-0.10.0, anyio-4.8.0\n",
      "collected 1 item\n",
      "\n",
      "t_95019491d3b64f68a51d7a55997c8e05.py \u001b[32m.\u001b[0m\n",
      "\n",
      "\u001b[32m=================================== \u001b[32m\u001b[1m1 passed\u001b[0m\u001b[32m in 65.15s (0:01:05)\u001b[0m\u001b[32m ===================================\u001b[0m\n"
     ]
    }
   ],
   "source": [
    "%%ipytest -s -v\n",
    "# @pytest.mark.skip(reason=\"for long execution\")\n",
    "def test_get_mh(get_hp, get_mh):\n",
    "    for i in range(n_iterations):\n",
    "        get_mh.insert(i)\n",
    "        get_hp.save(f\"added {i}\")\n"
   ]
  }
 ],
 "metadata": {
  "kernelspec": {
   "display_name": ".venv",
   "language": "python",
   "name": "python3"
  },
  "language_info": {
   "codemirror_mode": {
    "name": "ipython",
    "version": 3
   },
   "file_extension": ".py",
   "mimetype": "text/x-python",
   "name": "python",
   "nbconvert_exporter": "python",
   "pygments_lexer": "ipython3",
   "version": "3.10.12"
  }
 },
 "nbformat": 4,
 "nbformat_minor": 5
}
