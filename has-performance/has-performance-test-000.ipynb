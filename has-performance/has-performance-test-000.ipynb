{
 "cells": [
  {
   "cell_type": "markdown",
   "id": "4444ded0",
   "metadata": {},
   "source": [
    "# Performance Test 000"
   ]
  },
  {
   "cell_type": "code",
   "execution_count": null,
   "id": "8c84a302",
   "metadata": {},
   "outputs": [],
   "source": [
    "import ipytest\n",
    "\n",
    "ipytest.autoconfig(raise_on_error=True)  # For CI environments"
   ]
  },
  {
   "cell_type": "code",
   "execution_count": null,
   "id": "d433210a",
   "metadata": {},
   "outputs": [],
   "source": [
    "%run ../heaps/heaps.ipynb import MaxHeap\n",
    "%run ../doubly-linked-lists/doubly-linked-lists.ipynb import DoublyLinkedList\n",
    "%run ./has-performance.ipynb import HasPerformance"
   ]
  },
  {
   "cell_type": "code",
   "execution_count": null,
   "id": "9dca840c",
   "metadata": {},
   "outputs": [],
   "source": [
    "import pytest\n",
    "\n",
    "\n",
    "@pytest.fixture(scope=\"session\", autouse=True)\n",
    "def get_hp():\n",
    "    return HasPerformance()\n",
    "\n",
    "\n",
    "@pytest.fixture(scope=\"session\", autouse=True)\n",
    "def get_mh():\n",
    "    return MaxHeap()\n",
    "\n",
    "\n",
    "@pytest.fixture(scope=\"session\", autouse=True)\n",
    "def get_dll():\n",
    "    return DoublyLinkedList(None)"
   ]
  },
  {
   "cell_type": "code",
   "execution_count": null,
   "id": "3b27d157",
   "metadata": {},
   "outputs": [],
   "source": [
    "n_iterations = 10000\n",
    "\n",
    "import os\n",
    "\n",
    "am_i_oi_ci = os.environ.get('run_int') != '1'\n",
    "print(am_i_oi_ci)"
   ]
  },
  {
   "cell_type": "code",
   "execution_count": null,
   "id": "b27d8ce2",
   "metadata": {},
   "outputs": [],
   "source": [
    "%%ipytest -s -v\n",
    "\n",
    "@pytest.mark.skipif(am_i_oi_ci, reason=\"run this only on master\")\n",
    "def test_get_dll(get_hp, get_dll):\n",
    "    for i in range(n_iterations):\n",
    "        get_dll.append(i)\n",
    "        get_hp.save(f\"added {i}\")\n",
    "\n",
    "\n",
    "\n",
    "    "
   ]
  },
  {
   "cell_type": "code",
   "execution_count": null,
   "id": "4125ac6d",
   "metadata": {},
   "outputs": [],
   "source": [
    "%%ipytest -s -v\n",
    "@pytest.mark.skipif(am_i_oi_ci, reason=\"run this only on master\")\n",
    "\n",
    "def test_get_mh(get_hp, get_mh):\n",
    "    for i in range(n_iterations):\n",
    "        get_mh.insert(i)\n",
    "        get_hp.save(f\"added {i}\")\n"
   ]
  }
 ],
 "metadata": {
  "kernelspec": {
   "display_name": ".venv",
   "language": "python",
   "name": "python3"
  },
  "language_info": {
   "codemirror_mode": {
    "name": "ipython",
    "version": 3
   },
   "file_extension": ".py",
   "mimetype": "text/x-python",
   "name": "python",
   "nbconvert_exporter": "python",
   "pygments_lexer": "ipython3",
   "version": "3.10.12"
  }
 },
 "nbformat": 4,
 "nbformat_minor": 5
}
