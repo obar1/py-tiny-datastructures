{
 "cells": [
  {
   "cell_type": "markdown",
   "id": "4444ded0",
   "metadata": {},
   "source": [
    "# Performance Test 000"
   ]
  },
  {
   "cell_type": "code",
   "execution_count": 82,
   "id": "d433210a",
   "metadata": {},
   "outputs": [
    {
     "name": "stdout",
     "output_type": "stream",
     "text": [
      "\u001b[32m.\u001b[0m\u001b[32m                                                                                            [100%]\u001b[0m\n",
      "\u001b[32m\u001b[32m\u001b[1m1 passed\u001b[0m\u001b[32m in 0.01s\u001b[0m\u001b[0m\n",
      "\u001b[1m======================================= test session starts ========================================\u001b[0m\n",
      "platform linux -- Python 3.10.12, pytest-8.3.5, pluggy-1.5.0 -- /home/xsazcd/git/obar1/py-tiny-datastructures.git/.venv/bin/python\n",
      "cachedir: .pytest_cache\n",
      "rootdir: /home/xsazcd/git/obar1/py-tiny-datastructures.git/has-performance\n",
      "plugins: nbval-0.11.0, cov-6.0.0, anyio-4.8.0\n",
      "\u001b[1mcollecting ... \u001b[0mcollected 1 item\n",
      "\n",
      "t_393449265a1d442abe9583bde933d77e.py::test \u001b[32mPASSED\u001b[0m\u001b[32m                                           [100%]\u001b[0m\n",
      "\n",
      "\u001b[32m======================================== \u001b[32m\u001b[1m1 passed\u001b[0m\u001b[32m in 0.01s\u001b[0m\u001b[32m =========================================\u001b[0m\n",
      "\u001b[1m======================================= test session starts ========================================\u001b[0m\n",
      "platform linux -- Python 3.10.12, pytest-8.3.5, pluggy-1.5.0 -- /home/xsazcd/git/obar1/py-tiny-datastructures.git/.venv/bin/python\n",
      "cachedir: .pytest_cache\n",
      "rootdir: /home/xsazcd/git/obar1/py-tiny-datastructures.git/has-performance\n",
      "plugins: nbval-0.11.0, cov-6.0.0, anyio-4.8.0\n",
      "\u001b[1mcollecting ... \u001b[0mcollected 1 item\n",
      "\n",
      "t_393449265a1d442abe9583bde933d77e.py::test \u001b[32mPASSED\u001b[0m\u001b[32m                                           [100%]\u001b[0m\n",
      "\n",
      "\u001b[32m======================================== \u001b[32m\u001b[1m1 passed\u001b[0m\u001b[32m in 0.01s\u001b[0m\u001b[32m =========================================\u001b[0m\n",
      "\u001b[32m.\u001b[0m\u001b[32m                                                                                            [100%]\u001b[0m\n",
      "\u001b[32m\u001b[32m\u001b[1m1 passed\u001b[0m\u001b[32m in 0.01s\u001b[0m\u001b[0m\n",
      "\u001b[32m.\u001b[0m\u001b[32m                                                                                            [100%]\u001b[0m\n",
      "\u001b[32m\u001b[32m\u001b[1m1 passed\u001b[0m\u001b[32m in 0.01s\u001b[0m\u001b[0m\n",
      "\u001b[32m.\u001b[0m\u001b[32m                                                                                            [100%]\u001b[0m\n",
      "\u001b[32m\u001b[32m\u001b[1m1 passed\u001b[0m\u001b[32m in 0.01s\u001b[0m\u001b[0m\n",
      "\u001b[32m.\u001b[0m\u001b[32m                                                                                            [100%]\u001b[0m\n",
      "\u001b[32m\u001b[32m\u001b[1m1 passed\u001b[0m\u001b[32m in 0.01s\u001b[0m\u001b[0m\n",
      "\u001b[32m.\u001b[0m\u001b[32m                                                                                            [100%]\u001b[0m\n",
      "\u001b[32m\u001b[32m\u001b[1m1 passed\u001b[0m\u001b[32m in 0.01s\u001b[0m\u001b[0m\n",
      "\u001b[32m.\u001b[0m\u001b[32m                                                                                            [100%]\u001b[0m\n",
      "\u001b[32m\u001b[32m\u001b[1m1 passed\u001b[0m\u001b[32m in 0.01s\u001b[0m\u001b[0m\n",
      "\u001b[32m.\u001b[0m\u001b[32m                                                                                            [100%]\u001b[0m\n",
      "\u001b[32m\u001b[32m\u001b[1m1 passed\u001b[0m\u001b[32m in 0.01s\u001b[0m\u001b[0m\n",
      "\u001b[32m.\u001b[0m\u001b[32m                                                                                            [100%]\u001b[0m\n",
      "\u001b[32m\u001b[32m\u001b[1m1 passed\u001b[0m\u001b[32m in 0.01s\u001b[0m\u001b[0m\n",
      "\u001b[1m======================================= test session starts ========================================\u001b[0m\n",
      "platform linux -- Python 3.10.12, pytest-8.3.5, pluggy-1.5.0 -- /home/xsazcd/git/obar1/py-tiny-datastructures.git/.venv/bin/python\n",
      "cachedir: .pytest_cache\n",
      "rootdir: /home/xsazcd/git/obar1/py-tiny-datastructures.git/has-performance\n",
      "plugins: nbval-0.11.0, cov-6.0.0, anyio-4.8.0\n",
      "\u001b[1mcollecting ... \u001b[0mcollected 1 item\n",
      "\n",
      "t_393449265a1d442abe9583bde933d77e.py::test [(1, datetime.datetime(2025, 3, 15, 10, 42, 59, 614000), 'abc'), (2, datetime.datetime(2025, 3, 15, 10, 42, 59, 615000), 'efg')]\n",
      "\u001b[32mPASSED\u001b[0m\n",
      "\n",
      "\u001b[32m======================================== \u001b[32m\u001b[1m1 passed\u001b[0m\u001b[32m in 0.04s\u001b[0m\u001b[32m =========================================\u001b[0m\n"
     ]
    }
   ],
   "source": [
    "%run ../heaps/heaps.ipynb import MaxHeap\n",
    "%run ../doubly-linked-lists/doubly-linked-lists.ipynb import DoublyLinkedList\n",
    "%run ./has-performance.ipynb import HasPerformance"
   ]
  },
  {
   "cell_type": "code",
   "execution_count": 83,
   "id": "3b27d157",
   "metadata": {},
   "outputs": [],
   "source": [
    "n_iterations = 30000"
   ]
  },
  {
   "cell_type": "code",
   "execution_count": 84,
   "id": "82184f8e",
   "metadata": {},
   "outputs": [],
   "source": [
    "def get_hp() -> HasPerformance:\n",
    "    return HasPerformance()\n",
    "\n",
    "\n",
    "def get_mh() -> MaxHeap:\n",
    "    return MaxHeap()\n",
    "\n",
    "\n",
    "def get_dll() -> DoublyLinkedList:\n",
    "    return DoublyLinkedList(None)"
   ]
  },
  {
   "cell_type": "code",
   "execution_count": 85,
   "id": "b27d8ce2",
   "metadata": {},
   "outputs": [],
   "source": [
    "res_hp = get_hp()\n",
    "\n",
    "\n",
    "def test_get_dll():\n",
    "    for i in range(n_iterations):\n",
    "        get_dll().append(i)\n",
    "        res_hp.save(f\"{get_dll().id}; has added {i}\")\n",
    "\n",
    "\n",
    "def test_get_mh():\n",
    "    for i in range(n_iterations):\n",
    "        get_mh().insert(i)\n",
    "        res_hp.save(f\"{get_mh().id}; has added  {i}\")\n",
    "\n",
    "\n",
    "test_get_dll()\n",
    "test_get_mh()"
   ]
  },
  {
   "cell_type": "code",
   "execution_count": 86,
   "id": "9c564d06",
   "metadata": {},
   "outputs": [
    {
     "data": {
      "text/plain": [
       "name                object\n",
       "min_time    datetime64[us]\n",
       "max_time    datetime64[us]\n",
       "count                int64\n",
       "dtype: object"
      ]
     },
     "execution_count": 86,
     "metadata": {},
     "output_type": "execute_result"
    }
   ],
   "source": [
    "import pandas as pd\n",
    "\n",
    "df = res_hp.con.sql(\n",
    "    \"\"\"\n",
    "SELECT \n",
    "    split_part(s, ';', 1) as name,\n",
    "    min(created_at) min_time,\n",
    "                           max(created_at) max_time,\n",
    "  \n",
    "                         COUNT(id) as count\n",
    "FROM tbl\n",
    "GROUP BY 1\n",
    "                         \"\"\"\n",
    ").df()\n",
    "df.dtypes"
   ]
  },
  {
   "cell_type": "code",
   "execution_count": null,
   "id": "cd08b964",
   "metadata": {},
   "outputs": [
    {
     "data": {
      "image/png": "[encoded data removed]",
      "text/plain": [
       "<Figure size 1000x600 with 1 Axes>"
      ]
     },
     "metadata": {},
     "output_type": "display_data"
    }
   ],
   "source": [
    "import pandas as pd\n",
    "import matplotlib.pyplot as plt\n",
    "\n",
    "df['durations'] = (df['max_time'] - df['min_time']).dt.total_seconds() * 1000\n",
    "\n",
    "plt.figure(figsize=(10, 6))\n",
    "\n",
    "bars = plt.bar(df['name'], df['durations'],\n",
    "               capsize=5, alpha=0.7, color='skyblue')\n",
    "\n",
    "\n",
    "plt.xticks(rotation=45)\n",
    "\n",
    "plt.tight_layout()\n",
    "plt.bar_label(bars)\n",
    "\n",
    "plt.show()\n",
    " \n"
   ]
  }
 ],
 "metadata": {
  "kernelspec": {
   "display_name": ".venv",
   "language": "python",
   "name": "python3"
  },
  "language_info": {
   "codemirror_mode": {
    "name": "ipython",
    "version": 3
   },
   "file_extension": ".py",
   "mimetype": "text/x-python",
   "name": "python",
   "nbconvert_exporter": "python",
   "pygments_lexer": "ipython3",
   "version": "3.10.12"
  }
 },
 "nbformat": 4,
 "nbformat_minor": 5
}
