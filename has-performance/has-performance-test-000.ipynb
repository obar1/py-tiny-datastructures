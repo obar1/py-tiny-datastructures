{
 "cells": [
  {
   "cell_type": "markdown",
   "id": "4444ded0",
   "metadata": {},
   "source": [
    "# Performance Test 000"
   ]
  },
  {
   "cell_type": "code",
   "execution_count": 49,
   "id": "8c84a302",
   "metadata": {},
   "outputs": [],
   "source": [
    "import ipytest\n",
    "\n",
    "ipytest.autoconfig(raise_on_error=True)  # For CI environments"
   ]
  },
  {
   "cell_type": "code",
   "execution_count": 50,
   "id": "d433210a",
   "metadata": {},
   "outputs": [
    {
     "name": "stdout",
     "output_type": "stream",
     "text": [
      "\u001b[32m.\u001b[0m\u001b[32m                                                                                            [100%]\u001b[0m\u001b[32m                                                                                            [100%]\u001b[0m\n",
      "\u001b[32m\u001b[32m\u001b[1m1 passed\u001b[0m\u001b[32m in 0.02s\u001b[0m\u001b[0m\n",
      "\u001b[32m.\u001b[0m\u001b[32m                                                                                            [100%]\u001b[0m\n",
      "\u001b[32m\u001b[32m\u001b[1m1 passed\u001b[0m\u001b[32m in 0.02s\u001b[0m\u001b[0m\n",
      "\u001b[32m.\u001b[0m\u001b[32m                                                                                            [100%]\u001b[0m\n",
      "\u001b[32m\u001b[32m\u001b[1m1 passed\u001b[0m\u001b[32m in 0.02s\u001b[0m\u001b[0m\n",
      "\u001b[32m.\u001b[0m\u001b[32m                                                                                            [100%]\u001b[0m\n",
      "\u001b[32m\u001b[32m\u001b[1m1 passed\u001b[0m\u001b[32m in 0.02s\u001b[0m\u001b[0m\n",
      "\u001b[32m.\u001b[0m\u001b[32m                                                                                            [100%]\u001b[0m\n",
      "\u001b[32m\u001b[32m\u001b[1m1 passed\u001b[0m\u001b[32m in 0.02s\u001b[0m\u001b[0m\n",
      "\u001b[32m.\u001b[0m\u001b[32m                                                                                            [100%]\u001b[0m\n",
      "\u001b[32m\u001b[32m\u001b[1m1 passed\u001b[0m\u001b[32m in 0.02s\u001b[0m\u001b[0m\n",
      "\u001b[32m.\u001b[0m\u001b[32m                                                                                            [100%]\u001b[0m\n",
      "\u001b[32m\u001b[32m\u001b[1m1 passed\u001b[0m\u001b[32m in 0.02s\u001b[0m\u001b[0m\n",
      "\u001b[32m.\u001b[0m\u001b[32m                                                                                            [100%]\u001b[0m\n",
      "\u001b[32m\u001b[32m\u001b[1m1 passed\u001b[0m\u001b[32m in 0.02s\u001b[0m\u001b[0m\n",
      "\u001b[1m======================================= test session starts ========================================\u001b[0m\n",
      "platform linux -- Python 3.10.12, pytest-7.2.1, pluggy-1.5.0 -- /home/xsazcd/git/obar1/py-tiny-datastructures.git/.venv/bin/python\n",
      "cachedir: .pytest_cache\n",
      "rootdir: /home/xsazcd/git/obar1/py-tiny-datastructures.git/has-performance\n",
      "plugins: cov-4.0.0, pytest_notebook-0.10.0, nbval-0.10.0, anyio-4.8.0\n",
      "\u001b[1mcollecting ... \u001b[0mcollected 1 item\n",
      "\n",
      "t_7b76d7c4c9164938bb7332558eb2e017.py::test [(1, datetime.datetime(2025, 3, 14, 18, 20, 23, 605000), 'abc'), (2, datetime.datetime(2025, 3, 14, 18, 20, 23, 607000), 'efg')]\n",
      "\u001b[32mPASSED\u001b[0m\n",
      "\n",
      "\u001b[32m======================================== \u001b[32m\u001b[1m1 passed\u001b[0m\u001b[32m in 0.03s\u001b[0m\u001b[32m =========================================\u001b[0m\n",
      "\u001b[32m.\u001b[0m\u001b[32m                                                                                            [100%]\u001b[0m\n",
      "\u001b[32m\u001b[32m\u001b[1m1 passed\u001b[0m\u001b[32m in 0.02s\u001b[0m\u001b[0m\n",
      "\u001b[1m======================================= test session starts ========================================\u001b[0m\n",
      "platform linux -- Python 3.10.12, pytest-7.2.1, pluggy-1.5.0 -- /home/xsazcd/git/obar1/py-tiny-datastructures.git/.venv/bin/python\n",
      "cachedir: .pytest_cache\n",
      "rootdir: /home/xsazcd/git/obar1/py-tiny-datastructures.git/has-performance\n",
      "plugins: cov-4.0.0, pytest_notebook-0.10.0, nbval-0.10.0, anyio-4.8.0\n",
      "\u001b[1mcollecting ... \u001b[0mcollected 1 item\n",
      "\n",
      "t_7b76d7c4c9164938bb7332558eb2e017.py::test \u001b[32mPASSED\u001b[0m\u001b[32m                                           [100%]\u001b[0m\n",
      "\n",
      "\u001b[32m======================================== \u001b[32m\u001b[1m1 passed\u001b[0m\u001b[32m in 0.02s\u001b[0m\u001b[32m =========================================\u001b[0m\n",
      "\u001b[1m======================================= test session starts ========================================\u001b[0m\n",
      "platform linux -- Python 3.10.12, pytest-7.2.1, pluggy-1.5.0 -- /home/xsazcd/git/obar1/py-tiny-datastructures.git/.venv/bin/python\n",
      "cachedir: .pytest_cache\n",
      "rootdir: /home/xsazcd/git/obar1/py-tiny-datastructures.git/has-performance\n",
      "plugins: cov-4.0.0, pytest_notebook-0.10.0, nbval-0.10.0, anyio-4.8.0\n",
      "\u001b[1mcollecting ... \u001b[0mcollected 1 item\n",
      "\n",
      "t_7b76d7c4c9164938bb7332558eb2e017.py::test \u001b[32mPASSED\u001b[0m\u001b[32m                                           [100%]\u001b[0m\n",
      "\n",
      "\u001b[32m======================================== \u001b[32m\u001b[1m1 passed\u001b[0m\u001b[32m in 0.02s\u001b[0m\u001b[32m =========================================\u001b[0m\n",
      "\u001b[1m======================================= test session starts ========================================\u001b[0m\n",
      "platform linux -- Python 3.10.12, pytest-7.2.1, pluggy-1.5.0 -- /home/xsazcd/git/obar1/py-tiny-datastructures.git/.venv/bin/python\n",
      "cachedir: .pytest_cache\n",
      "rootdir: /home/xsazcd/git/obar1/py-tiny-datastructures.git/has-performance\n",
      "plugins: cov-4.0.0, pytest_notebook-0.10.0, nbval-0.10.0, anyio-4.8.0\n",
      "\u001b[1mcollecting ... \u001b[0mcollected 1 item\n",
      "\n",
      "t_7b76d7c4c9164938bb7332558eb2e017.py::test [(1, datetime.datetime(2025, 3, 14, 18, 20, 23, 846000), 'abc'), (2, datetime.datetime(2025, 3, 14, 18, 20, 23, 847000), 'efg')]\n",
      "\u001b[32mPASSED\u001b[0m\n",
      "\n",
      "\u001b[32m======================================== \u001b[32m\u001b[1m1 passed\u001b[0m\u001b[32m in 0.02s\u001b[0m\u001b[32m =========================================\u001b[0m\n"
     ]
    }
   ],
   "source": [
    "%run ./hp-doubly-linked-lists.ipynb import HPDoublyLinkedList\n",
    "%run ./hp-heaps.ipynb import HPHeaps"
   ]
  },
  {
   "cell_type": "code",
   "execution_count": 51,
   "id": "9dca840c",
   "metadata": {},
   "outputs": [],
   "source": [
    "import pytest\n",
    "\n",
    "\n",
    "@pytest.fixture\n",
    "def get_hp_mh():\n",
    "    return HPHeaps()"
   ]
  },
  {
   "cell_type": "code",
   "execution_count": 52,
   "id": "f3e1cea5",
   "metadata": {},
   "outputs": [],
   "source": [
    "import pytest\n",
    "\n",
    "\n",
    "@pytest.fixture\n",
    "def get_hp_dll():\n",
    "    return HPDoublyLinkedList()"
   ]
  },
  {
   "cell_type": "code",
   "execution_count": 53,
   "id": "db69e043",
   "metadata": {},
   "outputs": [],
   "source": [
    "n_iterations = 10"
   ]
  },
  {
   "cell_type": "code",
   "execution_count": null,
   "id": "b27d8ce2",
   "metadata": {},
   "outputs": [],
   "source": [
    "%%ipytest -s\n",
    "\n",
    "import timeit\n",
    "\n",
    "def test(get_hp_dll):\n",
    "    def my_function():\n",
    "        for i in range(n_iterations):\n",
    "            get_hp_dll.perf_insert(i)\n",
    "\n",
    "    times = timeit.repeat(lambda: my_function(), number=n_iterations, repeat=3)\n",
    "    print(f\"Best time: {min(times)} seconds\")"
   ]
  },
  {
   "cell_type": "code",
   "execution_count": null,
   "id": "6f363287",
   "metadata": {},
   "outputs": [],
   "source": [
    "%%ipytest -s\n",
    "\n",
    "import timeit\n",
    "\n",
    "def test(get_hp_mh):\n",
    "    def my_function():\n",
    "        for i in range(n_iterations):\n",
    "            get_hp_mh.perf_insert(i)\n",
    "\n",
    "    times = timeit.repeat(lambda: my_function(), number=n_iterations, repeat=3)\n",
    "    print(f\"Best time: {min(times)} seconds\")"
   ]
  }
 ],
 "metadata": {
  "kernelspec": {
   "display_name": ".venv",
   "language": "python",
   "name": "python3"
  },
  "language_info": {
   "codemirror_mode": {
    "name": "ipython",
    "version": 3
   },
   "file_extension": ".py",
   "mimetype": "text/x-python",
   "name": "python",
   "nbconvert_exporter": "python",
   "pygments_lexer": "ipython3",
   "version": "3.10.12"
  }
 },
 "nbformat": 4,
 "nbformat_minor": 5
}
