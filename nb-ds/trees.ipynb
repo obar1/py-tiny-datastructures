{
 "cells": [
  {
   "cell_type": "markdown",
   "id": "a88d05a9",
   "metadata": {},
   "source": [
    "# Trees\n",
    "\n",
    "> BST\n",
    "\n",
    "![title](assets/image-bst0.png)\n"
   ]
  },
  {
   "cell_type": "code",
   "execution_count": 1,
   "id": "33a0ad64",
   "metadata": {},
   "outputs": [],
   "source": [
    "import sys, os\n",
    "\n",
    "sys.path.append(os.path.abspath(\"..\"))"
   ]
  },
  {
   "cell_type": "code",
   "execution_count": 2,
   "id": "6a2cd47f",
   "metadata": {},
   "outputs": [
    {
     "ename": "AttributeError",
     "evalue": "'BinarySearchTree' object has no attribute 'ds_func'",
     "output_type": "error",
     "traceback": [
      "\u001b[0;31m---------------------------------------------------------------------------\u001b[0m",
      "\u001b[0;31mAttributeError\u001b[0m                            Traceback (most recent call last)",
      "Cell \u001b[0;32mIn[2], line 3\u001b[0m\n\u001b[1;32m      1\u001b[0m \u001b[38;5;28;01mfrom\u001b[39;00m\u001b[38;5;250m \u001b[39m\u001b[38;5;21;01msrc\u001b[39;00m\u001b[38;5;21;01m.\u001b[39;00m\u001b[38;5;21;01mtrees\u001b[39;00m\u001b[38;5;250m \u001b[39m\u001b[38;5;28;01mimport\u001b[39;00m BinarySearchTree\n\u001b[0;32m----> 3\u001b[0m \u001b[43mBinarySearchTree\u001b[49m\u001b[43m(\u001b[49m\u001b[43m)\u001b[49m\u001b[38;5;241;43m.\u001b[39;49m\u001b[43mds_func\u001b[49m\n",
      "\u001b[0;31mAttributeError\u001b[0m: 'BinarySearchTree' object has no attribute 'ds_func'"
     ]
    }
   ],
   "source": [
    "from src.trees import BinarySearchTree\n",
    "\n",
    "BinarySearchTree().ds_func"
   ]
  }
 ],
 "metadata": {
  "kernelspec": {
   "display_name": "venv",
   "language": "python",
   "name": "python3"
  },
  "language_info": {
   "codemirror_mode": {
    "name": "ipython",
    "version": 3
   },
   "file_extension": ".py",
   "mimetype": "text/x-python",
   "name": "python",
   "nbconvert_exporter": "python",
   "pygments_lexer": "ipython3",
   "version": "3.10.12"
  }
 },
 "nbformat": 4,
 "nbformat_minor": 5
}
