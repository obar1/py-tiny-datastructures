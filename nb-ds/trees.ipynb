{
 "cells": [
  {
   "cell_type": "markdown",
   "id": "a88d05a9",
   "metadata": {},
   "source": [
    "# Trees\n",
    "\n",
    "> BST\n",
    "\n",
    "![title](assets/image-bst0.png)\n"
   ]
  },
  {
   "cell_type": "code",
   "execution_count": 1,
   "id": "33a0ad64",
   "metadata": {},
   "outputs": [],
   "source": [
    "import sys, os\n",
    "\n",
    "sys.path.append(os.path.abspath(\"..\"))"
   ]
  },
  {
   "cell_type": "code",
   "execution_count": 2,
   "id": "6a2cd47f",
   "metadata": {},
   "outputs": [
    {
     "data": {
      "text/plain": [
       "{'contains', 'get_id', 'insert'}"
      ]
     },
     "execution_count": 2,
     "metadata": {},
     "output_type": "execute_result"
    }
   ],
   "source": [
    "from src.trees import BinarySearchTree\n",
    "\n",
    "BinarySearchTree().ds_func"
   ]
  }
 ],
 "metadata": {
  "kernelspec": {
   "display_name": "venv",
   "language": "python",
   "name": "python3"
  },
  "language_info": {
   "codemirror_mode": {
    "name": "ipython",
    "version": 3
   },
   "file_extension": ".py",
   "mimetype": "text/x-python",
   "name": "python",
   "nbconvert_exporter": "python",
   "pygments_lexer": "ipython3",
   "version": "3.12.1"
  }
 },
 "nbformat": 4,
 "nbformat_minor": 5
}
