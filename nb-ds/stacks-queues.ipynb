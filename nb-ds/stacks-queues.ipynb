{
 "cells": [
  {
   "cell_type": "markdown",
   "id": "f999a301",
   "metadata": {},
   "source": [
    "# Stack & Queues\n"
   ]
  },
  {
   "cell_type": "markdown",
   "id": "f295ad07",
   "metadata": {},
   "source": [
    "![title](assets/image-sq0.png)\n",
    "![title](assets/image-sq1.png)\n"
   ]
  },
  {
   "cell_type": "code",
   "execution_count": 23,
   "id": "74cec805",
   "metadata": {},
   "outputs": [],
   "source": [
    "import sys, os\n",
    "\n",
    "\n",
    "sys.path.append(os.path.abspath(\"..\"))"
   ]
  },
  {
   "cell_type": "code",
   "execution_count": 24,
   "id": "a826383d",
   "metadata": {},
   "outputs": [
    {
     "data": {
      "text/plain": [
       "{'get_id', 'pop', 'push'}"
      ]
     },
     "execution_count": 24,
     "metadata": {},
     "output_type": "execute_result"
    }
   ],
   "source": [
    "from src.stacks_queues import Stack\n",
    "\n",
    "\n",
    "Stack(0).ds_func"
   ]
  },
  {
   "cell_type": "code",
   "execution_count": 25,
   "id": "b1448b85",
   "metadata": {},
   "outputs": [
    {
     "data": {
      "text/plain": [
       "{'dequeue', 'enqueue', 'get_id', 'print_list'}"
      ]
     },
     "execution_count": 25,
     "metadata": {},
     "output_type": "execute_result"
    }
   ],
   "source": [
    "from src.stacks_queues import Queue\n",
    "\n",
    "\n",
    "Queue(0).ds_func"
   ]
  },
  {
   "cell_type": "markdown",
   "id": "9b15de63",
   "metadata": {},
   "source": [
    "## Leet Code style \n"
   ]
  },
  {
   "cell_type": "code",
   "execution_count": 26,
   "id": "5b4feea6",
   "metadata": {},
   "outputs": [],
   "source": [
    "import ipytest\n",
    "\n",
    "\n",
    "ipytest.autoconfig(raise_on_error=True)  # For CI environments"
   ]
  },
  {
   "cell_type": "code",
   "execution_count": 27,
   "id": "f0ff549c",
   "metadata": {},
   "outputs": [
    {
     "name": "stdout",
     "output_type": "stream",
     "text": [
      "\u001b[32m.\u001b[0m\u001b[32m                                                                                            [100%]\u001b[0m\n",
      "\u001b[32m\u001b[32m\u001b[1m1 passed\u001b[0m\u001b[32m in 0.01s\u001b[0m\u001b[0m\n",
      "\u001b[32m                                                                                            [100%]\u001b[0m\n",
      "\u001b[32m\u001b[32m\u001b[1m1 passed\u001b[0m\u001b[32m in 0.01s\u001b[0m\u001b[0m\n"
     ]
    }
   ],
   "source": [
    "%%ipytest\n",
    "\n",
    "\n",
    "def test():\n",
    "    \"\"\"\n",
    "# Stack: Push for Stack That Uses List ( ** Interview Question)\n",
    "\n",
    "\n",
    "Add a method to push a value onto the Stack implementation that we began in the last Coding Exercise.\n",
    "\n",
    "\n",
    "\n",
    "\n",
    "    \"\"\"\n",
    "    class Stack:\n",
    "        def __init__(self):\n",
    "            self.stack_list = []\n",
    "        \n",
    "\n",
    "        def print_stack(self):\n",
    "            for i in range(len(self.stack_list)-1, -1, -1):\n",
    "                yield self.stack_list[i]\n",
    "\n",
    "\n",
    "        def __repr__(self):\n",
    "            return f\"q:{list(self.print_stack())}\"\n",
    "\n",
    "\n",
    "        def push(self, value):\n",
    "            self.stack_list.append(value)\n",
    "\n",
    "\n",
    "    my_stack = Stack()\n",
    "    my_stack.push(1)\n",
    "    my_stack.push(2)\n",
    "    my_stack.push(3)\n",
    "\n",
    "\n",
    "    assert str(my_stack) ==\"q:[3, 2, 1]\""
   ]
  },
  {
   "cell_type": "code",
   "execution_count": 28,
   "id": "a6f7a8c4",
   "metadata": {},
   "outputs": [
    {
     "name": "stdout",
     "output_type": "stream",
     "text": [
      "\u001b[32m.\u001b[0m\u001b[32m                                                                                            [100%]\u001b[0m\n",
      "\u001b[32m\u001b[32m\u001b[1m1 passed\u001b[0m\u001b[32m in 0.01s\u001b[0m\u001b[0m\n",
      "\u001b[32m                                                                                            [100%]\u001b[0m\n",
      "\u001b[32m\u001b[32m\u001b[1m1 passed\u001b[0m\u001b[32m in 0.01s\u001b[0m\u001b[0m\n"
     ]
    }
   ],
   "source": [
    "%%ipytest\n",
    "\n",
    "\n",
    "def test():\n",
    "    \"\"\"\n",
    "\n",
    "\n",
    "#  Stack: Pop for Stack That Uses List ( ** Interview Question)\n",
    "Stack: Pop for Stack That Uses List ( ** Interview Question)\n",
    "\n",
    "\n",
    "Add a method to pop a value from the Stack implementation that we began in the last two Coding Exercises.\n",
    "\n",
    "\n",
    "    \"\"\"\n",
    "    class Stack:\n",
    "        def __init__(self):\n",
    "            self.stack_list = []\n",
    "        \n",
    "\n",
    "        def print_stack(self):\n",
    "            for i in range(len(self.stack_list)-1, -1, -1):\n",
    "                yield self.stack_list[i]\n",
    "\n",
    "\n",
    "        def __repr__(self):\n",
    "            return f\"q:{list(self.print_stack())}\"\n",
    "\n",
    "\n",
    "        def push(self, value):\n",
    "            self.stack_list.append(value)\n",
    "\n",
    "\n",
    "        def pop(self):\n",
    "            num_elem = len(self.stack_list)\n",
    "            try:\n",
    "                assert num_elem>0\n",
    "                return self.stack_list.pop(num_elem-1)\n",
    "            except AssertionError:\n",
    "                return None\n",
    "\n",
    "\n",
    "    my_stack = Stack()\n",
    "    my_stack.push(1)\n",
    "    my_stack.push(2)\n",
    "    my_stack.push(3)\n",
    "    assert str(my_stack) ==\"q:[3, 2, 1]\"    \n",
    "\n",
    "    print(\"\\nPopped node:\")\n",
    "    print(my_stack.pop())\n",
    "\n",
    "\n",
    "    print(\"\\nStack after pop():\")\n",
    "    assert str(my_stack) ==\"q:[2, 1]\"        "
   ]
  },
  {
   "cell_type": "code",
   "execution_count": 29,
   "id": "853a8048",
   "metadata": {},
   "outputs": [
    {
     "name": "stdout",
     "output_type": "stream",
     "text": [
      "\u001b[32m.\u001b[0m\u001b[32m                                                                                            [100%]\u001b[0m"
     ]
    },
    {
     "name": "stdout",
     "output_type": "stream",
     "text": [
      "\n",
      "\u001b[32m\u001b[32m\u001b[1m1 passed\u001b[0m\u001b[32m in 0.01s\u001b[0m\u001b[0m\n"
     ]
    }
   ],
   "source": [
    "%%ipytest\n",
    "def test():\n",
    "    \"\"\"\n",
    "#  Stack: Parentheses Balanced ( ** Interview Question)\n",
    " \n",
    "Check to see if a string of parentheses is balanced or not.\n",
    "By \"balanced,\" we mean that for every open parenthesis, there is a matching closing parenthesis in the correct order. For example, the string \"((()))\" has three pairs of balanced parentheses, so it is a balanced string. On the other hand, the string \"(()))\" has an imbalance, as the last two parentheses do not match, so it is not balanced.  Also, the string \")(\" is not balanced because the close parenthesis needs to follow the open parenthesis.\n",
    "    \"\"\"\n",
    "    class Stack:\n",
    "        def __init__(self):\n",
    "            self.stack_list = []\n",
    "        def print_stack(self):\n",
    "            for i in range(len(self.stack_list)-1, -1, -1):\n",
    "                print(self.stack_list[i])\n",
    "        def is_empty(self):\n",
    "            return len(self.stack_list) == 0\n",
    "        def peek(self):\n",
    "            if self.is_empty():\n",
    "                return None\n",
    "            else:\n",
    "                return self.stack_list[-1]\n",
    "        def size(self):\n",
    "            return len(self.stack_list)\n",
    "        def push(self, value):\n",
    "            self.stack_list.append(value)\n",
    "        def pop(self):\n",
    "            if self.is_empty():\n",
    "                return None\n",
    "            else:\n",
    "                return self.stack_list.pop()\n",
    "def is_balanced_parentheses(s):\n",
    "    stack = Stack()\n",
    "    bracket_pairs = {\n",
    "        '(': ')'\n",
    "    }\n",
    "    try:\n",
    "        for c in s:\n",
    "            if c in bracket_pairs.keys():\n",
    "                stack.push(c)\n",
    "            else:\n",
    "                if c != bracket_pairs[stack.pop()]:\n",
    "                    return False\n",
    "        assert stack.size()==0\n",
    "    except:\n",
    "        return False\n",
    "    return True\n",
    "    assert is_balanced_parentheses('((()))') == True\n",
    "    assert is_balanced_parentheses('()') == True\n",
    "    assert is_balanced_parentheses('(()())') == True\n",
    "    assert is_balanced_parentheses('(()') == False\n",
    "    assert is_balanced_parentheses('())') == False\n",
    "    assert is_balanced_parentheses(')(') == False\n",
    "    assert is_balanced_parentheses('') == True\n",
    "    assert is_balanced_parentheses('()()()()') == True\n",
    "    assert is_balanced_parentheses('(())(())') == True\n",
    "    assert is_balanced_parentheses('(()()())') == True\n",
    "    assert is_balanced_parentheses('((())') == False\n"
   ]
  }
 ],
 "metadata": {
  "kernelspec": {
   "display_name": "venv",
   "language": "python",
   "name": "python3"
  },
  "language_info": {
   "codemirror_mode": {
    "name": "ipython",
    "version": 3
   },
   "file_extension": ".py",
   "mimetype": "text/x-python",
   "name": "python",
   "nbconvert_exporter": "python",
   "pygments_lexer": "ipython3",
   "version": "3.10.12"
  }
 },
 "nbformat": 4,
 "nbformat_minor": 5
}
