{
 "cells": [
  {
   "cell_type": "markdown",
   "id": "f999a301",
   "metadata": {},
   "source": [
    "# Stack & Queues\n"
   ]
  },
  {
   "cell_type": "markdown",
   "id": "f295ad07",
   "metadata": {},
   "source": [
    "![title](assets/image-sq0.png)\n",
    "![title](assets/image-sq1.png)\n"
   ]
  },
  {
   "cell_type": "code",
   "execution_count": 6,
   "id": "74cec805",
   "metadata": {},
   "outputs": [],
   "source": [
    "import sys, os\n",
    "\n",
    "sys.path.append(os.path.abspath(\"..\"))"
   ]
  },
  {
   "cell_type": "code",
   "execution_count": 7,
   "id": "a826383d",
   "metadata": {},
   "outputs": [
    {
     "data": {
      "text/plain": [
       "s:['top:node:0,', 'node:0,']"
      ]
     },
     "execution_count": 7,
     "metadata": {},
     "output_type": "execute_result"
    }
   ],
   "source": [
    "from src.stacks_queues import Stack, Queue\n",
    "\n",
    "Stack(0)"
   ]
  },
  {
   "cell_type": "code",
   "execution_count": 8,
   "id": "b1448b85",
   "metadata": {},
   "outputs": [
    {
     "data": {
      "text/plain": [
       "q:['first:node:0,', 'node:0,', 'last:node:0,']"
      ]
     },
     "execution_count": 8,
     "metadata": {},
     "output_type": "execute_result"
    }
   ],
   "source": [
    "from src.stacks_queues import Queue\n",
    "\n",
    "Queue(0)"
   ]
  }
 ],
 "metadata": {
  "kernelspec": {
   "display_name": "venv",
   "language": "python",
   "name": "python3"
  },
  "language_info": {
   "codemirror_mode": {
    "name": "ipython",
    "version": 3
   },
   "file_extension": ".py",
   "mimetype": "text/x-python",
   "name": "python",
   "nbconvert_exporter": "python",
   "pygments_lexer": "ipython3",
   "version": "3.10.12"
  }
 },
 "nbformat": 4,
 "nbformat_minor": 5
}
