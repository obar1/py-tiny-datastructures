{
 "cells": [
  {
   "cell_type": "markdown",
   "id": "f999a301",
   "metadata": {},
   "source": [
    "# Hash Tables\n",
    "![title](assets/image-ht0.png)\n"
   ]
  },
  {
   "cell_type": "code",
   "execution_count": 1,
   "id": "ea152f13",
   "metadata": {},
   "outputs": [],
   "source": [
    "import sys, os\n",
    "\n",
    "sys.path.append(os.path.abspath(\"..\"))"
   ]
  },
  {
   "cell_type": "code",
   "execution_count": 2,
   "id": "e4925597",
   "metadata": {},
   "outputs": [
    {
     "data": {
      "text/plain": [
       "ht:[(0, ': ', None), (1, ': ', None), (2, ': ', None), (3, ': ', None), (4, ': ', None), (5, ': ', None), (6, ': ', None)]"
      ]
     },
     "execution_count": 2,
     "metadata": {},
     "output_type": "execute_result"
    }
   ],
   "source": [
    "from src.hash_tables import HashTable\n",
    "\n",
    "HashTable()"
   ]
  }
 ],
 "metadata": {
  "kernelspec": {
   "display_name": "venv",
   "language": "python",
   "name": "python3"
  },
  "language_info": {
   "codemirror_mode": {
    "name": "ipython",
    "version": 3
   },
   "file_extension": ".py",
   "mimetype": "text/x-python",
   "name": "python",
   "nbconvert_exporter": "python",
   "pygments_lexer": "ipython3",
   "version": "3.10.12"
  }
 },
 "nbformat": 4,
 "nbformat_minor": 5
}
