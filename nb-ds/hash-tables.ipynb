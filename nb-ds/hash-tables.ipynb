{
 "cells": [
  {
   "cell_type": "markdown",
   "id": "f999a301",
   "metadata": {},
   "source": [
    "# Hash Tables\n",
    "![title](assets/image-ht0.png)\n"
   ]
  },
  {
   "cell_type": "code",
   "execution_count": 2,
   "id": "ea152f13",
   "metadata": {},
   "outputs": [],
   "source": [
    "import sys, os\n",
    "\n",
    "sys.path.append(os.path.abspath(\"..\"))"
   ]
  },
  {
   "cell_type": "code",
   "execution_count": 3,
   "id": "e4925597",
   "metadata": {},
   "outputs": [
    {
     "data": {
      "text/plain": [
       "{'get_id', 'get_item', 'keys', 'print', 'set_item'}"
      ]
     },
     "execution_count": 3,
     "metadata": {},
     "output_type": "execute_result"
    }
   ],
   "source": [
    "from src.hash_tables import HashTable\n",
    "\n",
    "HashTable().ds_func"
   ]
  },
  {
   "cell_type": "markdown",
   "id": "ccc1e502",
   "metadata": {},
   "source": [
    "## Leet Code style\n"
   ]
  },
  {
   "cell_type": "code",
   "execution_count": 4,
   "id": "126ae256",
   "metadata": {},
   "outputs": [],
   "source": [
    "import ipytest\n",
    "\n",
    "ipytest.autoconfig(raise_on_error=True)  # For CI environments"
   ]
  },
  {
   "cell_type": "code",
   "execution_count": 9,
   "id": "1a398b52",
   "metadata": {},
   "outputs": [
    {
     "name": "stdout",
     "output_type": "stream",
     "text": [
      "\u001b[32m.\u001b[0m\u001b[32m                                                                                            [100%]\u001b[0m\n",
      "\u001b[32m\u001b[32m\u001b[1m1 passed\u001b[0m\u001b[32m in 0.01s\u001b[0m\u001b[0m\n",
      "\u001b[32m                                                                                            [100%]\u001b[0m\n",
      "\u001b[32m\u001b[32m\u001b[1m1 passed\u001b[0m\u001b[32m in 0.01s\u001b[0m\u001b[0m\n"
     ]
    }
   ],
   "source": [
    "%%ipytest\n",
    "\n",
    "def test():\n",
    "    \"\"\"\n",
    "\n",
    "HT: Find Duplicates ( ** Interview Question)\n",
    "\n",
    "find_duplicates()\n",
    "\n",
    "Problem: Given an array of integers nums, find all the duplicates in the array using a hash table (dictionary).\n",
    "\n",
    "\n",
    "    \"\"\"\n",
    "    def find_duplicates(l):\n",
    "        entries ={}\n",
    "        c = []\n",
    "        for item in l:\n",
    "            if entries.get(item):\n",
    "                c.append(item)\n",
    "            entries[item]= True\n",
    "        return list(set(c)   )\n",
    "\n",
    "    assert find_duplicates([1, 2, 3, 4, 5])  == []\n",
    "    assert find_duplicates([1, 1, 2, 2, 3])  == [1,2]\n",
    "    assert find_duplicates([1, 1, 1, 1, 1]) ==[1]\n",
    "    print ( find_duplicates([1, 2, 3, 3, 3, 4, 4, 5]) )\n",
    "    print ( find_duplicates([1, 1, 2, 2, 2, 3, 3, 3, 3]) )\n",
    "    print ( find_duplicates([1, 1, 1, 2, 2, 2, 3, 3, 3, 3]) )\n",
    "    print ( find_duplicates([]) )"
   ]
  },
  {
   "cell_type": "code",
   "execution_count": 15,
   "id": "48ef770b",
   "metadata": {},
   "outputs": [
    {
     "name": "stdout",
     "output_type": "stream",
     "text": [
      "\u001b[32m.\u001b[0m\u001b[32m                                                                                            [100%]\u001b[0m\n",
      "\u001b[32m\u001b[32m\u001b[1m1 passed\u001b[0m\u001b[32m in 0.01s\u001b[0m\u001b[0m\n",
      "\u001b[32m                                                                                            [100%]\u001b[0m\n",
      "\u001b[32m\u001b[32m\u001b[1m1 passed\u001b[0m\u001b[32m in 0.01s\u001b[0m\u001b[0m\n"
     ]
    }
   ],
   "source": [
    "%%ipytest\n",
    "\n",
    "def test():\n",
    "    \"\"\"\n",
    "\n",
    "HT: First Non-Repeating Character ( ** Interview Question)\n",
    "\n",
    "You have been given a string of lowercase letters.\n",
    "\n",
    "Write a function called first_non_repeating_char(string) that finds the first non-repeating character in the given string using a hash table (dictionary). If there is no non-repeating character in the string, the function should return None.\n",
    "\n",
    "    \"\"\"\n",
    "    def first_non_repeating_char(txt):\n",
    "        d= {}\n",
    "        for c in txt:\n",
    "            if d.get(c) is None:\n",
    "                d[c]=0\n",
    "            else:\n",
    "                d[c]+=1\n",
    "        for k,v in d.items():\n",
    "            if v==0:\n",
    "                return k\n",
    "        return None\n",
    "\n",
    "\n",
    "\n",
    "    assert first_non_repeating_char('leetcode') == 'l'\n",
    "\n",
    "    assert first_non_repeating_char('hello')  == 'h'\n",
    "\n",
    "    assert first_non_repeating_char('aabbcc') is None"
   ]
  },
  {
   "cell_type": "code",
   "execution_count": 19,
   "id": "36278847",
   "metadata": {},
   "outputs": [
    {
     "name": "stdout",
     "output_type": "stream",
     "text": [
      "\u001b[32m.\u001b[0m\u001b[32m                                                                                            [100%]\u001b[0m\n",
      "\u001b[32m\u001b[32m\u001b[1m1 passed\u001b[0m\u001b[32m in 0.01s\u001b[0m\u001b[0m\n",
      "\u001b[32m                                                                                            [100%]\u001b[0m\n",
      "\u001b[32m\u001b[32m\u001b[1m1 passed\u001b[0m\u001b[32m in 0.01s\u001b[0m\u001b[0m\n"
     ]
    }
   ],
   "source": [
    "%%ipytest\n",
    "\n",
    "def test():\n",
    "    \"\"\"\n",
    "\n",
    "HT: Group Anagrams ( ** Interview Question)\n",
    "\n",
    "You have been given an array of strings, where each string may contain only lowercase English letters. You need to write a function group_anagrams(strings) that groups the anagrams in the array together using a hash table (dictionary). The function should return a list of lists, where each inner list contains a group of anagrams.\n",
    "\n",
    "    \"\"\"\n",
    "    def group_anagrams(l):\n",
    "        d  = {}\n",
    "        for item in l:\n",
    "            sorted_item =\"\".join(sorted(item)) \n",
    "            if d.get(sorted_item) is None:\n",
    "                d[sorted_item]=[]\n",
    "            d[sorted_item].append(item)\n",
    "        \n",
    "        return [*d.values()]\n",
    "\n",
    "\n",
    "\n",
    "\n",
    "    print(\"1st set:\")\n",
    "    assert group_anagrams([\"eat\", \"tea\", \"tan\", \"ate\", \"nat\", \"bat\"])  == [['eat', 'tea', 'ate'], ['tan', 'nat'], ['bat']]\n",
    "\n",
    "    print(\"\\n2nd set:\")\n",
    "    assert group_anagrams([\"abc\", \"cba\", \"bac\", \"foo\", \"bar\"])  == [['abc', 'cba', 'bac'], ['foo'], ['bar']]\n",
    "\n",
    "    print(\"\\n3rd set:\")\n",
    "    assert group_anagrams([\"listen\", \"silent\", \"triangle\", \"integral\", \"garden\", \"ranged\"])  == [['listen', 'silent'], ['triangle', 'integral'], ['garden', 'ranged']]"
   ]
  },
  {
   "cell_type": "code",
   "execution_count": 23,
   "id": "80c72368",
   "metadata": {},
   "outputs": [
    {
     "name": "stdout",
     "output_type": "stream",
     "text": [
      "\u001b[32m.\u001b[0m\u001b[32m                                                                                            [100%]\u001b[0m\n",
      "\u001b[32m\u001b[32m\u001b[1m1 passed\u001b[0m\u001b[32m in 0.01s\u001b[0m\u001b[0m\n",
      "\u001b[32m                                                                                            [100%]\u001b[0m\n",
      "\u001b[32m\u001b[32m\u001b[1m1 passed\u001b[0m\u001b[32m in 0.01s\u001b[0m\u001b[0m\n"
     ]
    }
   ],
   "source": [
    "%%ipytest\n",
    "\n",
    "def test():\n",
    "    \"\"\"\n",
    "HT: Two Sum ( ** Interview Question)\n",
    "\n",
    "two_sum()\n",
    "\n",
    "Problem:\n",
    "Given an array of integers nums and a target integer target, find the indices of two numbers in the array that add up to the target.\n",
    "\n",
    "\n",
    "    \"\"\"\n",
    "    def two_sum(nums, target):\n",
    "        num_map = {}\n",
    "        for k,v in enumerate(nums):\n",
    "            num_map[v]=k\n",
    "        print(num_map)\n",
    "        for k,v in enumerate(nums):\n",
    "            complement_to_target = target - v\n",
    "            if num_map.get(complement_to_target):\n",
    "                return [k, num_map[complement_to_target]]\n",
    "        return []\n",
    "\n",
    "    assert  two_sum([5, 1, 7, 2, 9, 3], 10) == [1,4]\n",
    "    assert two_sum([4, 2, 11, 7, 6, 3], 9) == [1, 3]\n",
    "    print(two_sum([10, 15, 5, 2, 8, 1, 7], 12))\n",
    "    print(two_sum([1, 3, 5, 7, 9], 10))\n",
    "    print(two_sum([1, 2, 3, 4, 5], 10))\n",
    "    print(two_sum([1, 2, 3, 4, 5], 7))\n",
    "    print(two_sum([1, 2, 3, 4, 5], 3))\n",
    "    print(two_sum([], 0))\n"
   ]
  }
 ],
 "metadata": {
  "kernelspec": {
   "display_name": "venv",
   "language": "python",
   "name": "python3"
  },
  "language_info": {
   "codemirror_mode": {
    "name": "ipython",
    "version": 3
   },
   "file_extension": ".py",
   "mimetype": "text/x-python",
   "name": "python",
   "nbconvert_exporter": "python",
   "pygments_lexer": "ipython3",
   "version": "3.10.12"
  }
 },
 "nbformat": 4,
 "nbformat_minor": 5
}
