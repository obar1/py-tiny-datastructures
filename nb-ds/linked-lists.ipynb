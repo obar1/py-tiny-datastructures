{
 "cells": [
  {
   "cell_type": "markdown",
   "id": "f999a301",
   "metadata": {},
   "source": [
    "# linked list\n",
    "\n",
    "![title](assets/image-ll0.png)\n"
   ]
  },
  {
   "cell_type": "code",
   "execution_count": 1,
   "id": "243dda9c",
   "metadata": {},
   "outputs": [],
   "source": [
    "import sys, os\n",
    "\n",
    "sys.path.append(os.path.abspath(\"..\"))"
   ]
  },
  {
   "cell_type": "code",
   "execution_count": 2,
   "id": "8d640b02",
   "metadata": {},
   "outputs": [
    {
     "data": {
      "text/plain": [
       "{'append',\n",
       " 'get',\n",
       " 'get_id',\n",
       " 'pop',\n",
       " 'pop_first',\n",
       " 'prepend',\n",
       " 'print_list',\n",
       " 'set_value'}"
      ]
     },
     "execution_count": 2,
     "metadata": {},
     "output_type": "execute_result"
    }
   ],
   "source": [
    "from src.linked_lists import LinkedList\n",
    "\n",
    "LinkedList(0).ds_func"
   ]
  },
  {
   "cell_type": "markdown",
   "id": "3d977206",
   "metadata": {},
   "source": [
    "## Leet Code style \n"
   ]
  },
  {
   "cell_type": "code",
   "execution_count": 3,
   "id": "3f468239",
   "metadata": {},
   "outputs": [],
   "source": [
    "import ipytest\n",
    "\n",
    "ipytest.autoconfig(raise_on_error=True)  # For CI environments"
   ]
  },
  {
   "cell_type": "code",
   "execution_count": 4,
   "id": "de81e40e",
   "metadata": {},
   "outputs": [
    {
     "name": "stdout",
     "output_type": "stream",
     "text": [
      "\u001b[32m.\u001b[0m\u001b[32m                                                                                            [100%]\u001b[0m\n",
      "\u001b[32m\u001b[32m\u001b[1m1 passed\u001b[0m\u001b[32m in 0.00s\u001b[0m\u001b[0m\n"
     ]
    }
   ],
   "source": [
    "%%ipytest\n",
    "\n",
    "def test():\n",
    "    \"\"\"_summary_\n",
    "\n",
    "- Find Middle Node\n",
    "\n",
    "\n",
    "Implement the find_middle_node method for the LinkedList class.\n",
    "\n",
    "Note: this LinkedList implementation does not have a length member variable.\n",
    "\n",
    "If the linked list has an even number of nodes, return the first node of the second half of the list.\n",
    "    \"\"\"\n",
    "    class LC(LinkedList):\n",
    "        def find_middle_node(self):\n",
    "            tmp = self.head\n",
    "            length=0\n",
    "            while tmp:\n",
    "                tmp= tmp.next\n",
    "                length+=1 \n",
    "            tmp = self.head\n",
    "            i=1\n",
    "            for i in range(length):\n",
    "                if i+1 > length//2:\n",
    "                    print(f\"returned {tmp.value}\")\n",
    "                    return tmp\n",
    "                tmp= tmp.next\n",
    "                print(f\"{i}/{length} {tmp.value}\")\n",
    "\n",
    "\n",
    "\n",
    "\n",
    "    my_linked_list = LC(1)\n",
    "\n",
    "    my_linked_list.append(2)\n",
    "    my_linked_list.append(3)\n",
    "    my_linked_list.append(4)\n",
    "    my_linked_list.append(5)\n",
    "\n",
    "\n",
    "\n",
    "    \"\"\"\n",
    "    EXPECTED OUTPUT:\n",
    "    ----------------\n",
    "    3\n",
    "\n",
    "    \"\"\"\n",
    "\n",
    "    assert my_linked_list.find_middle_node().value == 3"
   ]
  },
  {
   "cell_type": "markdown",
   "id": "cb5c1cee",
   "metadata": {},
   "source": []
  },
  {
   "cell_type": "code",
   "execution_count": 5,
   "id": "13ecde01",
   "metadata": {},
   "outputs": [
    {
     "data": {
      "text/plain": [
       "'\\n    EXPECTED OUTPUT:\\n    ----------------\\n    True\\n    False\\n    \\n'"
      ]
     },
     "execution_count": 5,
     "metadata": {},
     "output_type": "execute_result"
    },
    {
     "name": "stdout",
     "output_type": "stream",
     "text": [
      "\u001b[32m.\u001b[0m\u001b[32m                                                                                            [100%]\u001b[0m\n",
      "\u001b[32m\u001b[32m\u001b[1m1 passed\u001b[0m\u001b[32m in 0.00s\u001b[0m\u001b[0m\n"
     ]
    }
   ],
   "source": [
    "%%ipytest\n",
    "\n",
    "def test():\n",
    "    \"\"\" \n",
    "\n",
    "- Has Loop\n",
    "\n",
    "Write a method called has_loop that is part of the linked list class.\n",
    "\n",
    "The method should be able to detect if there is a cycle or loop present in the linked list.\n",
    "\n",
    "You are required to use Floyd's cycle-finding algorithm (also known as the \"tortoise and the hare\" algorithm) \n",
    "to detect the loop.\n",
    "\n",
    "This algorithm uses two pointers: a slow pointer and a fast pointer. The slow pointer moves one step at a time, \n",
    "while the fast pointer moves two steps at a time. \n",
    "If there is a loop in the linked list, the two pointers will eventually meet at some point. \n",
    "If there is no loop, the fast pointer will reach the end of the list.\n",
    "    \"\"\"\n",
    "\n",
    "    class LC(LinkedList):\n",
    "        def has_loop(self):\n",
    "            slow = self.head\n",
    "            fast = self.head\n",
    "            while fast is not None and fast.next is not None:\n",
    "                print(f\"slow {slow.value} fast {fast.value}\")\n",
    "\n",
    "                slow = slow.next\n",
    "                fast = fast.next.next\n",
    "                if slow == fast:\n",
    "                    return True\n",
    "            return False\n",
    "\n",
    "\n",
    "    my_linked_list_1 = LC(1)\n",
    "    my_linked_list_1.append(2)\n",
    "    my_linked_list_1.append(3)\n",
    "    my_linked_list_1.append(4)\n",
    "    my_linked_list_1.tail.next = my_linked_list_1.head\n",
    "    assert(my_linked_list_1.has_loop() ) # Returns True\n",
    "\n",
    "    my_linked_list_2 = LC(1)\n",
    "    my_linked_list_2.append(2)\n",
    "    my_linked_list_2.append(3)\n",
    "    my_linked_list_2.append(4)\n",
    "    assert(my_linked_list_2.has_loop() ) == False\n",
    "\n",
    "\n",
    "\"\"\"\n",
    "    EXPECTED OUTPUT:\n",
    "    ----------------\n",
    "    True\n",
    "    False\n",
    "    \n",
    "\"\"\"\n"
   ]
  },
  {
   "cell_type": "code",
   "execution_count": 6,
   "id": "d32b4982",
   "metadata": {},
   "outputs": [
    {
     "data": {
      "text/plain": [
       "'\\n    EXPECTED OUTPUT:\\n    ----------------\\n    4\\n    \\n'"
      ]
     },
     "execution_count": 6,
     "metadata": {},
     "output_type": "execute_result"
    },
    {
     "name": "stdout",
     "output_type": "stream",
     "text": [
      "\u001b[32m.\u001b[0m\u001b[32m                                                                                            [100%]\u001b[0m\n",
      "\u001b[32m\u001b[32m\u001b[1m1 passed\u001b[0m\u001b[32m in 0.00s\u001b[0m\u001b[0m\n"
     ]
    }
   ],
   "source": [
    "%%ipytest\n",
    "\n",
    "def test():\n",
    "    \"\"\"\n",
    "    - Find Kth Node From End\n",
    "\n",
    "Implement the find_kth_from_end function, which takes the LinkedList (ll) and an integer k as input, and returns the k-th node from the end of the linked list WITHOUT USING LENGTH.\n",
    "\n",
    "Given this LinkedList:\n",
    "\n",
    "1 -> 2 -> 3 -> 4\n",
    "\n",
    "If k=1 then return the first node from the end (the last node) which contains the value of 4.\n",
    "\n",
    "If k=2 then return the second node from the end which contains the value of 3, etc.\n",
    "\n",
    "If the index is out of bounds, the program should return None.\n",
    "    \"\"\"\n",
    "from src.nodes import Node\n",
    "\n",
    "class LC(LinkedList):\n",
    "    @staticmethod\n",
    "    def find_kth_from_end(ll, k):\n",
    "        slow = fast = ll.head\n",
    "        try:\n",
    "            while 1 == 1:\n",
    "                for _ in range(k):\n",
    "                    fast = fast.next\n",
    "                slow = slow.next\n",
    "        except:\n",
    "            return slow.next\n",
    "\n",
    "\n",
    "my_linked_list = LC(1)\n",
    "my_linked_list.append(2)\n",
    "my_linked_list.append(3)\n",
    "my_linked_list.append(4)\n",
    "my_linked_list.append(5)\n",
    "\n",
    "\n",
    "k = 2\n",
    "assert str(LC.find_kth_from_end(my_linked_list, k)) ==str(Node(4))\n",
    "\n",
    "\n",
    "\"\"\"\n",
    "    EXPECTED OUTPUT:\n",
    "    ----------------\n",
    "    4\n",
    "    \n",
    "\"\"\"\n"
   ]
  }
 ],
 "metadata": {
  "kernelspec": {
   "display_name": "venv",
   "language": "python",
   "name": "python3"
  },
  "language_info": {
   "codemirror_mode": {
    "name": "ipython",
    "version": 3
   },
   "file_extension": ".py",
   "mimetype": "text/x-python",
   "name": "python",
   "nbconvert_exporter": "python",
   "pygments_lexer": "ipython3",
   "version": "3.12.1"
  }
 },
 "nbformat": 4,
 "nbformat_minor": 5
}
