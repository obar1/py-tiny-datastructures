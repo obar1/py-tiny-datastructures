{
 "cells": [
  {
   "cell_type": "markdown",
   "id": "f999a301",
   "metadata": {},
   "source": [
    "# node\n",
    "![title](assets/image-n0.png)\n"
   ]
  },
  {
   "cell_type": "code",
   "execution_count": 3,
   "id": "94b773a8",
   "metadata": {},
   "outputs": [],
   "source": [
    "import sys, os\n",
    "\n",
    "sys.path.append(os.path.abspath(\"..\"))"
   ]
  },
  {
   "cell_type": "code",
   "execution_count": 4,
   "id": "a826383d",
   "metadata": {},
   "outputs": [
    {
     "data": {
      "text/plain": [
       "<src.node.Node at 0x7f6399ced780>"
      ]
     },
     "execution_count": 4,
     "metadata": {},
     "output_type": "execute_result"
    }
   ],
   "source": [
    "from src.node import Node\n",
    "\n",
    "Node(0)"
   ]
  }
 ],
 "metadata": {
  "kernelspec": {
   "display_name": "venv",
   "language": "python",
   "name": "python3"
  },
  "language_info": {
   "codemirror_mode": {
    "name": "ipython",
    "version": 3
   },
   "file_extension": ".py",
   "mimetype": "text/x-python",
   "name": "python",
   "nbconvert_exporter": "python",
   "pygments_lexer": "ipython3",
   "version": "3.10.12"
  }
 },
 "nbformat": 4,
 "nbformat_minor": 5
}
