{
 "cells": [
  {
   "cell_type": "markdown",
   "id": "f999a301",
   "metadata": {},
   "source": [
    "# Heaps\n",
    "\n",
    "> MaxHeap\n",
    "\n",
    "![title](assets/image-h0.png)\n"
   ]
  },
  {
   "cell_type": "code",
   "execution_count": 9,
   "id": "ea152f13",
   "metadata": {},
   "outputs": [],
   "source": [
    "import sys, os\n",
    "\n",
    "sys.path.append(os.path.abspath(\"..\"))"
   ]
  },
  {
   "cell_type": "code",
   "execution_count": 10,
   "id": "78a4f5e0",
   "metadata": {},
   "outputs": [
    {
     "data": {
      "text/plain": [
       "{'get_id', 'insert', 'print', 'remove'}"
      ]
     },
     "execution_count": 10,
     "metadata": {},
     "output_type": "execute_result"
    }
   ],
   "source": [
    "from src.heaps import MaxHeap\n",
    "\n",
    "MaxHeap().ds_func"
   ]
  },
  {
   "cell_type": "markdown",
   "id": "a90e6303",
   "metadata": {},
   "source": [
    "\n",
    "## Leet Code style \n"
   ]
  },
  {
   "cell_type": "code",
   "execution_count": 11,
   "id": "86301922",
   "metadata": {},
   "outputs": [],
   "source": [
    "import ipytest\n",
    "\n",
    "ipytest.autoconfig(raise_on_error=True)  # For CI environments"
   ]
  },
  {
   "cell_type": "code",
   "execution_count": 13,
   "id": "59750059",
   "metadata": {},
   "outputs": [
    {
     "name": "stdout",
     "output_type": "stream",
     "text": [
      "\u001b[32m.\u001b[0m\u001b[32m                                                                                            [100%]\u001b[0m\n",
      "\u001b[32m\u001b[32m\u001b[1m1 passed\u001b[0m\u001b[32m in 0.00s\u001b[0m\u001b[0m\n",
      "\u001b[32m                                                                                            [100%]\u001b[0m\n",
      "\u001b[32m\u001b[32m\u001b[1m1 passed\u001b[0m\u001b[32m in 0.00s\u001b[0m\u001b[0m\n"
     ]
    }
   ],
   "source": [
    "%%ipytest\n",
    "\n",
    "def test():\n",
    "    \"\"\"\n",
    "\n",
    "Heap: Kth Smallest Element in an Array\n",
    "\n",
    "You are given a list of numbers called nums and a number k.\n",
    "\n",
    "Your task is to write a function find_kth_smallest(nums, k) to find the kth smallest number in the list.\n",
    "\n",
    "The list can contain duplicate numbers and k is guaranteed to be within the range of the length of the list.\n",
    "\n",
    "\n",
    "    \"\"\"\n",
    "    def find_kth_smallest(nums, k):\n",
    "        max_heap = MaxHeap()\n",
    "    \n",
    "        for num in nums:\n",
    "            max_heap.insert(num)\n",
    "            if len(max_heap.heap) > k:\n",
    "                max_heap.remove()\n",
    "    \n",
    "        return max_heap.remove()\n",
    "\n",
    "\n",
    "    nums = [3, 2, 1, 5, 6, 4]\n",
    "    k = 2\n",
    "    assert (find_kth_smallest(nums, k)) ==2\n",
    "\n",
    "    nums = [3, 2, 3, 1, 2, 4, 5, 5, 6]\n",
    "    k = 4\n",
    "    assert find_kth_smallest(nums, k)==3\n"
   ]
  }
 ],
 "metadata": {
  "kernelspec": {
   "display_name": "venv",
   "language": "python",
   "name": "python3"
  },
  "language_info": {
   "codemirror_mode": {
    "name": "ipython",
    "version": 3
   },
   "file_extension": ".py",
   "mimetype": "text/x-python",
   "name": "python",
   "nbconvert_exporter": "python",
   "pygments_lexer": "ipython3",
   "version": "3.10.12"
  }
 },
 "nbformat": 4,
 "nbformat_minor": 5
}
