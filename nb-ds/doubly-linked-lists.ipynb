{
 "cells": [
  {
   "cell_type": "markdown",
   "id": "73401b57",
   "metadata": {},
   "source": [
    "# double linked lists\n",
    "![title](assets/image-dll0.png)"
   ]
  },
  {
   "cell_type": "code",
   "execution_count": null,
   "id": "b4087d3f",
   "metadata": {},
   "outputs": [],
   "source": [
    "import sys, os\n",
    "\n",
    "\n",
    "sys.path.append(os.path.abspath(\"..\"))"
   ]
  },
  {
   "cell_type": "code",
   "execution_count": null,
   "id": "55032eb5",
   "metadata": {},
   "outputs": [
    {
     "data": {
      "text/plain": [
       "{'append',\n",
       " 'get',\n",
       " 'get_id',\n",
       " 'insert',\n",
       " 'pop',\n",
       " 'pop_first',\n",
       " 'prepend',\n",
       " 'print_list',\n",
       " 'remove',\n",
       " 'set_value'}"
      ]
     },
     "execution_count": 55,
     "metadata": {},
     "output_type": "execute_result"
    }
   ],
   "source": [
    "from src.doubly_linked_lists import DoublyLinkedList\n",
    "\n",
    "\n",
    "DoublyLinkedList(0).ds_func"
   ]
  },
  {
   "cell_type": "markdown",
   "id": "44e3c728",
   "metadata": {},
   "source": [
    "## Leet Code style \n"
   ]
  },
  {
   "cell_type": "code",
   "execution_count": null,
   "id": "b5e9a08d",
   "metadata": {},
   "outputs": [],
   "source": [
    "import ipytest\n",
    "\n",
    "\n",
    "ipytest.autoconfig(raise_on_error=True)  # For CI environments"
   ]
  },
  {
   "cell_type": "code",
   "execution_count": null,
   "id": "80cced5a",
   "metadata": {},
   "outputs": [
    {
     "data": {
      "text/plain": [
       "'\\n    EXPECTED OUTPUT:\\n    ----------------\\n    DLL before swap_first_last():\\n    1\\n    2\\n    3\\n    4\\n\\n    DLL after swap_first_last():\\n    4\\n    2\\n    3\\n    1\\n\\n'"
      ]
     },
     "execution_count": 57,
     "metadata": {},
     "output_type": "execute_result"
    },
    {
     "name": "stdout",
     "output_type": "stream",
     "text": [
      "\u001b[32m.\u001b[0m\u001b[32m                                                                                            [100%]\u001b[0m\n",
      "\u001b[32m\u001b[32m\u001b[1m1 passed\u001b[0m\u001b[32m in 0.01s\u001b[0m\u001b[0m\n",
      "\u001b[32m                                                                                            [100%]\u001b[0m\n",
      "\u001b[32m\u001b[32m\u001b[1m1 passed\u001b[0m\u001b[32m in 0.01s\u001b[0m\u001b[0m\n"
     ]
    }
   ],
   "source": [
    "%%ipytest\n",
    "\n",
    "\n",
    "def test():\n",
    "    \"\"\"\n",
    "# Swap First and Last\n",
    "\n",
    "\n",
    "DLL: Swap First and Last ( ** Interview Question)\n",
    "\n",
    "\n",
    "Swap the values of the first and last node\n",
    "\n",
    "\n",
    "Method name:\n",
    "swap_first_last\n",
    "\n",
    "\n",
    "Note that the pointers to the nodes themselves are not swapped - only their values are exchanged.\n",
    "\n",
    "\n",
    "\n",
    "\n",
    "    \"\"\"\n",
    "    class LC(DoublyLinkedList):\n",
    "    \n",
    "\n",
    "        def swap_first_last(self):\n",
    "            if self.length ==0:\n",
    "                return\n",
    "            self.head.value,  self.tail.value =    self.tail.value,self.head.value\n",
    "\n",
    "\n",
    "\n",
    "\n",
    "    my_doubly_linked_list = LC(1)\n",
    "    my_doubly_linked_list.append(2)\n",
    "    my_doubly_linked_list.append(3)\n",
    "    my_doubly_linked_list.append(4)\n",
    "\n",
    "\n",
    "\n",
    "\n",
    "    print('DLL before swap_first_last():')\n",
    "    assert str(my_doubly_linked_list) ==\"dll:['node:1,', 'node:2,', 'node:3,', 'node:4,']\"\n",
    "\n",
    "\n",
    "\n",
    "\n",
    "    my_doubly_linked_list.swap_first_last()\n",
    "\n",
    "\n",
    "\n",
    "\n",
    "    print('\\nDLL after swap_first_last():')\n",
    "    assert str(my_doubly_linked_list) ==\"dll:['node:4,', 'node:2,', 'node:3,', 'node:1,']\"\n",
    "\n",
    "\n",
    "\n",
    "\n",
    "\"\"\"\n",
    "    EXPECTED OUTPUT:\n",
    "    ----------------\n",
    "    DLL before swap_first_last():\n",
    "    1\n",
    "    2\n",
    "    3\n",
    "    4\n",
    "\n",
    "\n",
    "    DLL after swap_first_last():\n",
    "    4\n",
    "    2\n",
    "    3\n",
    "    1\n",
    "\n",
    "\n",
    "\"\"\"\n",
    "\n",
    "\n"
   ]
  },
  {
   "cell_type": "code",
   "execution_count": null,
   "id": "68b90c6d",
   "metadata": {},
   "outputs": [
    {
     "name": "stdout",
     "output_type": "stream",
     "text": [
      "\u001b[32m.\u001b[0m\u001b[32m                                                                                            [100%]\u001b[0m\n",
      "\u001b[32m\u001b[32m\u001b[1m1 passed\u001b[0m\u001b[32m in 0.00s\u001b[0m\u001b[0m\n",
      "\u001b[32m                                                                                            [100%]\u001b[0m\n",
      "\u001b[32m\u001b[32m\u001b[1m1 passed\u001b[0m\u001b[32m in 0.00s\u001b[0m\u001b[0m\n"
     ]
    }
   ],
   "source": [
    "%%ipytest\n",
    "\n",
    "\n",
    "def test():\n",
    "    \"\"\"\n",
    "\n",
    "\n",
    "DLL: Reverse ( ** Interview Question)\n",
    "\n",
    "\n",
    "Create a new method called reverse that reverses the order of the nodes in the list, i.e., the first node becomes the last node, the second node becomes the second-to-last node, and so on.\n",
    "\n",
    "\n",
    "    \"\"\"\n",
    "    class LC(DoublyLinkedList):\n",
    "        def reverse(self):\n",
    "            temp = self.head\n",
    "            while temp is not None:\n",
    "                # swap the prev and next pointers of node points to\n",
    "                temp.prev, temp.next = temp.next, temp.prev\n",
    "            \n",
    "\n",
    "                # move to the next node\n",
    "                temp = temp.prev\n",
    "            \n",
    "\n",
    "            # swap the head and tail pointers\n",
    "            self.head, self.tail = self.tail, self.head\n",
    "\n",
    "\n",
    "\n",
    "\n",
    "\n",
    "\n",
    "    my_doubly_linked_list = LC(1)\n",
    "    my_doubly_linked_list.append(2)\n",
    "    my_doubly_linked_list.append(3)\n",
    "    my_doubly_linked_list.append(4)\n",
    "\n",
    "\n",
    "\n",
    "\n",
    "    print('DLL before reverse():')\n",
    "    assert str(my_doubly_linked_list) ==\"dll:['node:1,', 'node:2,', 'node:3,', 'node:4,']\"\n",
    "\n",
    "\n",
    "    my_doubly_linked_list.reverse()\n",
    "\n",
    "\n",
    "    print('\\nDLL after reverse():')\n",
    "    assert str(my_doubly_linked_list) ==\"dll:['node:4,', 'node:3,', 'node:2,', 'node:1,']\"\n"
   ]
  },
  {
   "cell_type": "code",
   "execution_count": null,
   "id": "47a454cf",
   "metadata": {},
   "outputs": [
    {
     "name": "stdout",
     "output_type": "stream",
     "text": [
      "\u001b[32m.\u001b[0m\u001b[32m                                                                                            [100%]\u001b[0m\n",
      "\u001b[32m\u001b[32m\u001b[1m1 passed\u001b[0m\u001b[32m in 0.01s\u001b[0m\u001b[0m\n",
      "\u001b[32m                                                                                            [100%]\u001b[0m\n",
      "\u001b[32m\u001b[32m\u001b[1m1 passed\u001b[0m\u001b[32m in 0.01s\u001b[0m\u001b[0m\n"
     ]
    }
   ],
   "source": [
    "%%ipytest\n",
    "\n",
    "\n",
    "def test():\n",
    "    \"\"\"\n",
    "\n",
    "\n",
    "DLL: Palindrome Checker ( ** Interview Question)\n",
    "\n",
    "\n",
    "Write a method to determine whether a given doubly linked list reads the same forwards and backwards.\n",
    "\n",
    "\n",
    "For example, if the list contains the values [1, 2, 3, 2, 1], then the method should return True, since the list is a palindrome.\n",
    "\n",
    "\n",
    "If the list contains the values [1, 2, 3, 4, 5], then the method should return False, since the list is not a palindrome.\n",
    "\n",
    "\n",
    "    \"\"\"\n",
    "    class LC(DoublyLinkedList):\n",
    "        def is_palindrome(self):\n",
    "            l = self.length\n",
    "            if l<=1:\n",
    "                return True\n",
    "            sx = self.head\n",
    "            dx = self.tail\n",
    "            try:\n",
    "                for i in range(l):\n",
    "                    assert sx.value == dx.value\n",
    "                    sx =sx.next\n",
    "                    dx = dx.prev\n",
    "                    if i> l//2:\n",
    "                        return True \n",
    "            except :\n",
    "                return False\n",
    "\n",
    "\n",
    "\n",
    "\n",
    "\n",
    "\n",
    "    my_dll_1 = LC(1)\n",
    "    my_dll_1.append(2)\n",
    "    my_dll_1.append(3)\n",
    "    my_dll_1.append(2)\n",
    "    my_dll_1.append(1)\n",
    "\n",
    "\n",
    "    print('my_dll_1 is_palindrome:')\n",
    "    assert my_dll_1.is_palindrome() \n",
    "\n",
    "\n",
    "\n",
    "\n",
    "    my_dll_2 = LC(1)\n",
    "    my_dll_2.append(2)\n",
    "    my_dll_2.append(3)\n",
    "\n",
    "\n",
    "    print('\\nmy_dll_2 is_palindrome:')\n",
    "    assert my_dll_2.is_palindrome()  is False\n",
    "\n",
    "\n",
    "\n",
    "\n",
    "\n",
    "\n",
    "\n",
    "\n",
    "    \"\"\"\n",
    "        EXPECTED OUTPUT:\n",
    "        ----------------\n",
    "        my_dll_1 is_palindrome:\n",
    "        True\n",
    "\n",
    "\n",
    "        my_dll_2 is_palindrome:\n",
    "        False\n",
    "\n",
    "\n",
    "    \"\"\"\n",
    "\n",
    "\n"
   ]
  },
  {
   "cell_type": "code",
   "execution_count": null,
   "id": "c5994c7d",
   "metadata": {},
   "outputs": [
    {
     "data": {
      "text/plain": [
       "'\\n    EXPECTED OUTPUT:\\n    ----------------\\n    my_dll before swap_pairs:\\n    1 <-> 2 <-> 3 <-> 4\\n    ------------------------\\n    my_dll after swap_pairs:\\n    2 <-> 1 <-> 4 <-> 3\\n\\n'"
      ]
     },
     "execution_count": 60,
     "metadata": {},
     "output_type": "execute_result"
    },
    {
     "name": "stdout",
     "output_type": "stream",
     "text": [
      "\u001b[32m.\u001b[0m\u001b[32m                                                                                            [100%]\u001b[0m\n",
      "\u001b[32m\u001b[32m\u001b[1m1 passed\u001b[0m\u001b[32m in 0.01s\u001b[0m\u001b[0m\n",
      "\u001b[32m                                                                                            [100%]\u001b[0m\n",
      "\u001b[32m\u001b[32m\u001b[1m1 passed\u001b[0m\u001b[32m in 0.01s\u001b[0m\u001b[0m\n"
     ]
    }
   ],
   "source": [
    "%%ipytest\n",
    "from src.node_p import NodeP as Node\n",
    "def test():\n",
    "    \"\"\"\n",
    "DLL: Swap Nodes in Pairs\n",
    "Implement a method called swap_pairs within the class that swaps the values of adjacent nodes in the linked list. \n",
    "The method should not take any input parameters.\n",
    "    \"\"\"\n",
    "    class LC(DoublyLinkedList):\n",
    "        def swap_pairs(self):\n",
    "            dummy_node = Node(0)\n",
    "            dummy_node.next = self.head\n",
    "            previous_node = dummy_node\n",
    "    \n",
    "            while self.head and self.head.next:\n",
    "                first_node = self.head\n",
    "                second_node = self.head.next\n",
    "    \n",
    "                previous_node.next = second_node\n",
    "                first_node.next = second_node.next\n",
    "                second_node.next = first_node\n",
    "    \n",
    "                second_node.prev = previous_node\n",
    "                first_node.prev = second_node\n",
    "    \n",
    "                if first_node.next:\n",
    "                    first_node.next.prev = first_node\n",
    "    \n",
    "                self.head = first_node.next\n",
    "                previous_node = first_node\n",
    "    \n",
    "            self.head = dummy_node.next\n",
    "    \n",
    "            if self.head:\n",
    "                self.head.prev = None\n",
    "    my_dll = LC(1)\n",
    "    my_dll.append(2)\n",
    "    my_dll.append(3)\n",
    "    my_dll.append(4)\n",
    "    print('my_dll before swap_pairs:')\n",
    "    assert str(my_dll) ==\"dll:['node:1,', 'node:2,', 'node:3,', 'node:4,']\"\n",
    "    print('my_dll after swap_pairs:')\n",
    "    my_dll.swap_pairs() \n",
    "    assert str(my_dll) ==\"dll:['node:2,', 'node:1,', 'node:4,', 'node:3,']\"\n",
    "\"\"\"\n",
    "    EXPECTED OUTPUT:\n",
    "    ----------------\n",
    "    my_dll before swap_pairs:\n",
    "    1 <-> 2 <-> 3 <-> 4\n",
    "    ------------------------\n",
    "    my_dll after swap_pairs:\n",
    "    2 <-> 1 <-> 4 <-> 3\n",
    "\"\"\"\n"
   ]
  }
 ],
 "metadata": {
  "kernelspec": {
   "display_name": "venv",
   "language": "python",
   "name": "python3"
  },
  "language_info": {
   "codemirror_mode": {
    "name": "ipython",
    "version": 3
   },
   "file_extension": ".py",
   "mimetype": "text/x-python",
   "name": "python",
   "nbconvert_exporter": "python",
   "pygments_lexer": "ipython3",
   "version": "3.10.12"
  }
 },
 "nbformat": 4,
 "nbformat_minor": 5
}
