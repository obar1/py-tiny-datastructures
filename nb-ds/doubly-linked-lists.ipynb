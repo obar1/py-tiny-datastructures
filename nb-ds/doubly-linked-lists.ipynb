{
 "cells": [
  {
   "cell_type": "markdown",
   "id": "73401b57",
   "metadata": {},
   "source": [
    "# double linked lists\n",
    "![title](assets/image-dll0.png)"
   ]
  },
  {
   "cell_type": "code",
   "execution_count": 1,
   "id": "b4087d3f",
   "metadata": {},
   "outputs": [],
   "source": [
    "import sys, os\n",
    "\n",
    "sys.path.append(os.path.abspath(\"..\"))"
   ]
  },
  {
   "cell_type": "code",
   "execution_count": 2,
   "id": "55032eb5",
   "metadata": {},
   "outputs": [
    {
     "data": {
      "text/plain": [
       "{'append',\n",
       " 'get',\n",
       " 'get_id',\n",
       " 'insert',\n",
       " 'pop',\n",
       " 'pop_first',\n",
       " 'prepend',\n",
       " 'print_list',\n",
       " 'remove',\n",
       " 'set_value'}"
      ]
     },
     "execution_count": 2,
     "metadata": {},
     "output_type": "execute_result"
    }
   ],
   "source": [
    "from src.doubly_linked_lists import DoublyLinkedList\n",
    "\n",
    "DoublyLinkedList(0).ds_func"
   ]
  },
  {
   "cell_type": "markdown",
   "id": "44e3c728",
   "metadata": {},
   "source": [
    "## Leet Code style \n"
   ]
  },
  {
   "cell_type": "code",
   "execution_count": 3,
   "id": "b5e9a08d",
   "metadata": {},
   "outputs": [],
   "source": [
    "import ipytest\n",
    "\n",
    "ipytest.autoconfig(raise_on_error=True)  # For CI environments"
   ]
  },
  {
   "cell_type": "code",
   "execution_count": 6,
   "id": "80cced5a",
   "metadata": {},
   "outputs": [
    {
     "data": {
      "text/plain": [
       "'\\n    EXPECTED OUTPUT:\\n    ----------------\\n    DLL before swap_first_last():\\n    1\\n    2\\n    3\\n    4\\n\\n    DLL after swap_first_last():\\n    4\\n    2\\n    3\\n    1\\n\\n'"
      ]
     },
     "execution_count": 6,
     "metadata": {},
     "output_type": "execute_result"
    },
    {
     "name": "stdout",
     "output_type": "stream",
     "text": [
      "\u001b[32m.\u001b[0m\u001b[32m                                                                                            [100%]\u001b[0m\n",
      "\u001b[32m\u001b[32m\u001b[1m1 passed\u001b[0m\u001b[32m in 0.01s\u001b[0m\u001b[0m\n",
      "\u001b[32m                                                                                            [100%]\u001b[0m\n",
      "\u001b[32m\u001b[32m\u001b[1m1 passed\u001b[0m\u001b[32m in 0.01s\u001b[0m\u001b[0m\n"
     ]
    }
   ],
   "source": [
    "%%ipytest\n",
    "\n",
    "def test():\n",
    "    \"\"\"\n",
    "# Swap First and Last\n",
    "\n",
    "DLL: Swap First and Last ( ** Interview Question)\n",
    "\n",
    "Swap the values of the first and last node\n",
    "\n",
    "Method name:\n",
    "swap_first_last\n",
    "\n",
    "Note that the pointers to the nodes themselves are not swapped - only their values are exchanged.\n",
    "\n",
    "\n",
    "    \"\"\"\n",
    "    class LC(DoublyLinkedList):\n",
    "        \n",
    "        def swap_first_last(self):\n",
    "            if self.length ==0:\n",
    "                return\n",
    "            self.head.value,  self.tail.value =    self.tail.value,self.head.value\n",
    "\n",
    "    \n",
    "    my_doubly_linked_list = LC(1)\n",
    "    my_doubly_linked_list.append(2)\n",
    "    my_doubly_linked_list.append(3)\n",
    "    my_doubly_linked_list.append(4)\n",
    "\n",
    "\n",
    "    print('DLL before swap_first_last():')\n",
    "    assert str(my_doubly_linked_list) ==\"dll:['node:1,', 'node:2,', 'node:3,', 'node:4,']\"\n",
    "\n",
    "\n",
    "    my_doubly_linked_list.swap_first_last()\n",
    "\n",
    "\n",
    "    print('\\nDLL after swap_first_last():')\n",
    "    assert str(my_doubly_linked_list) ==\"dll:['node:4,', 'node:2,', 'node:3,', 'node:1,']\"\n",
    "\n",
    "\n",
    "\"\"\"\n",
    "    EXPECTED OUTPUT:\n",
    "    ----------------\n",
    "    DLL before swap_first_last():\n",
    "    1\n",
    "    2\n",
    "    3\n",
    "    4\n",
    "\n",
    "    DLL after swap_first_last():\n",
    "    4\n",
    "    2\n",
    "    3\n",
    "    1\n",
    "\n",
    "\"\"\"\n",
    "\n"
   ]
  }
 ],
 "metadata": {
  "kernelspec": {
   "display_name": "venv",
   "language": "python",
   "name": "python3"
  },
  "language_info": {
   "codemirror_mode": {
    "name": "ipython",
    "version": 3
   },
   "file_extension": ".py",
   "mimetype": "text/x-python",
   "name": "python",
   "nbconvert_exporter": "python",
   "pygments_lexer": "ipython3",
   "version": "3.10.12"
  }
 },
 "nbformat": 4,
 "nbformat_minor": 5
}
