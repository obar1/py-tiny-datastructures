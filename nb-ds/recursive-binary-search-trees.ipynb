{
 "cells": [
  {
   "cell_type": "markdown",
   "id": "f999a301",
   "metadata": {},
   "source": [
    "# Recursive Binary Search Trees\n",
    "![title](assets/image-r-sbt0.png)\n"
   ]
  },
  {
   "cell_type": "code",
   "execution_count": 4,
   "id": "ea152f13",
   "metadata": {},
   "outputs": [],
   "source": [
    "import sys, os\n",
    "\n",
    "sys.path.append(os.path.abspath(\"..\"))"
   ]
  },
  {
   "cell_type": "code",
   "execution_count": 5,
   "id": "4e46d2ec",
   "metadata": {},
   "outputs": [],
   "source": [
    "from src.recursive_binary_search_trees import BinarySearchTree"
   ]
  },
  {
   "cell_type": "code",
   "execution_count": 6,
   "id": "79a851d6",
   "metadata": {},
   "outputs": [
    {
     "data": {
      "text/plain": [
       "<src.recursive_binary_search_trees.BinarySearchTree at 0x7f2e0c6631f0>"
      ]
     },
     "execution_count": 6,
     "metadata": {},
     "output_type": "execute_result"
    }
   ],
   "source": [
    "BinarySearchTree()"
   ]
  }
 ],
 "metadata": {
  "kernelspec": {
   "display_name": "venv",
   "language": "python",
   "name": "python3"
  },
  "language_info": {
   "codemirror_mode": {
    "name": "ipython",
    "version": 3
   },
   "file_extension": ".py",
   "mimetype": "text/x-python",
   "name": "python",
   "nbconvert_exporter": "python",
   "pygments_lexer": "ipython3",
   "version": "3.10.12"
  }
 },
 "nbformat": 4,
 "nbformat_minor": 5
}
