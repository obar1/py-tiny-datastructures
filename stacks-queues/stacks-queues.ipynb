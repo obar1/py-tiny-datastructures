{
 "cells": [
  {
   "cell_type": "markdown",
   "id": "f999a301",
   "metadata": {},
   "source": [
    "# Stack & Queues\n"
   ]
  },
  {
   "cell_type": "markdown",
   "id": "f295ad07",
   "metadata": {},
   "source": [
    "![title](image.png)\n"
   ]
  },
  {
   "cell_type": "code",
   "execution_count": 61,
   "id": "74cec805",
   "metadata": {},
   "outputs": [],
   "source": [
    "import ipytest\n",
    "\n",
    "ipytest.autoconfig(raise_on_error=True)  # For CI environments"
   ]
  },
  {
   "cell_type": "code",
   "execution_count": 62,
   "id": "a826383d",
   "metadata": {},
   "outputs": [
    {
     "name": "stdout",
     "output_type": "stream",
     "text": [
      "\u001b[32m.\u001b[0m\u001b[32m                                                                                            [100%]\u001b[0m\n",
      "\u001b[32m\u001b[32m\u001b[1m1 passed\u001b[0m\u001b[32m in 0.01s\u001b[0m\u001b[0m\n",
      "\u001b[32m                                                                                            [100%]\u001b[0m\n",
      "\u001b[32m\u001b[32m\u001b[1m1 passed\u001b[0m\u001b[32m in 0.01s\u001b[0m\u001b[0m\n"
     ]
    }
   ],
   "source": [
    "%run ../node/node.ipynb import Node"
   ]
  },
  {
   "cell_type": "code",
   "execution_count": 63,
   "id": "9a47ea98",
   "metadata": {},
   "outputs": [],
   "source": [
    "class Stack:\n",
    "    def __init__(self, value):\n",
    "        new_node = Node(value)\n",
    "        self.top = new_node\n",
    "        self.height = 1\n",
    "\n",
    "    def _ger_repr(self):\n",
    "        yield f\"top:{self.top},\"\n",
    "        temp = self.top\n",
    "        while temp is not None:\n",
    "            yield str(temp) + \",\"\n",
    "            temp = temp.next\n",
    "\n",
    "    def __repr__(self):\n",
    "        return f\"s:{list(self._ger_repr())}\"\n",
    "\n",
    "    def push(self, value):\n",
    "        new_node = Node(value)\n",
    "        try:\n",
    "            assert self.top\n",
    "            new_node.next = self.top\n",
    "            self.top = new_node\n",
    "        except AssertionError:\n",
    "            self.top = new_node\n",
    "        finally:\n",
    "            self.height += 1\n",
    "\n",
    "    def pop(self):\n",
    "        try:\n",
    "            assert self.top\n",
    "            tmp = self.top\n",
    "            self.top = tmp.next\n",
    "            tmp.next = None\n",
    "            return tmp\n",
    "        except AssertionError:\n",
    "            return None\n",
    "        finally:\n",
    "            self.height -= 1"
   ]
  },
  {
   "cell_type": "code",
   "execution_count": 64,
   "id": "6da679d4",
   "metadata": {},
   "outputs": [],
   "source": [
    "import pytest\n",
    "\n",
    "\n",
    "@pytest.fixture\n",
    "def get_s():\n",
    "    return Stack(0)"
   ]
  },
  {
   "cell_type": "code",
   "execution_count": 65,
   "id": "d4640ab5",
   "metadata": {},
   "outputs": [
    {
     "name": "stdout",
     "output_type": "stream",
     "text": [
      "\u001b[32m.\u001b[0m\u001b[32m                                                                                            [100%]\u001b[0m\n",
      "\u001b[32m\u001b[32m\u001b[1m1 passed\u001b[0m\u001b[32m in 0.01s\u001b[0m\u001b[0m\n",
      "\u001b[32m                                                                                            [100%]\u001b[0m\n",
      "\u001b[32m\u001b[32m\u001b[1m1 passed\u001b[0m\u001b[32m in 0.01s\u001b[0m\u001b[0m\n"
     ]
    }
   ],
   "source": [
    "%%ipytest\n",
    "\n",
    "def test(get_s):\n",
    "    assert get_s.top != None\n",
    "    assert get_s.height == 1 \n",
    "    assert str(get_s).strip() == \"s:['top:node:0,', 'node:0,']\""
   ]
  },
  {
   "cell_type": "code",
   "execution_count": 66,
   "id": "6f450d1a",
   "metadata": {},
   "outputs": [
    {
     "name": "stdout",
     "output_type": "stream",
     "text": [
      "\u001b[32m.\u001b[0m\u001b[32m                                                                                            [100%]\u001b[0m\n",
      "\u001b[32m\u001b[32m\u001b[1m1 passed\u001b[0m\u001b[32m in 0.01s\u001b[0m\u001b[0m\n",
      "\u001b[32m                                                                                            [100%]\u001b[0m\n",
      "\u001b[32m\u001b[32m\u001b[1m1 passed\u001b[0m\u001b[32m in 0.01s\u001b[0m\u001b[0m\n"
     ]
    }
   ],
   "source": [
    "%%ipytest\n",
    "\n",
    "def test(get_s):\n",
    "    get_s.push(1)\n",
    "    get_s.push(2)\n",
    "    assert str(get_s).strip() == \"s:['top:node:2,', 'node:2,', 'node:1,', 'node:0,']\""
   ]
  },
  {
   "cell_type": "code",
   "execution_count": 67,
   "id": "6580e506",
   "metadata": {},
   "outputs": [
    {
     "name": "stdout",
     "output_type": "stream",
     "text": [
      "\u001b[32m.\u001b[0m\u001b[32m                                                                                            [100%]\u001b[0m\n",
      "\u001b[32m\u001b[32m\u001b[1m1 passed\u001b[0m\u001b[32m in 0.01s\u001b[0m\u001b[0m\n",
      "\u001b[32m                                                                                            [100%]\u001b[0m\n",
      "\u001b[32m\u001b[32m\u001b[1m1 passed\u001b[0m\u001b[32m in 0.01s\u001b[0m\u001b[0m\n"
     ]
    }
   ],
   "source": [
    "%%ipytest\n",
    "\n",
    "def test(get_s):\n",
    "    get_s.push(1)\n",
    "    assert str(get_s.pop()) == \"node:1\"\n",
    "    assert str(get_s.pop()) == \"node:0\"\n",
    "    assert str(get_s.pop()) == \"None\"\n",
    "\n"
   ]
  },
  {
   "cell_type": "markdown",
   "id": "c6274e5b",
   "metadata": {},
   "source": [
    "![title](image-1.png)\n"
   ]
  },
  {
   "cell_type": "code",
   "execution_count": 68,
   "id": "903dd5a2",
   "metadata": {},
   "outputs": [],
   "source": [
    "class Queue:\n",
    "    def __init__(self, value):\n",
    "        nn = Node(value)\n",
    "        self.first = self.last = nn\n",
    "        self.length = 1\n",
    "\n",
    "    def print_list(self):\n",
    "        yield f\"first:{self.first},\"\n",
    "        temp = self.first\n",
    "        while temp is not None:\n",
    "            yield str(temp) + \",\"\n",
    "            temp = temp.next\n",
    "        yield f\"last:{self.last},\"\n",
    "\n",
    "    def __repr__(self):\n",
    "        return f\"q:{list(self.print_list())}\"\n",
    "\n",
    "    def enqueue(self, value):\n",
    "        nn = Node(value)\n",
    "        try:\n",
    "            assert self.first\n",
    "            self.last.next = nn\n",
    "            self.last = nn\n",
    "        except AssertionError:\n",
    "            self.first = nn\n",
    "            self.last = nn\n",
    "        finally:\n",
    "            self.length += 1\n",
    "\n",
    "    def dequeue(self):\n",
    "        tmp = self.first\n",
    "        try:\n",
    "            assert tmp\n",
    "        except AssertionError:\n",
    "            return None\n",
    "        finally:\n",
    "            self.length -= 1\n",
    "        self.first = self.first.next\n",
    "\n",
    "        if self.length == 1:\n",
    "            self.last = None\n",
    "        tmp.next = None\n",
    "        return tmp"
   ]
  },
  {
   "cell_type": "code",
   "execution_count": 69,
   "id": "5733600c",
   "metadata": {},
   "outputs": [],
   "source": [
    "import pytest\n",
    "\n",
    "# to be sure to use it in queue pytests\n",
    "del globals()[\"get_s\"]\n",
    "\n",
    "\n",
    "@pytest.fixture\n",
    "def get_q():\n",
    "    return Queue(0)"
   ]
  },
  {
   "cell_type": "code",
   "execution_count": 70,
   "id": "02a2cc07",
   "metadata": {},
   "outputs": [
    {
     "name": "stdout",
     "output_type": "stream",
     "text": [
      "\u001b[32m.\u001b[0m\u001b[32m                                                                                            [100%]\u001b[0m\n",
      "\u001b[32m\u001b[32m\u001b[1m1 passed\u001b[0m\u001b[32m in 0.01s\u001b[0m\u001b[0m\n",
      "\u001b[32m                                                                                            [100%]\u001b[0m\n",
      "\u001b[32m\u001b[32m\u001b[1m1 passed\u001b[0m\u001b[32m in 0.01s\u001b[0m\u001b[0m\n"
     ]
    }
   ],
   "source": [
    "%%ipytest\n",
    "\n",
    "def test(get_q):\n",
    "    assert get_q.first != None\n",
    "    assert get_q.last != None \n",
    "    assert get_q.length == 1 \n",
    "    assert str(get_q).strip() == \"q:['first:node:0,', 'node:0,', 'last:node:0,']\""
   ]
  },
  {
   "cell_type": "code",
   "execution_count": 71,
   "id": "d0f4f063",
   "metadata": {},
   "outputs": [
    {
     "name": "stdout",
     "output_type": "stream",
     "text": [
      "\u001b[32m.\u001b[0m\u001b[32m                                                                                            [100%]\u001b[0m\n",
      "\u001b[32m\u001b[32m\u001b[1m1 passed\u001b[0m\u001b[32m in 0.01s\u001b[0m\u001b[0m\n",
      "\u001b[32m                                                                                            [100%]\u001b[0m\n",
      "\u001b[32m\u001b[32m\u001b[1m1 passed\u001b[0m\u001b[32m in 0.01s\u001b[0m\u001b[0m\n"
     ]
    }
   ],
   "source": [
    "%%ipytest\n",
    "\n",
    "def test(get_q):\n",
    "    get_q.enqueue(1)\n",
    "    get_q.enqueue(2)\n",
    "    assert str(get_q).strip() == \"q:['first:node:0,', 'node:0,', 'node:1,', 'node:2,', 'last:node:2,']\""
   ]
  },
  {
   "cell_type": "code",
   "execution_count": 73,
   "id": "8e3a9e7f",
   "metadata": {},
   "outputs": [
    {
     "name": "stdout",
     "output_type": "stream",
     "text": [
      "\u001b[32m.\u001b[0m\u001b[32m                                                                                            [100%]\u001b[0m"
     ]
    },
    {
     "name": "stdout",
     "output_type": "stream",
     "text": [
      "\n",
      "\u001b[32m\u001b[32m\u001b[1m1 passed\u001b[0m\u001b[32m in 0.01s\u001b[0m\u001b[0m\n"
     ]
    }
   ],
   "source": [
    "%%ipytest\n",
    "\n",
    "def test(get_q):\n",
    "    get_q.enqueue(1)\n",
    "    assert str(get_q.dequeue()) == \"node:0\"\n",
    "    assert str(get_q.dequeue()) == \"node:1\"\n",
    "    assert str(get_q.dequeue()) == \"None\""
   ]
  }
 ],
 "metadata": {
  "kernelspec": {
   "display_name": "Python 3",
   "language": "python",
   "name": "python3"
  },
  "language_info": {
   "codemirror_mode": {
    "name": "ipython",
    "version": 3
   },
   "file_extension": ".py",
   "mimetype": "text/x-python",
   "name": "python",
   "nbconvert_exporter": "python",
   "pygments_lexer": "ipython3",
   "version": "3.10.12"
  }
 },
 "nbformat": 4,
 "nbformat_minor": 5
}
