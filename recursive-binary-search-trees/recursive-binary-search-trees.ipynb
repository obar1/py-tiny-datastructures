{
 "cells": [
  {
   "cell_type": "markdown",
   "id": "f999a301",
   "metadata": {},
   "source": [
    "# Recursive Binary Search Trees"
   ]
  },
  {
   "cell_type": "code",
   "execution_count": 63,
   "id": "ea152f13",
   "metadata": {},
   "outputs": [],
   "source": [
    "import ipytest\n",
    "\n",
    "ipytest.autoconfig(raise_on_error=True)  # For CI environments"
   ]
  },
  {
   "cell_type": "markdown",
   "id": "ba0b2eb7",
   "metadata": {},
   "source": [
    "![title](image.png)\n"
   ]
  },
  {
   "cell_type": "code",
   "execution_count": 64,
   "id": "2ae6ed62",
   "metadata": {},
   "outputs": [
    {
     "name": "stdout",
     "output_type": "stream",
     "text": [
      "\u001b[32m.\u001b[0m\u001b[32m                                                                                            [100%]\u001b[0m\n",
      "\u001b[32m\u001b[32m\u001b[1m1 passed\u001b[0m\u001b[32m in 0.01s\u001b[0m\u001b[0m\n",
      "\u001b[32m                                                                                            [100%]\u001b[0m\n",
      "\u001b[32m\u001b[32m\u001b[1m1 passed\u001b[0m\u001b[32m in 0.01s\u001b[0m\u001b[0m\n"
     ]
    }
   ],
   "source": [
    "%run ../node/node_lr.ipynb import Node"
   ]
  },
  {
   "cell_type": "code",
   "execution_count": null,
   "id": "a826383d",
   "metadata": {},
   "outputs": [],
   "source": [
    "class BinarySearchTree:\n",
    "\n",
    "    @property\n",
    "    def id(self):\n",
    "        return \"binary search tree\"\n",
    "\n",
    "    def __init__(self):\n",
    "        self.root = None\n",
    "\n",
    "    def __r_insert(self, current_node, value):\n",
    "        if current_node == None:\n",
    "            return Node(value)\n",
    "        if value < current_node.value:\n",
    "            current_node.left = self.__r_insert(current_node.left, value)\n",
    "        if value > current_node.value:\n",
    "            current_node.right = self.__r_insert(current_node.right, value)\n",
    "        return current_node\n",
    "\n",
    "    def insert(self, value):\n",
    "        if self.root == None:\n",
    "            self.root = Node(value)\n",
    "        self.__r_insert(self.root, value)\n",
    "\n",
    "    def contains(self, value):\n",
    "        temp = self.root\n",
    "        while temp is not None:\n",
    "            if value < temp.value:\n",
    "                temp = temp.left\n",
    "            elif value > temp.value:\n",
    "                temp = temp.right\n",
    "            else:\n",
    "                return True\n",
    "        return False\n",
    "\n",
    "    def __r_contains(self, current_node, value):\n",
    "        if current_node == None:\n",
    "            return False\n",
    "        if value == current_node.value:\n",
    "            return True\n",
    "        if value < current_node.value:\n",
    "            return self.__r_contains(current_node.left, value)\n",
    "        if value > current_node.value:\n",
    "            return self.__r_contains(current_node.right, value)\n",
    "\n",
    "    def r_contains(self, value):\n",
    "        return self.__r_contains(self.root, value)\n",
    "\n",
    "    def _find_min(self, node):\n",
    "        current = node\n",
    "        while current.left is not None:\n",
    "            current = current.left\n",
    "        return current.value\n",
    "\n",
    "    def _delete_recursive(self, node, value):\n",
    "        # Base case: Empty tree\n",
    "        if node is None:\n",
    "            return None\n",
    "\n",
    "        # Find the node to delete\n",
    "        if value < node.value:\n",
    "            node.left = self._delete_recursive(node.left, value)\n",
    "        elif value > node.value:\n",
    "            node.right = self._delete_recursive(node.right, value)\n",
    "        else:\n",
    "            # Handle different cases of node deletion\n",
    "            # Case 1: No children\n",
    "            if node.left is None and node.right is None:\n",
    "                return None\n",
    "\n",
    "            # Case 2: One child (right child exists)\n",
    "            if node.left is None:\n",
    "                return node.right\n",
    "\n",
    "            # Case 2: One child (left child exists)\n",
    "            if node.right is None:\n",
    "                return node.left\n",
    "\n",
    "            # Case 3: Two children\n",
    "            min_value = self._find_min(node.right)\n",
    "            node.value = min_value\n",
    "            node.right = self._delete_recursive(node.right, min_value)\n",
    "\n",
    "        return node\n",
    "\n",
    "    def delete_node(self, value):\n",
    "        self.root = self._delete_recursive(self.root, value)"
   ]
  },
  {
   "cell_type": "code",
   "execution_count": 66,
   "id": "52afbf00",
   "metadata": {},
   "outputs": [],
   "source": [
    "import pytest\n",
    "\n",
    "\n",
    "@pytest.fixture\n",
    "def get_r_bst():\n",
    "    return BinarySearchTree()"
   ]
  },
  {
   "cell_type": "code",
   "execution_count": 67,
   "id": "1559cc81",
   "metadata": {},
   "outputs": [
    {
     "name": "stdout",
     "output_type": "stream",
     "text": [
      "\u001b[32m.\u001b[0m\u001b[32m                                                                                            [100%]\u001b[0m\n",
      "\u001b[32m\u001b[32m\u001b[1m1 passed\u001b[0m\u001b[32m in 0.01s\u001b[0m\u001b[0m\n",
      "\u001b[32m                                                                                            [100%]\u001b[0m\n",
      "\u001b[32m\u001b[32m\u001b[1m1 passed\u001b[0m\u001b[32m in 0.01s\u001b[0m\u001b[0m\n"
     ]
    }
   ],
   "source": [
    "%%ipytest\n",
    "\n",
    "def test(get_r_bst):\n",
    "    get_r_bst.insert(47)\n",
    "    get_r_bst.insert(21)\n",
    "    get_r_bst.insert(76)\n",
    "    get_r_bst.insert(18)\n",
    "    get_r_bst.insert(27)\n",
    "    get_r_bst.insert(52)\n",
    "    get_r_bst.insert(82)\n",
    "\n",
    "    assert get_r_bst.r_contains(27)\n",
    "    assert get_r_bst.r_contains(17) == False\n",
    "\n"
   ]
  },
  {
   "cell_type": "code",
   "execution_count": 68,
   "id": "47a99113",
   "metadata": {},
   "outputs": [
    {
     "name": "stdout",
     "output_type": "stream",
     "text": [
      "\u001b[32m.\u001b[0m\u001b[32m                                                                                            [100%]\u001b[0m\n",
      "\u001b[32m\u001b[32m\u001b[1m1 passed\u001b[0m\u001b[32m in 0.00s\u001b[0m\u001b[0m\n",
      "\u001b[32m                                                                                            [100%]\u001b[0m\n",
      "\u001b[32m\u001b[32m\u001b[1m1 passed\u001b[0m\u001b[32m in 0.00s\u001b[0m\u001b[0m\n"
     ]
    }
   ],
   "source": [
    "%%ipytest\n",
    "\n",
    "def test(get_r_bst):\n",
    "    get_r_bst.insert(2)\n",
    "    get_r_bst.insert(1)\n",
    "    get_r_bst.insert(3)\n",
    "\n",
    "    assert(str(get_r_bst.root)) == \"node:2\"\n",
    "    assert(str(get_r_bst.root.left)) == \"node:1\"\n",
    "    assert(str(get_r_bst.root.right)) == \"node:3\""
   ]
  },
  {
   "cell_type": "code",
   "execution_count": 69,
   "id": "27e7ec52",
   "metadata": {},
   "outputs": [
    {
     "name": "stdout",
     "output_type": "stream",
     "text": [
      "\u001b[32m.\u001b[0m\u001b[32m                                                                                            [100%]\u001b[0m\n",
      "\u001b[32m\u001b[32m\u001b[1m1 passed\u001b[0m\u001b[32m in 0.01s\u001b[0m\u001b[0m\n",
      "\u001b[32m                                                                                            [100%]\u001b[0m\n",
      "\u001b[32m\u001b[32m\u001b[1m1 passed\u001b[0m\u001b[32m in 0.01s\u001b[0m\u001b[0m\n"
     ]
    }
   ],
   "source": [
    "%%ipytest\n",
    "\n",
    "def test(get_r_bst):\n",
    "    get_r_bst.insert(2)\n",
    "    get_r_bst.insert(1)\n",
    "    get_r_bst.insert(3)\n",
    "    get_r_bst.delete_node(2)\n",
    "\n",
    "    assert(str(get_r_bst.root)) == \"node:3\"\n",
    "    assert(str(get_r_bst.root.left)) == \"node:1\"\n",
    "    assert(str(get_r_bst.root.right)) == \"None\"\n",
    "\n",
    "\n",
    "    get_r_bst.delete_node(3)\n",
    "\n",
    "    assert(str(get_r_bst.root)) == \"node:1\"\n",
    "    assert(str(get_r_bst.root.left)) == \"None\"\n",
    "    assert(str(get_r_bst.root.right)) == \"None\""
   ]
  }
 ],
 "metadata": {
  "kernelspec": {
   "display_name": ".venv",
   "language": "python",
   "name": "python3"
  },
  "language_info": {
   "codemirror_mode": {
    "name": "ipython",
    "version": 3
   },
   "file_extension": ".py",
   "mimetype": "text/x-python",
   "name": "python",
   "nbconvert_exporter": "python",
   "pygments_lexer": "ipython3",
   "version": "3.10.12"
  }
 },
 "nbformat": 4,
 "nbformat_minor": 5
}
